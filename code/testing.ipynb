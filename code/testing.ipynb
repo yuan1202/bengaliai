{
 "cells": [
  {
   "cell_type": "code",
   "execution_count": 3,
   "metadata": {},
   "outputs": [],
   "source": [
    "import os\n",
    "\n",
    "import numpy as np\n",
    "import pandas as pd\n",
    "import bloscpack as bp\n",
    "\n",
    "import matplotlib.pyplot as plt\n",
    "\n",
    "import imgaug as ia\n",
    "import imgaug.augmenters as iaa\n",
    "\n",
    "import torch\n",
    "from torch.utils.data.dataloader import DataLoader\n",
    "\n",
    "import fastai\n",
    "from fastai.vision import *\n",
    "\n",
    "from optim import Over9000\n",
    "\n",
    "from data import Bengaliai_DS\n",
    "from model import *\n",
    "from model_utils import *"
   ]
  },
  {
   "cell_type": "code",
   "execution_count": null,
   "metadata": {},
   "outputs": [],
   "source": []
  },
  {
   "cell_type": "markdown",
   "metadata": {},
   "source": [
    "---"
   ]
  },
  {
   "cell_type": "code",
   "execution_count": 67,
   "metadata": {},
   "outputs": [],
   "source": [
    "def rand_bboxes_FlantIndices(size, lam):\n",
    "    H = size[2]\n",
    "    W = size[3]\n",
    "    \n",
    "    index_addition = np.arange(size[0]) * H * W\n",
    "    \n",
    "    cut_ratios = np.sqrt(1. - lam)\n",
    "    cut_ws = np.round(W * cut_ratios).astype(int)\n",
    "    cut_hs = np.round(H * cut_ratios).astype(int)\n",
    "\n",
    "    # uniform\n",
    "    cx = np.random.randint(W, size=cut_ratios.shape[0])\n",
    "    cy = np.random.randint(H, size=cut_ratios.shape[0])\n",
    "\n",
    "    bbx0s = np.clip(cx - cut_ws // 2, 0, W)\n",
    "    bby0s = np.clip(cy - cut_hs // 2, 0, H)\n",
    "    bbx1s = np.clip(cx + cut_ws // 2, 0, W)\n",
    "    bby1s = np.clip(cy + cut_hs // 2, 0, H)\n",
    "    \n",
    "    multi_indices = [np.meshgrid(np.arange(x0, x1), np.arange(y0, y1)) for x0, x1, y0, y1 in zip(bbx0s, bbx1s, bby0s, bby1s)]\n",
    "    multi_indices_rvl = [np.ravel_multi_index(lst[::-1], (H, W)).flatten() for lst in multi_indices]\n",
    "    \n",
    "    boxes_in_flattened_indices = np.concatenate([index_r + addition for index_r, addition in zip(multi_indices_rvl, index_addition)])\n",
    "    new_lambda = 1 - ((bbx1s - bbx0s) * (bby1s - bby0s) / (H * W))\n",
    "    \n",
    "    return boxes_in_flattened_indices, new_lambda"
   ]
  },
  {
   "cell_type": "code",
   "execution_count": 99,
   "metadata": {},
   "outputs": [],
   "source": [
    "a = torch.from_numpy(np.zeros((64, 1, 128, 128)))\n",
    "b = torch.from_numpy(np.ones((64, 1, 128, 128)))"
   ]
  },
  {
   "cell_type": "code",
   "execution_count": null,
   "metadata": {},
   "outputs": [],
   "source": [
    "lambd = np.random.beta(self.alpha, self.alpha, last_target.size(0))"
   ]
  },
  {
   "cell_type": "code",
   "execution_count": 70,
   "metadata": {},
   "outputs": [],
   "source": [
    "shuffle = torch.randperm(a.size(0)).to(a.device)\n",
    "a_wip = a[shuffle]"
   ]
  },
  {
   "cell_type": "code",
   "execution_count": 71,
   "metadata": {},
   "outputs": [],
   "source": [
    "flattened_indices, lambd = rand_bboxes_FlantIndices(a.size(), lambd)"
   ]
  },
  {
   "cell_type": "code",
   "execution_count": 89,
   "metadata": {},
   "outputs": [
    {
     "data": {
      "text/plain": [
       "array([  10256,   10257,   10258,   10259, ..., 1045116, 1045117, 1045118, 1045119])"
      ]
     },
     "execution_count": 89,
     "metadata": {},
     "output_type": "execute_result"
    }
   ],
   "source": [
    "flattened_indices"
   ]
  },
  {
   "cell_type": "code",
   "execution_count": 103,
   "metadata": {},
   "outputs": [],
   "source": [
    "a_newview = a.view(-1)"
   ]
  },
  {
   "cell_type": "code",
   "execution_count": 104,
   "metadata": {},
   "outputs": [],
   "source": [
    "a_newview[torch.from_numpy(flattened_indices)] = b.view(-1)[torch.from_numpy(flattened_indices)]"
   ]
  },
  {
   "cell_type": "code",
   "execution_count": 95,
   "metadata": {},
   "outputs": [
    {
     "data": {
      "text/plain": [
       "tensor([0., 1.], dtype=torch.float64)"
      ]
     },
     "execution_count": 95,
     "metadata": {},
     "output_type": "execute_result"
    }
   ],
   "source": [
    "a_newview[10255:10257]"
   ]
  },
  {
   "cell_type": "code",
   "execution_count": 105,
   "metadata": {},
   "outputs": [],
   "source": [
    "c = a[0, 0].detach().numpy()"
   ]
  },
  {
   "cell_type": "code",
   "execution_count": 106,
   "metadata": {},
   "outputs": [
    {
     "data": {
      "text/plain": [
       "1.0"
      ]
     },
     "execution_count": 106,
     "metadata": {},
     "output_type": "execute_result"
    }
   ],
   "source": [
    "c.max()"
   ]
  },
  {
   "cell_type": "code",
   "execution_count": 107,
   "metadata": {},
   "outputs": [
    {
     "data": {
      "text/plain": [
       "<matplotlib.image.AxesImage at 0x7f6b40473a10>"
      ]
     },
     "execution_count": 107,
     "metadata": {},
     "output_type": "execute_result"
    },
    {
     "data": {
      "image/png": "[encoded data removed]",
      "text/plain": [
       "<Figure size 432x288 with 1 Axes>"
      ]
     },
     "metadata": {
      "needs_background": "light"
     },
     "output_type": "display_data"
    }
   ],
   "source": [
    "plt.imshow(c)"
   ]
  },
  {
   "cell_type": "code",
   "execution_count": 1,
   "metadata": {},
   "outputs": [],
   "source": [
    "W = H = 10"
   ]
  },
  {
   "cell_type": "code",
   "execution_count": 16,
   "metadata": {},
   "outputs": [],
   "source": [
    "index_addition = np.arange(15) * H * W"
   ]
  },
  {
   "cell_type": "code",
   "execution_count": 63,
   "metadata": {},
   "outputs": [
    {
     "data": {
      "text/plain": [
       "array([0.454367, 0.998082, 0.730278, 0.048381, 0.017645, 0.135105, 0.039587, 0.919232, 0.043179, 0.935284, 0.539664,\n",
       "       0.97293 , 0.306828, 0.022268, 0.013022])"
      ]
     },
     "execution_count": 63,
     "metadata": {},
     "output_type": "execute_result"
    }
   ],
   "source": [
    "lambd = np.random.beta(.4, .4, 15)\n",
    "lambd"
   ]
  },
  {
   "cell_type": "code",
   "execution_count": 5,
   "metadata": {},
   "outputs": [
    {
     "data": {
      "text/plain": [
       "array([0.556331, 0.78666 , 0.44614 , 0.621908, 0.298942, 0.966279, 0.890548, 0.006874, 0.996638, 0.964848, 0.898965,\n",
       "       0.017129, 0.968496, 0.596709, 0.346339])"
      ]
     },
     "execution_count": 5,
     "metadata": {},
     "output_type": "execute_result"
    }
   ],
   "source": [
    "cut_rat = np.sqrt(1. - lambd)\n",
    "cut_rat"
   ]
  },
  {
   "cell_type": "code",
   "execution_count": 8,
   "metadata": {},
   "outputs": [
    {
     "data": {
      "text/plain": [
       "array([ 6,  8,  4,  6,  3, 10,  9,  0, 10, 10,  9,  0, 10,  6,  3])"
      ]
     },
     "execution_count": 8,
     "metadata": {},
     "output_type": "execute_result"
    }
   ],
   "source": [
    "cut_w = np.round(W * cut_rat).astype(int)\n",
    "cut_h = np.round(H * cut_rat).astype(int)\n",
    "cut_w"
   ]
  },
  {
   "cell_type": "code",
   "execution_count": 9,
   "metadata": {},
   "outputs": [
    {
     "data": {
      "text/plain": [
       "array([8, 6, 7, 8, 5, 4, 6, 4, 0, 7, 0, 5, 5, 1, 6])"
      ]
     },
     "execution_count": 9,
     "metadata": {},
     "output_type": "execute_result"
    }
   ],
   "source": [
    "cx = np.random.randint(W, size=cut_rat.shape[0])\n",
    "cy = np.random.randint(H, size=cut_rat.shape[0])\n",
    "cx"
   ]
  },
  {
   "cell_type": "code",
   "execution_count": null,
   "metadata": {},
   "outputs": [],
   "source": [
    "bbx1 = np.clip(cx - cut_w // 2, 0, W)\n",
    "bby1 = np.clip(cy - cut_h // 2, 0, H)\n",
    "bbx2 = np.clip(cx + cut_w // 2, 0, W)\n",
    "bby2 = np.clip(cy + cut_h // 2, 0, H)"
   ]
  },
  {
   "cell_type": "code",
   "execution_count": 64,
   "metadata": {},
   "outputs": [],
   "source": [
    "lambd0 = 1 - ((bbx2 - bbx1) * (bby2 - bby1) / (H * W))"
   ]
  },
  {
   "cell_type": "code",
   "execution_count": 66,
   "metadata": {},
   "outputs": [
    {
     "data": {
      "text/plain": [
       "15"
      ]
     },
     "execution_count": 66,
     "metadata": {},
     "output_type": "execute_result"
    }
   ],
   "source": [
    "len(lambd0)"
   ]
  },
  {
   "cell_type": "code",
   "execution_count": 36,
   "metadata": {},
   "outputs": [
    {
     "name": "stdout",
     "output_type": "stream",
     "text": [
      "0 : \t 3 \t 9 \t 5 \t 10\n",
      "1 : \t 0 \t 4 \t 2 \t 10\n",
      "2 : \t 0 \t 4 \t 5 \t 9\n",
      "3 : \t 2 \t 8 \t 5 \t 10\n",
      "4 : \t 0 \t 2 \t 4 \t 6\n",
      "5 : \t 0 \t 9 \t 0 \t 9\n",
      "6 : \t 0 \t 8 \t 2 \t 10\n",
      "7 : \t 7 \t 7 \t 4 \t 4\n",
      "8 : \t 3 \t 10 \t 0 \t 5\n",
      "9 : \t 0 \t 6 \t 2 \t 10\n",
      "10 : \t 5 \t 10 \t 0 \t 4\n",
      "11 : \t 4 \t 4 \t 5 \t 5\n",
      "12 : \t 1 \t 10 \t 0 \t 10\n",
      "13 : \t 3 \t 9 \t 0 \t 4\n",
      "14 : \t 5 \t 7 \t 5 \t 7\n"
     ]
    }
   ],
   "source": [
    "for i, (y1, y2, x1, x2) in enumerate(zip(bby1, bby2, bbx1, bbx2)):\n",
    "    print(i, ':', '\\t', y1, '\\t', y2, '\\t', x1, '\\t', x2)"
   ]
  },
  {
   "cell_type": "code",
   "execution_count": 11,
   "metadata": {},
   "outputs": [],
   "source": [
    "multi_indices = [np.meshgrid(np.arange(x1, x2), np.arange(y1, y2)) for x1, x2, y1, y2 in zip(bbx1, bbx2, bby1, bby2)]"
   ]
  },
  {
   "cell_type": "code",
   "execution_count": 13,
   "metadata": {},
   "outputs": [
    {
     "data": {
      "text/plain": [
       "[array([[5, 6, 7, 8, 9],\n",
       "        [5, 6, 7, 8, 9],\n",
       "        [5, 6, 7, 8, 9],\n",
       "        [5, 6, 7, 8, 9],\n",
       "        [5, 6, 7, 8, 9],\n",
       "        [5, 6, 7, 8, 9]]), array([[3, 3, 3, 3, 3],\n",
       "        [4, 4, 4, 4, 4],\n",
       "        [5, 5, 5, 5, 5],\n",
       "        [6, 6, 6, 6, 6],\n",
       "        [7, 7, 7, 7, 7],\n",
       "        [8, 8, 8, 8, 8]])]"
      ]
     },
     "execution_count": 13,
     "metadata": {},
     "output_type": "execute_result"
    }
   ],
   "source": [
    "multi_indices[0]"
   ]
  },
  {
   "cell_type": "code",
   "execution_count": 14,
   "metadata": {},
   "outputs": [
    {
     "data": {
      "text/plain": [
       "array([35, 36, 37, 38, 39, 45, 46, 47, 48, 49, 55, 56, 57, 58, 59, 65, 66, 67, 68, 69, 75, 76, 77, 78, 79, 85, 86, 87,\n",
       "       88, 89])"
      ]
     },
     "execution_count": 14,
     "metadata": {},
     "output_type": "execute_result"
    }
   ],
   "source": [
    "np.ravel_multi_index(multi_indices[0][::-1], (H, W)).flatten()"
   ]
  },
  {
   "cell_type": "code",
   "execution_count": 15,
   "metadata": {},
   "outputs": [],
   "source": [
    "multi_indices_r = [np.ravel_multi_index(lst[::-1], (H, W)).flatten() for lst in multi_indices]"
   ]
  },
  {
   "cell_type": "code",
   "execution_count": 17,
   "metadata": {},
   "outputs": [],
   "source": [
    "flattened_indices = np.concatenate([indices_r + addition for indices_r, addition in zip(multi_indices_r, index_addition)])"
   ]
  },
  {
   "cell_type": "code",
   "execution_count": 18,
   "metadata": {},
   "outputs": [
    {
     "data": {
      "text/plain": [
       "array([  35,   36,   37,   38, ..., 1455, 1456, 1465, 1466])"
      ]
     },
     "execution_count": 18,
     "metadata": {},
     "output_type": "execute_result"
    }
   ],
   "source": [
    "flattened_indices"
   ]
  },
  {
   "cell_type": "code",
   "execution_count": 22,
   "metadata": {},
   "outputs": [],
   "source": [
    "aaa = np.zeros((15, 1, 10, 10))\n",
    "bbb = aaa.flatten()\n",
    "bbb[flattened_indices] = 1\n",
    "ccc = bbb.reshape(*aaa.shape)"
   ]
  },
  {
   "cell_type": "code",
   "execution_count": 35,
   "metadata": {},
   "outputs": [
    {
     "data": {
      "text/plain": [
       "<matplotlib.image.AxesImage at 0x7f6b42e94690>"
      ]
     },
     "execution_count": 35,
     "metadata": {},
     "output_type": "execute_result"
    },
    {
     "data": {
      "image/png": "[encoded data removed]",
      "text/plain": [
       "<Figure size 432x288 with 1 Axes>"
      ]
     },
     "metadata": {
      "needs_background": "light"
     },
     "output_type": "display_data"
    }
   ],
   "source": [
    "plt.imshow(ccc[2, 0])"
   ]
  },
  {
   "cell_type": "markdown",
   "metadata": {},
   "source": [
    "---"
   ]
  },
  {
   "cell_type": "code",
   "execution_count": 6,
   "metadata": {},
   "outputs": [],
   "source": [
    "SEED = 20190819\n",
    "\n",
    "def seed_everything(seed):\n",
    "    random.seed(seed)\n",
    "    os.environ['PYTHONHASHSEED'] = str(seed)\n",
    "    np.random.seed(seed)\n",
    "    torch.manual_seed(seed)\n",
    "    torch.cuda.manual_seed(seed)\n",
    "    torch.backends.cudnn.deterministic = True\n",
    "    torch.backends.cudnn.benchmark = True\n",
    "\n",
    "seed_everything(SEED)"
   ]
  },
  {
   "cell_type": "markdown",
   "metadata": {},
   "source": [
    "---\n",
    "### data"
   ]
  },
  {
   "cell_type": "raw",
   "metadata": {},
   "source": [
    "?DataBunch"
   ]
  },
  {
   "cell_type": "code",
   "execution_count": 7,
   "metadata": {},
   "outputs": [],
   "source": [
    "trn_imgs = bp.unpack_ndarray_from_file('../features/train_images_size160_pad8.bloscpack')\n",
    "# see preprocess notebook, it's shown that the train.csv data sequence is the same and can just load like this.\n",
    "trn_lbls = pd.read_csv('../input/train.csv').iloc[:, 1:4].values"
   ]
  },
  {
   "cell_type": "code",
   "execution_count": 423,
   "metadata": {},
   "outputs": [],
   "source": [
    "augs = iaa.SomeOf(\n",
    "    (0, 3),\n",
    "    [\n",
    "        iaa.OneOf(\n",
    "            [\n",
    "                iaa.Affine(scale={\"x\": (0.8, 1.1), \"y\": (0.8, 1.1)}, rotate=(-15, 15), shear=(-15, 15)),\n",
    "                iaa.PiecewiseAffine(scale=(0.02, 0.03)),\n",
    "                iaa.PerspectiveTransform(scale=.09, keep_size=True),\n",
    "            ]\n",
    "        ),\n",
    "        iaa.GaussianBlur(sigma=(0.5, 1.)),\n",
    "#         iaa.OneOf(\n",
    "#             [\n",
    "#                 iaa.GaussianBlur(sigma=(0.5, 1.)),\n",
    "#                 iaa.MotionBlur(k=(7, 13), angle=[-45, 45]),\n",
    "#                 iaa.MedianBlur(k=(3, 5)),\n",
    "#             ]\n",
    "#         ),\n",
    "        iaa.OneOf(\n",
    "            [\n",
    "                iaa.DirectedEdgeDetect(alpha=(.6, .8), direction=(0.0, 1.0)),\n",
    "                iaa.Emboss(alpha=(.5, 1.), strength=(.1, 4)),\n",
    "            ]\n",
    "        ),\n",
    "#         iaa.CoarseDropout((0.05, 0.15), size_percent=(0.15, 0.35)),\n",
    "#         iaa.Fog(),\n",
    "    ],\n",
    "    random_order=True\n",
    ")"
   ]
  },
  {
   "cell_type": "code",
   "execution_count": 24,
   "metadata": {},
   "outputs": [],
   "source": [
    "import cv2"
   ]
  },
  {
   "cell_type": "code",
   "execution_count": 180,
   "metadata": {},
   "outputs": [
    {
     "data": {
      "text/plain": [
       "<matplotlib.image.AxesImage at 0x7f20f7b14c10>"
      ]
     },
     "execution_count": 180,
     "metadata": {},
     "output_type": "execute_result"
    },
    {
     "data": {
      "image/png": "[encoded data removed]",
      "text/plain": [
       "<Figure size 864x432 with 2 Axes>"
      ]
     },
     "metadata": {
      "needs_background": "light"
     },
     "output_type": "display_data"
    }
   ],
   "source": [
    "# kernel = np.ones((3, 3), np.uint8)\n",
    "# def augs(image): return cv2.erode(image, kernel, iterations=1)\n",
    "augs = iaa.SomeOf(\n",
    "    (1, 2),\n",
    "    [\n",
    "        iaa.SomeOf(\n",
    "            (1, 2),\n",
    "            [\n",
    "                iaa.OneOf(\n",
    "                    [\n",
    "                        iaa.Affine(scale={\"x\": (0.8, 1.), \"y\": (0.8, 1.)}, rotate=(-15, 15), shear=(-15, 15)),\n",
    "                        iaa.PerspectiveTransform(scale=.08, keep_size=True),\n",
    "                    ]\n",
    "                ),\n",
    "                iaa.PiecewiseAffine(scale=(0.02, 0.03)),\n",
    "            ],\n",
    "            random_order=True\n",
    "        ),\n",
    "        iaa.DirectedEdgeDetect(alpha=(.6, .8), direction=(0.0, 1.0)),\n",
    "    ],\n",
    "    random_order=True\n",
    ")\n",
    "img_arr = training_set[2048][0][0][0]\n",
    "# img_arr = np.stack([img_arr, img_arr, img_arr], -1)\n",
    "# img_arr = img_arr[np.newaxis, :]\n",
    "fig, ax = plt.subplots(1, 2, figsize=(12, 6))\n",
    "aug_img = augs(image=img_arr.astype('uint8'))\n",
    "ax[0].imshow(img_arr.astype('uint8'))\n",
    "ax[1].imshow(aug_img)"
   ]
  },
  {
   "cell_type": "code",
   "execution_count": 8,
   "metadata": {},
   "outputs": [],
   "source": [
    "training_set = Bengaliai_DS(trn_imgs[:160000, np.newaxis], trn_lbls[:160000], transform=None, scale=False, norm=False)\n",
    "# validation_set = DS_TRN(trn_imgs[160000:, np.newaxis], trn_lbls[160000:])\n",
    "\n",
    "# training_loader = DataLoader(training_set, batch_size=64, shuffle=True, num_workers=4)\n",
    "# validation_loader = DataLoader(validation_set, batch_size=64, shuffle=False, num_workers=4)\n",
    "\n",
    "# dat_bunch = DataBunch(train_dl=training_loader, valid_dl=validation_loader)"
   ]
  },
  {
   "cell_type": "raw",
   "metadata": {},
   "source": [
    "a = dat_bunch.one_batch()\n",
    "plt.imshow(a[0][0][0])"
   ]
  },
  {
   "cell_type": "raw",
   "metadata": {},
   "source": [
    "sz = 128\n",
    "bs = 128\n",
    "nfolds = 4 #keep the same split as the initial dataset\n",
    "fold = 0\n",
    "\n",
    "\n",
    "TRAIN = '../features/grapheme-imgs-128x128/'\n",
    "LABELS = '../input/train.csv'"
   ]
  },
  {
   "cell_type": "raw",
   "metadata": {},
   "source": [
    "df = pd.read_csv(LABELS)\n",
    "nunique = list(df.nunique())[1:-1]\n",
    "\n",
    "stats = ([0.0692], [0.2051])\n",
    "data = (ImageList.from_df(df, path='.', folder=TRAIN, suffix='.png', \n",
    "        cols='image_id', convert_mode='L')\n",
    "        .split_by_idx(range(fold*len(df)//nfolds,(fold+1)*len(df)//nfolds))\n",
    "        .label_from_df(cols=['grapheme_root','vowel_diacritic','consonant_diacritic'])\n",
    "        .transform(get_transforms(do_flip=False,max_warp=0.1), size=sz, padding_mode='zeros')\n",
    "        .databunch(bs=bs)).normalize(stats)\n",
    "\n",
    "data.show_batch()"
   ]
  },
  {
   "cell_type": "markdown",
   "metadata": {},
   "source": [
    "---\n",
    "### model"
   ]
  },
  {
   "cell_type": "code",
   "execution_count": 9,
   "metadata": {},
   "outputs": [],
   "source": [
    "device = 'cuda:0'\n",
    "n_grapheme = 168\n",
    "n_vowel = 11\n",
    "n_consonant = 7\n",
    "n_total = n_grapheme + n_vowel + n_consonant"
   ]
  },
  {
   "cell_type": "code",
   "execution_count": 10,
   "metadata": {},
   "outputs": [],
   "source": [
    "predictor = PretrainedCNN(out_dim=n_total)\n",
    "classifier = BengaliClassifier(predictor)#.to(device)"
   ]
  },
  {
   "cell_type": "raw",
   "metadata": {},
   "source": [
    "a = np.random.rand(10, 1, 128, 128).astype('float32')\n",
    "b = classifier(torch.from_numpy(a).to(device))"
   ]
  },
  {
   "cell_type": "raw",
   "metadata": {},
   "source": [
    "classifier = Dnet_1ch()"
   ]
  },
  {
   "cell_type": "code",
   "execution_count": 11,
   "metadata": {},
   "outputs": [],
   "source": [
    "learn = Learner(\n",
    "    dat_bunch,\n",
    "    classifier,\n",
    "    loss_func=Loss_combine(),\n",
    "    opt_func=Over9000,\n",
    "    metrics=[Metric_grapheme(), Metric_vowel(), Metric_consonant(),Metric_tot()]\n",
    ")\n",
    "\n",
    "logger = CSVLogger(learn, 'Seresnext_DensenetStarterSetup_Myaugs')\n",
    "\n",
    "learn.clip_grad = 1.0\n",
    "learn.split([classifier.predictor.lin_layers])\n",
    "# learn.split([classifier.head1])\n",
    "learn.unfreeze()"
   ]
  },
  {
   "cell_type": "raw",
   "metadata": {},
   "source": [
    "learn.summary()"
   ]
  },
  {
   "cell_type": "raw",
   "metadata": {},
   "source": [
    "learn.fit_one_cycle(\n",
    "    32,\n",
    "    max_lr=slice(0.2e-2,1e-2),\n",
    "    wd=[1e-3, 0.1e-1],\n",
    "    pct_start=0.0,\n",
    "    div_factor=100,\n",
    "    callbacks=[logger, SaveModelCallback(learn,monitor='metric_tot', mode='max', name='Seresnext_DensenetStarterSetup_Myaugs'), MixUpCallback(learn)]\n",
    ")"
   ]
  }
 ],
 "metadata": {
  "kernelspec": {
   "display_name": "Python 3",
   "language": "python",
   "name": "python3"
  },
  "language_info": {
   "codemirror_mode": {
    "name": "ipython",
    "version": 3
   },
   "file_extension": ".py",
   "mimetype": "text/x-python",
   "name": "python",
   "nbconvert_exporter": "python",
   "pygments_lexer": "ipython3",
   "version": "3.7.5"
  }
 },
 "nbformat": 4,
 "nbformat_minor": 4
}
