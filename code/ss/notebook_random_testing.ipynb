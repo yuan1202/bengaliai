{
 "cells": [
  {
   "cell_type": "code",
   "execution_count": 1,
   "metadata": {},
   "outputs": [],
   "source": [
    "import os, random\n",
    "import numpy as np\n",
    "import pandas as pd\n",
    "import bloscpack as bp\n",
    "from sklearn.model_selection import StratifiedKFold\n",
    "from iterstrat.ml_stratifiers import MultilabelStratifiedKFold\n",
    "\n",
    "from sklearn.metrics import recall_score\n",
    "\n",
    "import imgaug as ia\n",
    "import imgaug.augmenters as iaa\n",
    "\n",
    "import torch\n",
    "from torch.utils.data.dataloader import DataLoader\n",
    "from torch.nn.utils import clip_grad_value_\n",
    "import torch.nn.functional as F\n",
    "from torch.optim.lr_scheduler import ReduceLROnPlateau\n",
    "\n",
    "# from apex import amp\n",
    "\n",
    "from optim import Over9000\n",
    "\n",
    "from data import Bengaliai_DS\n",
    "from models_mg import Simple50GeM\n",
    "from mixup_pytorch_utils import MuCm, mixup_loss\n",
    "from loss import CenterLoss, AngularPenaltySMLoss\n",
    "import utils\n",
    "\n",
    "import cv2\n",
    "cv2.setNumThreads(1)\n",
    "\n",
    "\n",
    "# =========================================================================================================================\n",
    "\n",
    "SEED = 19841202\n",
    "\n",
    "def seed_everything(seed):\n",
    "    random.seed(seed)\n",
    "    os.environ['PYTHONHASHSEED'] = str(seed)\n",
    "    np.random.seed(seed)\n",
    "    torch.manual_seed(seed)\n",
    "    torch.cuda.manual_seed(seed)\n",
    "    torch.backends.cudnn.deterministic = True\n",
    "    torch.backends.cudnn.benchmark = True\n",
    "\n",
    "seed_everything(SEED)\n",
    "\n",
    "\n",
    "# =========================================================================================================================\n",
    "\n",
    "augs =  iaa.SomeOf(\n",
    "    (0, 2),\n",
    "    [\n",
    "        iaa.OneOf(\n",
    "            [\n",
    "                iaa.Affine(scale={\"x\": (0.8, 1.2), \"y\": (0.8, 1.2)}, rotate=(-20, 20), shear=(-20, 20)),\n",
    "                iaa.PerspectiveTransform(scale=.09, keep_size=True),\n",
    "            ]\n",
    "        ),\n",
    "        iaa.PiecewiseAffine(scale=(0.02, 0.04)),\n",
    "        # iaa.CoarseDropout(p=(.1, .2), size_percent=(.1, .2)),\n",
    "        iaa.DirectedEdgeDetect(alpha=(.01, .99), direction=(0.0, 1.0)),\n",
    "    ],\n",
    "    random_order=True\n",
    ")\n",
    "\n",
    "# =========================================================================================================================\n",
    "\n",
    "pdf = pd.read_csv('../input/train.csv')\n",
    "pdf['combo'] = pdf.apply(lambda row: '_'.join([str(row['grapheme_root']), str(row['vowel_diacritic']), str(row['consonant_diacritic'])]), axis=1)\n",
    "unique_grapheme = pdf['combo'].unique() # 1292\n",
    "grapheme_code = dict([(g, c) for g, c in zip(unique_grapheme, np.arange(unique_grapheme.shape[0]))])\n",
    "pdf['grapheme_code'] = [grapheme_code[g] for g in pdf['combo']]\n",
    "\n",
    "skf = StratifiedKFold(n_splits=7, shuffle=True, random_state=19841202)\n",
    "for trn_ndx, vld_ndx in skf.split(pdf['grapheme_code'], pdf['grapheme_code']):\n",
    "    break\n",
    "    \n",
    "trn_pdf = pdf.iloc[trn_ndx, :]\n",
    "trn_pdf.reset_index(inplace=True, drop=True)\n",
    "imgs = bp.unpack_ndarray_from_file('../features/train_images_size128_raw.bloscpack')\n",
    "lbls = pdf.loc[:, ['grapheme_root', 'vowel_diacritic', 'consonant_diacritic', 'grapheme_code']].values\n",
    "\n",
    "trn_imgs = imgs[trn_ndx]\n",
    "trn_lbls = lbls[trn_ndx]\n",
    "vld_imgs = imgs[vld_ndx]\n",
    "vld_lbls = lbls[vld_ndx]\n",
    "\n",
    "\n",
    "training_set = Bengaliai_DS(trn_imgs, trn_lbls, transform=None, scale=False, norm=False, RGB=False)\n",
    "validation_set = Bengaliai_DS(vld_imgs, vld_lbls)\n",
    "\n",
    "batch_size = 64\n",
    "\n",
    "training_loader = DataLoader(training_set, batch_size=batch_size, num_workers=4, shuffle=True)\n",
    "validation_loader = DataLoader(validation_set, batch_size=batch_size, num_workers=4, shuffle=False)"
   ]
  },
  {
   "cell_type": "code",
   "execution_count": 3,
   "metadata": {},
   "outputs": [],
   "source": [
    "for imgs, lbls in training_loader:\n",
    "    break"
   ]
  },
  {
   "cell_type": "code",
   "execution_count": 20,
   "metadata": {},
   "outputs": [],
   "source": [
    "trn_imgs_batch_device_mixup, trn_lbls_batch_device_shfl, gamma = MuCm(imgs, lbls)"
   ]
  },
  {
   "cell_type": "code",
   "execution_count": 21,
   "metadata": {},
   "outputs": [
    {
     "data": {
      "text/plain": [
       "tensor([0.7009, 0.9587, 0.7803, 0.5896, 0.9587, 0.9587, 0.9587, 0.9587, 0.8708,\n",
       "        0.9587, 0.9375, 0.8474, 0.6475, 0.9587, 0.9587, 0.5693, 0.9587, 0.8818,\n",
       "        0.6658, 0.9587, 0.6287, 0.6475, 0.9587, 0.9587, 0.9451, 0.9209, 0.9521,\n",
       "        0.8923, 0.9119, 0.6287, 0.8818, 0.6475, 0.9587, 0.8350, 0.6836, 0.6287,\n",
       "        0.9587, 0.9587, 0.5273, 0.9587, 0.9451, 0.8474, 0.9587, 0.9451, 0.6475,\n",
       "        0.7341, 0.6475, 0.6287, 0.9587, 0.7500, 0.7500, 0.8086, 0.9521, 0.9023,\n",
       "        0.8220, 0.9587, 0.7009, 0.5273, 0.9294, 0.5273, 0.9587, 0.9023, 0.6475,\n",
       "        0.9587])"
      ]
     },
     "execution_count": 21,
     "metadata": {},
     "output_type": "execute_result"
    }
   ],
   "source": [
    "gamma"
   ]
  },
  {
   "cell_type": "code",
   "execution_count": 22,
   "metadata": {},
   "outputs": [],
   "source": [
    "a = trn_imgs_batch_device_mixup.numpy()"
   ]
  },
  {
   "cell_type": "code",
   "execution_count": 10,
   "metadata": {},
   "outputs": [],
   "source": [
    "import matplotlib.pyplot as plt"
   ]
  },
  {
   "cell_type": "code",
   "execution_count": 29,
   "metadata": {},
   "outputs": [
    {
     "data": {
      "text/plain": [
       "<matplotlib.image.AxesImage at 0x7ff500be3c90>"
      ]
     },
     "execution_count": 29,
     "metadata": {},
     "output_type": "execute_result"
    },
    {
     "data": {
      "image/png": "[encoded data removed]",
      "text/plain": [
       "<Figure size 432x288 with 1 Axes>"
      ]
     },
     "metadata": {
      "needs_background": "light"
     },
     "output_type": "display_data"
    }
   ],
   "source": [
    "plt.imshow(a[1, 0])"
   ]
  }
 ],
 "metadata": {
  "kernelspec": {
   "display_name": "Python 3",
   "language": "python",
   "name": "python3"
  },
  "language_info": {
   "codemirror_mode": {
    "name": "ipython",
    "version": 3
   },
   "file_extension": ".py",
   "mimetype": "text/x-python",
   "name": "python",
   "nbconvert_exporter": "python",
   "pygments_lexer": "ipython3",
   "version": "3.7.6"
  }
 },
 "nbformat": 4,
 "nbformat_minor": 4
}
