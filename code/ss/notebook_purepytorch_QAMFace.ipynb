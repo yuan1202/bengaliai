{
 "cells": [
  {
   "cell_type": "code",
   "execution_count": 1,
   "metadata": {},
   "outputs": [],
   "source": [
    "import os, random\n",
    "import numpy as np\n",
    "import pandas as pd\n",
    "import bloscpack as bp\n",
    "from sklearn.model_selection import StratifiedKFold\n",
    "from iterstrat.ml_stratifiers import MultilabelStratifiedKFold\n",
    "\n",
    "from sklearn.metrics import recall_score\n",
    "\n",
    "import imgaug as ia\n",
    "import imgaug.augmenters as iaa\n",
    "\n",
    "import torch\n",
    "from torch.utils.data.dataloader import DataLoader\n",
    "from torch.nn.utils import clip_grad_value_\n",
    "import torch.nn.functional as F\n",
    "\n",
    "from optim import Over9000\n",
    "\n",
    "from data import Bengaliai_DS\n",
    "from models_mg import Simple50GeM\n",
    "from mixup_pytorch_utils import mixup, mixup_loss\n",
    "from loss import CenterLoss, QAMFace\n",
    "import utils\n",
    "\n",
    "import cv2\n",
    "cv2.setNumThreads(1)"
   ]
  },
  {
   "cell_type": "markdown",
   "metadata": {},
   "source": [
    "---"
   ]
  },
  {
   "cell_type": "code",
   "execution_count": 2,
   "metadata": {},
   "outputs": [],
   "source": [
    "SEED = 19841202\n",
    "\n",
    "def seed_everything(seed):\n",
    "    random.seed(seed)\n",
    "    os.environ['PYTHONHASHSEED'] = str(seed)\n",
    "    np.random.seed(seed)\n",
    "    torch.manual_seed(seed)\n",
    "    torch.cuda.manual_seed(seed)\n",
    "    torch.backends.cudnn.deterministic = True\n",
    "    torch.backends.cudnn.benchmark = True\n",
    "\n",
    "seed_everything(SEED)"
   ]
  },
  {
   "cell_type": "markdown",
   "metadata": {},
   "source": [
    "---\n",
    "### data"
   ]
  },
  {
   "cell_type": "markdown",
   "metadata": {},
   "source": [
    "#### augmentation"
   ]
  },
  {
   "cell_type": "code",
   "execution_count": 3,
   "metadata": {},
   "outputs": [],
   "source": [
    "augs = iaa.SomeOf(\n",
    "    (0, 3),\n",
    "    [\n",
    "        iaa.PiecewiseAffine(scale=(.02, .04)),\n",
    "        iaa.DirectedEdgeDetect(alpha=(.6, .8), direction=(0.0, 1.0)),\n",
    "        iaa.CoarseDropout(p=(.1, .2), size_percent=(0.05, 0.1)),\n",
    "    ],\n",
    "    random_order=True\n",
    ")"
   ]
  },
  {
   "cell_type": "markdown",
   "metadata": {},
   "source": [
    "#### stratification"
   ]
  },
  {
   "cell_type": "code",
   "execution_count": 4,
   "metadata": {},
   "outputs": [],
   "source": [
    "pdf = pd.read_csv('../input/train.csv')\n",
    "pdf['combo'] = pdf.apply(lambda row: '_'.join([str(row['grapheme_root']), str(row['vowel_diacritic']), str(row['consonant_diacritic'])]), axis=1)\n",
    "unique_grapheme = pdf['combo'].unique() # 1292\n",
    "grapheme_code = dict([(g, c) for g, c in zip(unique_grapheme, np.arange(unique_grapheme.shape[0]))])\n",
    "pdf['grapheme_code'] = [grapheme_code[g] for g in pdf['combo']]\n",
    "\n",
    "skf = StratifiedKFold(n_splits=7, shuffle=True, random_state=19841202)\n",
    "for trn_ndx, vld_ndx in skf.split(pdf['grapheme_code'], pdf['grapheme_code']):\n",
    "    break\n",
    "    \n",
    "trn_pdf = pdf.iloc[trn_ndx, :]\n",
    "trn_pdf.reset_index(inplace=True, drop=True)\n",
    "imgs = bp.unpack_ndarray_from_file('../features/train_images_size128_pad3.bloscpack')\n",
    "lbls = pdf.loc[:, ['grapheme_root', 'vowel_diacritic', 'consonant_diacritic', 'grapheme_code']].values\n",
    "\n",
    "trn_imgs = imgs[trn_ndx]\n",
    "trn_lbls = lbls[trn_ndx]\n",
    "vld_imgs = imgs[vld_ndx]\n",
    "vld_lbls = lbls[vld_ndx]"
   ]
  },
  {
   "cell_type": "code",
   "execution_count": 5,
   "metadata": {},
   "outputs": [],
   "source": [
    "training_set = Bengaliai_DS(trn_imgs, trn_lbls, transform=augs)\n",
    "validation_set = Bengaliai_DS(vld_imgs, vld_lbls)\n",
    "\n",
    "batch_size = 64\n",
    "\n",
    "training_loader = DataLoader(training_set, batch_size=batch_size, num_workers=6, shuffle=True)\n",
    "validation_loader = DataLoader(validation_set, batch_size=batch_size, num_workers=6, shuffle=False)"
   ]
  },
  {
   "cell_type": "markdown",
   "metadata": {},
   "source": [
    "---\n",
    "### model"
   ]
  },
  {
   "cell_type": "code",
   "execution_count": 6,
   "metadata": {},
   "outputs": [],
   "source": [
    "N_EPOCHS = 160\n",
    "\n",
    "feat_loss_weight = .1\n",
    "\n",
    "reduction = 'mean'\n",
    "\n",
    "checkpoint_name = 'pytorch_model_test_epoch{:d}.pth'"
   ]
  },
  {
   "cell_type": "code",
   "execution_count": 7,
   "metadata": {},
   "outputs": [],
   "source": [
    "classifier = Simple50GeM().cuda()\n",
    "g_loser = QAMFace(embedding_size=168, classnum=168).cuda()\n",
    "v_loser = QAMFace(embedding_size=11, classnum=11).cuda()\n",
    "c_loser = QAMFace(embedding_size=7, classnum=7).cuda()\n",
    "\n",
    "optimizer = Over9000(\n",
    "    [\n",
    "        {'params': [g_loser.kernel, v_loser.kernel, c_loser.kernel], 'weight_decay': 5e-4},\n",
    "        {'params': classifier.parameters()}\n",
    "    ],\n",
    "    lr=.01\n",
    ")"
   ]
  },
  {
   "cell_type": "code",
   "execution_count": 8,
   "metadata": {},
   "outputs": [],
   "source": [
    "logger = utils.csv_logger(['training_loss', 'validation_loss', 'GRAPHEME_Recall', 'VOWEL_Recall', 'CONSONANT_Recall', 'Final_Recall'])"
   ]
  },
  {
   "cell_type": "code",
   "execution_count": 9,
   "metadata": {},
   "outputs": [
    {
     "name": "stdout",
     "output_type": "stream",
     "text": [
      "2690/2690 batches: training_loss: 25.664"
     ]
    },
    {
     "ename": "ValueError",
     "evalue": "not enough values to unpack (expected 4, got 3)",
     "output_type": "error",
     "traceback": [
      "\u001b[0;31m---------------------------------------------------------------------------\u001b[0m",
      "\u001b[0;31mValueError\u001b[0m                                Traceback (most recent call last)",
      "\u001b[0;32m<ipython-input-9-80b3924fba7e>\u001b[0m in \u001b[0;36m<module>\u001b[0;34m\u001b[0m\n\u001b[1;32m     59\u001b[0m             \u001b[0;31m# forward pass\u001b[0m\u001b[0;34m\u001b[0m\u001b[0;34m\u001b[0m\u001b[0;34m\u001b[0m\u001b[0m\n\u001b[1;32m     60\u001b[0m             \u001b[0;31m#logits_g, logits_v, logits_c = classifier(vld_imgs_batch_device)\u001b[0m\u001b[0;34m\u001b[0m\u001b[0;34m\u001b[0m\u001b[0;34m\u001b[0m\u001b[0m\n\u001b[0;32m---> 61\u001b[0;31m             \u001b[0mlogits_g\u001b[0m\u001b[0;34m,\u001b[0m \u001b[0mlogits_v\u001b[0m\u001b[0;34m,\u001b[0m \u001b[0mlogits_c\u001b[0m\u001b[0;34m,\u001b[0m \u001b[0mfeats\u001b[0m \u001b[0;34m=\u001b[0m \u001b[0mclassifier\u001b[0m\u001b[0;34m(\u001b[0m\u001b[0mvld_imgs_batch_device\u001b[0m\u001b[0;34m)\u001b[0m\u001b[0;34m\u001b[0m\u001b[0;34m\u001b[0m\u001b[0m\n\u001b[0m\u001b[1;32m     62\u001b[0m \u001b[0;34m\u001b[0m\u001b[0m\n\u001b[1;32m     63\u001b[0m             \u001b[0;31m# loss\u001b[0m\u001b[0;34m\u001b[0m\u001b[0;34m\u001b[0m\u001b[0;34m\u001b[0m\u001b[0m\n",
      "\u001b[0;31mValueError\u001b[0m: not enough values to unpack (expected 4, got 3)"
     ]
    }
   ],
   "source": [
    "for i in range(N_EPOCHS):\n",
    "    logger.new_epoch()\n",
    "    \n",
    "    # train\n",
    "    classifier.train()\n",
    "    \n",
    "    epoch_trn_loss = []\n",
    "    epoch_vld_loss = []\n",
    "    epoch_vld_recall_g, epoch_vld_recall_v, epoch_vld_recall_c, epoch_vld_recall_all = [], [], [], []\n",
    "    \n",
    "    for j, (trn_imgs_batch, trn_lbls_batch) in enumerate(training_loader):\n",
    "        # move to device\n",
    "        trn_imgs_batch_device = trn_imgs_batch.cuda()\n",
    "        trn_lbls_batch_device = trn_lbls_batch.cuda()\n",
    "        \n",
    "        # mixup\n",
    "        #trn_imgs_batch_device_mixup, trn_lbls_batch_device_shfl, gamma = mixup(trn_imgs_batch_device, trn_lbls_batch_device, .8)\n",
    "        \n",
    "        # forward pass\n",
    "        logits_g, logits_v, logits_c = classifier(trn_imgs_batch_device)\n",
    "        \n",
    "        thetas_g = g_loser(logits_g, trn_lbls_batch_device[:, 0])\n",
    "        loss_g = F.cross_entropy(thetas_g, trn_lbls_batch_device[:, 0], reduction=reduction)\n",
    "        thetas_v = v_loser(logits_v, trn_lbls_batch_device[:, 1])\n",
    "        loss_v = F.cross_entropy(thetas_v, trn_lbls_batch_device[:, 1], reduction=reduction)\n",
    "        thetas_c = c_loser(logits_c, trn_lbls_batch_device[:, 2])\n",
    "        loss_c = F.cross_entropy(thetas_c, trn_lbls_batch_device[:, 2], reduction=reduction)\n",
    "        \n",
    "        total_loss = .5*loss_g + .25*loss_v + .25*loss_c\n",
    "        \n",
    "        optimizer.zero_grad()\n",
    "        \n",
    "        total_loss.backward()\n",
    "        clip_grad_value_(classifier.parameters(), 1.0)\n",
    "        clip_grad_value_(g_loser.parameters(), 1.0)\n",
    "        clip_grad_value_(v_loser.parameters(), 1.0)\n",
    "        clip_grad_value_(c_loser.parameters(), 1.0)\n",
    "        \n",
    "        optimizer.step()\n",
    "        \n",
    "        # record\n",
    "        epoch_trn_loss.append(total_loss.item())\n",
    "        \n",
    "        utils.display_progress(len(training_loader), j+1, {'training_loss': epoch_trn_loss[-1]})\n",
    "    \n",
    "    #break\n",
    "    # validation\n",
    "    classifier.eval()\n",
    "    #feat_loser.eval()\n",
    "    \n",
    "    with torch.no_grad():\n",
    "        for k, (vld_imgs_batch, vld_lbls_batch) in enumerate(validation_loader):\n",
    "            \n",
    "            # move to device\n",
    "            vld_imgs_batch_device = vld_imgs_batch.cuda()\n",
    "            vld_lbls_batch_device = vld_lbls_batch.cuda()\n",
    "            vld_lbls_batch_numpy = vld_lbls_batch.detach().cpu().numpy()\n",
    "            \n",
    "            # forward pass\n",
    "            logits_g, logits_v, logits_c = classifier(vld_imgs_batch_device)\n",
    "            \n",
    "            # loss\n",
    "            loss_g = F.cross_entropy(logits_g, vld_lbls_batch_device[:, 0], reduction=reduction)\n",
    "            loss_v = F.cross_entropy(logits_v, vld_lbls_batch_device[:, 1], reduction=reduction)\n",
    "            loss_c = F.cross_entropy(logits_c, vld_lbls_batch_device[:, 2], reduction=reduction)\n",
    "            \n",
    "            total_loss = .5*loss_g + .25*loss_v + .25*loss_c\n",
    "            # record\n",
    "            epoch_vld_loss.append(total_loss.item())\n",
    "            \n",
    "            # metrics\n",
    "            pred_g, pred_v, pred_c = logits_g.argmax(axis=1).detach().cpu().numpy(), logits_v.argmax(axis=1).detach().cpu().numpy(), logits_c.argmax(axis=1).detach().cpu().numpy()\n",
    "            epoch_vld_recall_g.append(recall_score(pred_g, vld_lbls_batch_numpy[:, 0], average='macro'))\n",
    "            epoch_vld_recall_v.append(recall_score(pred_v, vld_lbls_batch_numpy[:, 1], average='macro'))\n",
    "            epoch_vld_recall_c.append(recall_score(pred_c, vld_lbls_batch_numpy[:, 2], average='macro'))\n",
    "            \n",
    "            # display progress\n",
    "            utils.display_progress(len(validation_loader), k+1, {'validation_loss': epoch_vld_loss[-1]})\n",
    "    #break\n",
    "    epoch_vld_recall_g, epoch_vld_recall_v, epoch_vld_recall_c = np.mean(epoch_vld_recall_g), np.mean(epoch_vld_recall_v), np.mean(epoch_vld_recall_c)\n",
    "    \n",
    "    entry = {\n",
    "        'training_loss': np.mean(epoch_trn_loss),\n",
    "        'validation_loss': np.mean(epoch_vld_loss),\n",
    "        'GRAPHEME_Recall': epoch_vld_recall_g,\n",
    "        'VOWEL_Recall': epoch_vld_recall_v,\n",
    "        'CONSONANT_Recall': epoch_vld_recall_c,\n",
    "        'Final_Recall': np.average([epoch_vld_recall_g, epoch_vld_recall_v, epoch_vld_recall_c], weights=[2, 1, 1]),\n",
    "    }\n",
    "    \n",
    "    utils.display_progress(N_EPOCHS, i+1, entry, postfix='Epochs', persist=True)\n",
    "    \n",
    "    # ----------------------------------\n",
    "    # save model\n",
    "    if entry['validation_loss'] < np.nan_to_num(logger.log['validation_loss'].min(), nan=100.):\n",
    "        print('Saving new best weight.')\n",
    "        torch.save(\n",
    "            {\n",
    "                'epoch': i,\n",
    "                'model': classifier.state_dict(),\n",
    "                'optimizer': optimizer.state_dict(),\n",
    "            }, \n",
    "            os.path.join('./', checkpoint_name.format(i)),\n",
    "        )\n",
    "    \n",
    "    # ----------------------------------\n",
    "    # log\n",
    "    logger.enter(entry)\n"
   ]
  },
  {
   "cell_type": "raw",
   "metadata": {},
   "source": [
    "epoch_vld_loss = []\n",
    "epoch_vld_recall_g, epoch_vld_recall_v, epoch_vld_recall_c, epoch_vld_recall_all = [], [], [], []"
   ]
  },
  {
   "cell_type": "code",
   "execution_count": 10,
   "metadata": {},
   "outputs": [
    {
     "name": "stdout",
     "output_type": "stream",
     "text": [
      "5/449 batches: validation_loss: 5.8000"
     ]
    },
    {
     "name": "stderr",
     "output_type": "stream",
     "text": [
      "/home/yuan/miniconda3/envs/ML/lib/python3.7/site-packages/sklearn/metrics/_classification.py:1268: UndefinedMetricWarning: Recall is ill-defined and being set to 0.0 in labels with no true samples. Use `zero_division` parameter to control this behavior.\n",
      "  _warn_prf(average, modifier, msg_start, len(result))\n"
     ]
    },
    {
     "name": "stdout",
     "output_type": "stream",
     "text": [
      "449/449 batches: validation_loss: 13.016\n",
      "\n",
      "1/160 Epochs: training_loss: 28.758; validation_loss: 8.534; GRAPHEME_Recall: 0.000; VOWEL_Recall: 0.010; CONSONANT_Recall: 0.021; Final_Recall: 0.008\n"
     ]
    }
   ],
   "source": [
    "classifier.eval()\n",
    "#feat_loser.eval()\n",
    "\n",
    "with torch.no_grad():\n",
    "    for k, (vld_imgs_batch, vld_lbls_batch) in enumerate(validation_loader):\n",
    "\n",
    "        # move to device\n",
    "        vld_imgs_batch_device = vld_imgs_batch.cuda()\n",
    "        vld_lbls_batch_device = vld_lbls_batch.cuda()\n",
    "        vld_lbls_batch_numpy = vld_lbls_batch.detach().cpu().numpy()\n",
    "\n",
    "        # forward pass\n",
    "        logits_g, logits_v, logits_c = classifier(vld_imgs_batch_device)\n",
    "\n",
    "        # loss\n",
    "        loss_g = F.cross_entropy(logits_g, vld_lbls_batch_device[:, 0], reduction=reduction)\n",
    "        loss_v = F.cross_entropy(logits_v, vld_lbls_batch_device[:, 1], reduction=reduction)\n",
    "        loss_c = F.cross_entropy(logits_c, vld_lbls_batch_device[:, 2], reduction=reduction)\n",
    "\n",
    "        total_loss = .5*loss_g + .25*loss_v + .25*loss_c# + feat_loss_weight*loss_feat\n",
    "        # record\n",
    "        epoch_vld_loss.append(total_loss.item())\n",
    "\n",
    "        # metrics\n",
    "        pred_g, pred_v, pred_c = logits_g.argmax(axis=1).detach().cpu().numpy(), logits_v.argmax(axis=1).detach().cpu().numpy(), logits_c.argmax(axis=1).detach().cpu().numpy()\n",
    "        epoch_vld_recall_g.append(recall_score(pred_g, vld_lbls_batch_numpy[:, 0], average='macro'))\n",
    "        epoch_vld_recall_v.append(recall_score(pred_v, vld_lbls_batch_numpy[:, 1], average='macro'))\n",
    "        epoch_vld_recall_c.append(recall_score(pred_c, vld_lbls_batch_numpy[:, 2], average='macro'))\n",
    "\n",
    "        # display progress\n",
    "        utils.display_progress(len(validation_loader), k+1, {'validation_loss': epoch_vld_loss[-1]})\n",
    "#break\n",
    "epoch_vld_recall_g, epoch_vld_recall_v, epoch_vld_recall_c = np.mean(epoch_vld_recall_g), np.mean(epoch_vld_recall_v), np.mean(epoch_vld_recall_c)\n",
    "\n",
    "entry = {\n",
    "    'training_loss': np.mean(epoch_trn_loss),\n",
    "    'validation_loss': np.mean(epoch_vld_loss),\n",
    "    'GRAPHEME_Recall': epoch_vld_recall_g,\n",
    "    'VOWEL_Recall': epoch_vld_recall_v,\n",
    "    'CONSONANT_Recall': epoch_vld_recall_c,\n",
    "    'Final_Recall': np.average([epoch_vld_recall_g, epoch_vld_recall_v, epoch_vld_recall_c], weights=[2, 1, 1]),\n",
    "}\n",
    "\n",
    "utils.display_progress(N_EPOCHS, i+1, entry, postfix='Epochs', persist=True)"
   ]
  }
 ],
 "metadata": {
  "kernelspec": {
   "display_name": "Python 3",
   "language": "python",
   "name": "python3"
  },
  "language_info": {
   "codemirror_mode": {
    "name": "ipython",
    "version": 3
   },
   "file_extension": ".py",
   "mimetype": "text/x-python",
   "name": "python",
   "nbconvert_exporter": "python",
   "pygments_lexer": "ipython3",
   "version": "3.7.5"
  }
 },
 "nbformat": 4,
 "nbformat_minor": 4
}
