{
 "cells": [
  {
   "cell_type": "code",
   "execution_count": 1,
   "metadata": {},
   "outputs": [],
   "source": [
    "import random\n",
    "import itertools\n",
    "import numpy as np\n",
    "import pandas as pd\n",
    "import matplotlib.pyplot as plt"
   ]
  },
  {
   "cell_type": "code",
   "execution_count": 2,
   "metadata": {},
   "outputs": [],
   "source": [
    "import torch\n",
    "from torch.utils.data import Dataset, Sampler, DataLoader"
   ]
  },
  {
   "cell_type": "code",
   "execution_count": 155,
   "metadata": {},
   "outputs": [],
   "source": [
    "a = np.clip(np.round(np.abs(np.random.normal(280, 100, 100000))).astype('uint32') // 20, 5, 20)\n",
    "b = np.clip(np.round(np.abs(np.random.normal(700, 500, 100000))).astype('uint32') // 20,0, 80)\n",
    "c = np.round(np.abs(np.random.normal(500, 20, 100000))).astype('uint32') // 50\n",
    "d = np.arange(100000)"
   ]
  },
  {
   "cell_type": "code",
   "execution_count": 64,
   "metadata": {},
   "outputs": [
    {
     "name": "stderr",
     "output_type": "stream",
     "text": [
      "/home/mlsu/miniconda3/envs/PT140/lib/python3.7/site-packages/ipykernel_launcher.py:1: MatplotlibDeprecationWarning: \n",
      "The 'normed' kwarg was deprecated in Matplotlib 2.1 and will be removed in 3.1. Use 'density' instead.\n",
      "  \"\"\"Entry point for launching an IPython kernel.\n"
     ]
    },
    {
     "data": {
      "image/png": "[encoded data removed]",
      "text/plain": [
       "<Figure size 432x288 with 1 Axes>"
      ]
     },
     "metadata": {
      "needs_background": "light"
     },
     "output_type": "display_data"
    }
   ],
   "source": [
    "count, bins, ignored = plt.hist(a, 30, normed=True)\n",
    "plt.bar(bins[:-1], count)\n",
    "plt.show()"
   ]
  },
  {
   "cell_type": "code",
   "execution_count": 183,
   "metadata": {},
   "outputs": [],
   "source": [
    "pdf = pd.DataFrame({'data': d, 'a': a, 'b': b, 'c': c})"
   ]
  },
  {
   "cell_type": "code",
   "execution_count": 184,
   "metadata": {},
   "outputs": [
    {
     "data": {
      "text/html": [
       "<div>\n",
       "<style scoped>\n",
       "    .dataframe tbody tr th:only-of-type {\n",
       "        vertical-align: middle;\n",
       "    }\n",
       "\n",
       "    .dataframe tbody tr th {\n",
       "        vertical-align: top;\n",
       "    }\n",
       "\n",
       "    .dataframe thead th {\n",
       "        text-align: right;\n",
       "    }\n",
       "</style>\n",
       "<table border=\"1\" class=\"dataframe\">\n",
       "  <thead>\n",
       "    <tr style=\"text-align: right;\">\n",
       "      <th></th>\n",
       "      <th>data</th>\n",
       "      <th>a</th>\n",
       "      <th>b</th>\n",
       "      <th>c</th>\n",
       "    </tr>\n",
       "  </thead>\n",
       "  <tbody>\n",
       "    <tr>\n",
       "      <th>0</th>\n",
       "      <td>0</td>\n",
       "      <td>20</td>\n",
       "      <td>36</td>\n",
       "      <td>10</td>\n",
       "    </tr>\n",
       "    <tr>\n",
       "      <th>1</th>\n",
       "      <td>1</td>\n",
       "      <td>16</td>\n",
       "      <td>41</td>\n",
       "      <td>10</td>\n",
       "    </tr>\n",
       "    <tr>\n",
       "      <th>2</th>\n",
       "      <td>2</td>\n",
       "      <td>20</td>\n",
       "      <td>40</td>\n",
       "      <td>10</td>\n",
       "    </tr>\n",
       "  </tbody>\n",
       "</table>\n",
       "</div>"
      ],
      "text/plain": [
       "   data   a   b   c\n",
       "0     0  20  36  10\n",
       "1     1  16  41  10\n",
       "2     2  20  40  10"
      ]
     },
     "execution_count": 184,
     "metadata": {},
     "output_type": "execute_result"
    }
   ],
   "source": [
    "pdf.head(3)"
   ]
  },
  {
   "cell_type": "code",
   "execution_count": 185,
   "metadata": {},
   "outputs": [
    {
     "data": {
      "text/plain": [
       "(array([ 8,  9, 10, 11], dtype=uint32), array([  608, 48572, 50113,   707]))"
      ]
     },
     "execution_count": 185,
     "metadata": {},
     "output_type": "execute_result"
    }
   ],
   "source": [
    "np.unique(c, return_counts=True)"
   ]
  },
  {
   "cell_type": "code",
   "execution_count": 182,
   "metadata": {},
   "outputs": [
    {
     "data": {
      "text/plain": [
       "<BarContainer object of 4 artists>"
      ]
     },
     "execution_count": 182,
     "metadata": {},
     "output_type": "execute_result"
    },
    {
     "data": {
      "image/png": "[encoded data removed]",
      "text/plain": [
       "<Figure size 1440x288 with 1 Axes>"
      ]
     },
     "metadata": {
      "needs_background": "light"
     },
     "output_type": "display_data"
    }
   ],
   "source": [
    "plt.figure(figsize=(20, 4))\n",
    "plt.bar(*np.unique(c, return_counts=True))"
   ]
  },
  {
   "cell_type": "code",
   "execution_count": 204,
   "metadata": {},
   "outputs": [
    {
     "data": {
      "text/plain": [
       "16"
      ]
     },
     "execution_count": 204,
     "metadata": {},
     "output_type": "execute_result"
    }
   ],
   "source": [
    "gb = pdf.groupby('a')\n",
    "len(gb.groups)"
   ]
  },
  {
   "cell_type": "code",
   "execution_count": 187,
   "metadata": {},
   "outputs": [
    {
     "name": "stdout",
     "output_type": "stream",
     "text": [
      "8\n"
     ]
    }
   ],
   "source": [
    "for g in gb:\n",
    "    print(g[0])\n",
    "    break"
   ]
  },
  {
   "cell_type": "code",
   "execution_count": 125,
   "metadata": {},
   "outputs": [],
   "source": [
    "sub_gb = g[1].groupby(['a', 'c'])"
   ]
  },
  {
   "cell_type": "code",
   "execution_count": 136,
   "metadata": {},
   "outputs": [
    {
     "name": "stdout",
     "output_type": "stream",
     "text": [
      "[2198, 6612, 7242, 8215, 8985, 11285, 14849, 17004, 19692, 23627, 26120, 26785, 39344, 41749, 43027, 43533, 52185, 53982, 63045, 71477, 72506, 84590, 87731, 88413, 89031, 89113, 90118, 92380, 93703, 97943, 98995]\n",
      "(5, 9) 31\n"
     ]
    }
   ],
   "source": [
    "for s_g in sub_gb:\n",
    "    print(s_g[1].index.tolist())\n",
    "    print(s_g[0], s_g[1].shape[0])\n",
    "    break"
   ]
  },
  {
   "cell_type": "code",
   "execution_count": 141,
   "metadata": {},
   "outputs": [
    {
     "data": {
      "text/plain": [
       "9999"
      ]
     },
     "execution_count": 141,
     "metadata": {},
     "output_type": "execute_result"
    }
   ],
   "source": [
    "s_g[1].loc[s_g[1].index.tolist()[0], 'data']"
   ]
  },
  {
   "cell_type": "code",
   "execution_count": 142,
   "metadata": {},
   "outputs": [
    {
     "data": {
      "text/plain": [
       "data    2198\n",
       "a          5\n",
       "b          0\n",
       "c          9\n",
       "Name: 2198, dtype: int64"
      ]
     },
     "execution_count": 142,
     "metadata": {},
     "output_type": "execute_result"
    }
   ],
   "source": [
    "pdf.loc[2198]"
   ]
  },
  {
   "cell_type": "code",
   "execution_count": 126,
   "metadata": {},
   "outputs": [],
   "source": [
    "class Balanced_Sampler(Sampler):\n",
    "    \n",
    "    def __init__(self, pdf, count_column, primary_group, secondary_group, size):\n",
    "        \n",
    "        self.gb = pdf.groupby(primary_group)\n",
    "        \n",
    "        self.size = size\n",
    "        \n",
    "        self._g_indices = []\n",
    "        self._g_weights = []\n",
    "        \n",
    "        # equal opportunity at this level\n",
    "        for g in self.gb:\n",
    "            indices = []\n",
    "            weights = []\n",
    "            sub_gb = g[1].groupby(secondary_group)\n",
    "            # weighted drawing between sub-groups\n",
    "            for sub_g in sub_gb:\n",
    "                indices.append(sub_g[1].index.tolist())\n",
    "                weights.append(sub_g[1].shape[0])\n",
    "                \n",
    "            # post process weights for this group\n",
    "            weights = np.array(weights)\n",
    "            weights = weights.sum() / weights\n",
    "            \n",
    "            self._g_weights.append(\n",
    "                list(\n",
    "                    itertools.chain(*[[w] * len(i) for w, i in zip(weights.tolist(), indices)])\n",
    "                )\n",
    "            )\n",
    "            self._g_indices.append(list(itertools.chain(*indices)))\n",
    "            \n",
    "    def __len__(self):\n",
    "        return self.size\n",
    "    \n",
    "    def __iter__(self):\n",
    "        samples_per_group = np.round(self.size / len(self.gb))\n",
    "        samples = [random.choices(population=p, weights=w, k=samples_per_group) for p, w in zip(self._g_indices, self._g_weights)]\n",
    "        return iter([val for tup in zip(*samples) for val in tup])"
   ]
  },
  {
   "cell_type": "code",
   "execution_count": 107,
   "metadata": {},
   "outputs": [
    {
     "data": {
      "text/plain": [
       "[1, 'a', 'k', 2, 'b', 'kk', 3, 'c', 'kkk', 4, 'd', 'kkkk', 5, 'e', 'kkkkk']"
      ]
     },
     "execution_count": 107,
     "metadata": {},
     "output_type": "execute_result"
    }
   ],
   "source": [
    "[val for tup in zip(*[[1,2,3,4,5], ['a', 'b', 'c', 'd', 'e'], ['k','kk','kkk','kkkk','kkkkk']]) for val in tup]"
   ]
  },
  {
   "cell_type": "code",
   "execution_count": 4,
   "metadata": {},
   "outputs": [],
   "source": [
    "pdf = pd.read_csv('../input/train.csv')"
   ]
  },
  {
   "cell_type": "code",
   "execution_count": 5,
   "metadata": {},
   "outputs": [
    {
     "data": {
      "text/html": [
       "<div>\n",
       "<style scoped>\n",
       "    .dataframe tbody tr th:only-of-type {\n",
       "        vertical-align: middle;\n",
       "    }\n",
       "\n",
       "    .dataframe tbody tr th {\n",
       "        vertical-align: top;\n",
       "    }\n",
       "\n",
       "    .dataframe thead th {\n",
       "        text-align: right;\n",
       "    }\n",
       "</style>\n",
       "<table border=\"1\" class=\"dataframe\">\n",
       "  <thead>\n",
       "    <tr style=\"text-align: right;\">\n",
       "      <th></th>\n",
       "      <th>image_id</th>\n",
       "      <th>grapheme_root</th>\n",
       "      <th>vowel_diacritic</th>\n",
       "      <th>consonant_diacritic</th>\n",
       "      <th>grapheme</th>\n",
       "    </tr>\n",
       "  </thead>\n",
       "  <tbody>\n",
       "    <tr>\n",
       "      <th>0</th>\n",
       "      <td>Train_0</td>\n",
       "      <td>15</td>\n",
       "      <td>9</td>\n",
       "      <td>5</td>\n",
       "      <td>ক্ট্রো</td>\n",
       "    </tr>\n",
       "    <tr>\n",
       "      <th>1</th>\n",
       "      <td>Train_1</td>\n",
       "      <td>159</td>\n",
       "      <td>0</td>\n",
       "      <td>0</td>\n",
       "      <td>হ</td>\n",
       "    </tr>\n",
       "    <tr>\n",
       "      <th>2</th>\n",
       "      <td>Train_2</td>\n",
       "      <td>22</td>\n",
       "      <td>3</td>\n",
       "      <td>5</td>\n",
       "      <td>খ্রী</td>\n",
       "    </tr>\n",
       "  </tbody>\n",
       "</table>\n",
       "</div>"
      ],
      "text/plain": [
       "  image_id  grapheme_root  vowel_diacritic  consonant_diacritic grapheme\n",
       "0  Train_0             15                9                    5   ক্ট্রো\n",
       "1  Train_1            159                0                    0        হ\n",
       "2  Train_2             22                3                    5     খ্রী"
      ]
     },
     "execution_count": 5,
     "metadata": {},
     "output_type": "execute_result"
    }
   ],
   "source": [
    "pdf.head(3)"
   ]
  },
  {
   "cell_type": "code",
   "execution_count": 127,
   "metadata": {},
   "outputs": [],
   "source": [
    "test_sampler = Balanced_Sampler(pdf, 'image_id', 'grapheme_root', ['vowel_diacritic', 'consonant_diacritic'], size=150000)"
   ]
  },
  {
   "cell_type": "code",
   "execution_count": 128,
   "metadata": {},
   "outputs": [
    {
     "data": {
      "text/plain": [
       "168"
      ]
     },
     "execution_count": 128,
     "metadata": {},
     "output_type": "execute_result"
    }
   ],
   "source": [
    "len(test_sampler.gb)"
   ]
  },
  {
   "cell_type": "code",
   "execution_count": 133,
   "metadata": {},
   "outputs": [
    {
     "data": {
      "text/plain": [
       "892.8571428571429"
      ]
     },
     "execution_count": 133,
     "metadata": {},
     "output_type": "execute_result"
    }
   ],
   "source": [
    "150000 / 168"
   ]
  },
  {
   "cell_type": "code",
   "execution_count": 132,
   "metadata": {},
   "outputs": [
    {
     "data": {
      "text/plain": [
       "144"
      ]
     },
     "execution_count": 132,
     "metadata": {},
     "output_type": "execute_result"
    }
   ],
   "source": [
    "150000 - 892 * 168"
   ]
  },
  {
   "cell_type": "code",
   "execution_count": 110,
   "metadata": {},
   "outputs": [],
   "source": [
    "for i, (l0, l1) in enumerate(zip(test_sampler._g_indices, test_sampler._g_weights)):\n",
    "    if i == 25:\n",
    "        break"
   ]
  },
  {
   "cell_type": "code",
   "execution_count": 135,
   "metadata": {},
   "outputs": [],
   "source": [
    "aaa = random.choices(population=l0, weights=l1, k=3000)"
   ]
  },
  {
   "cell_type": "code",
   "execution_count": 120,
   "metadata": {},
   "outputs": [
    {
     "data": {
      "text/plain": [
       "(array([6.59064327, 6.62941176, 6.70833333, 6.83030303, 7.36601307,\n",
       "        7.41447368, 7.61486486]), array([171, 170, 168, 165, 153, 152, 148]))"
      ]
     },
     "execution_count": 120,
     "metadata": {},
     "output_type": "execute_result"
    }
   ],
   "source": [
    "np.unique(l1, return_counts=True)"
   ]
  },
  {
   "cell_type": "code",
   "execution_count": 119,
   "metadata": {},
   "outputs": [
    {
     "data": {
      "text/plain": [
       "(array([6.59064327, 6.62941176, 6.70833333, 6.83030303, 7.36601307,\n",
       "        7.41447368, 7.61486486]), array([433, 403, 468, 442, 396, 420, 438]))"
      ]
     },
     "execution_count": 119,
     "metadata": {},
     "output_type": "execute_result"
    }
   ],
   "source": [
    "np.unique(aaa, return_counts=True)"
   ]
  },
  {
   "cell_type": "code",
   "execution_count": null,
   "metadata": {},
   "outputs": [],
   "source": [
    "random.choices(l0, weights=l1"
   ]
  },
  {
   "cell_type": "code",
   "execution_count": 124,
   "metadata": {},
   "outputs": [
    {
     "ename": "NameError",
     "evalue": "name 'gb' is not defined",
     "output_type": "error",
     "traceback": [
      "\u001b[0;31m---------------------------------------------------------------------------\u001b[0m",
      "\u001b[0;31mNameError\u001b[0m                                 Traceback (most recent call last)",
      "\u001b[0;32m<ipython-input-124-099c9523a627>\u001b[0m in \u001b[0;36m<module>\u001b[0;34m\u001b[0m\n\u001b[0;32m----> 1\u001b[0;31m \u001b[0;32mfor\u001b[0m \u001b[0mg\u001b[0m \u001b[0;32min\u001b[0m \u001b[0mgb\u001b[0m\u001b[0;34m:\u001b[0m\u001b[0;34m\u001b[0m\u001b[0;34m\u001b[0m\u001b[0m\n\u001b[0m\u001b[1;32m      2\u001b[0m     \u001b[0mprint\u001b[0m\u001b[0;34m(\u001b[0m\u001b[0mg\u001b[0m\u001b[0;34m[\u001b[0m\u001b[0;36m1\u001b[0m\u001b[0;34m]\u001b[0m\u001b[0;34m.\u001b[0m\u001b[0mshape\u001b[0m\u001b[0;34m)\u001b[0m\u001b[0;34m\u001b[0m\u001b[0;34m\u001b[0m\u001b[0m\n",
      "\u001b[0;31mNameError\u001b[0m: name 'gb' is not defined"
     ]
    }
   ],
   "source": [
    "for g in gb:\n",
    "    print(g[1].shape)"
   ]
  },
  {
   "cell_type": "code",
   "execution_count": 257,
   "metadata": {},
   "outputs": [
    {
     "data": {
      "text/plain": [
       "True"
      ]
     },
     "execution_count": 257,
     "metadata": {},
     "output_type": "execute_result"
    }
   ],
   "source": [
    "check_index = 4\n",
    "len(test_sampler._g_indices[check_index]) == len(set(test_sampler._g_indices[check_index]))"
   ]
  },
  {
   "cell_type": "code",
   "execution_count": 351,
   "metadata": {},
   "outputs": [],
   "source": [
    "p = np.array(test_sampler._g_weights[0])\n",
    "p = p / p.sum()\n",
    "test = [np.random.choice(test_sampler._g_indices[0], 1000, p=p) for _ in range(5000)]"
   ]
  },
  {
   "cell_type": "code",
   "execution_count": 352,
   "metadata": {},
   "outputs": [
    {
     "data": {
      "text/plain": [
       "(5000, 1000)"
      ]
     },
     "execution_count": 352,
     "metadata": {},
     "output_type": "execute_result"
    }
   ],
   "source": [
    "np.array(test).shape"
   ]
  },
  {
   "cell_type": "code",
   "execution_count": 353,
   "metadata": {},
   "outputs": [
    {
     "data": {
      "text/plain": [
       "5000000"
      ]
     },
     "execution_count": 353,
     "metadata": {},
     "output_type": "execute_result"
    }
   ],
   "source": [
    "test_u, test_c = np.unique(np.array(test), return_counts=True)\n",
    "sum(test_c)"
   ]
  },
  {
   "cell_type": "raw",
   "metadata": {},
   "source": [
    "print(len(test_u) == len(test_sampler._g_indices[0]))\n",
    "print(len(test_sampler._g_indices[0]))"
   ]
  },
  {
   "cell_type": "code",
   "execution_count": 355,
   "metadata": {},
   "outputs": [
    {
     "data": {
      "text/plain": [
       "2931"
      ]
     },
     "execution_count": 355,
     "metadata": {},
     "output_type": "execute_result"
    }
   ],
   "source": [
    "test_u[np.argmax(test_c)]"
   ]
  },
  {
   "cell_type": "raw",
   "metadata": {},
   "source": [
    "test_sampler._g_indices[0][np.argmax(test_sampler._g_weights[0])]"
   ]
  },
  {
   "cell_type": "code",
   "execution_count": 357,
   "metadata": {},
   "outputs": [
    {
     "data": {
      "text/plain": [
       "(array([5565]),)"
      ]
     },
     "execution_count": 357,
     "metadata": {},
     "output_type": "execute_result"
    }
   ],
   "source": [
    "np.where(np.array(test_sampler._g_indices[0]) == 2931)"
   ]
  },
  {
   "cell_type": "code",
   "execution_count": 358,
   "metadata": {},
   "outputs": [
    {
     "data": {
      "text/plain": [
       "5569.0"
      ]
     },
     "execution_count": 358,
     "metadata": {},
     "output_type": "execute_result"
    }
   ],
   "source": [
    "test_sampler._g_weights[0][5565]"
   ]
  },
  {
   "cell_type": "code",
   "execution_count": 350,
   "metadata": {},
   "outputs": [
    {
     "data": {
      "text/plain": [
       "[5569.0,\n",
       " 5569.0,\n",
       " 5569.0,\n",
       " 5569.0,\n",
       " 5569.0,\n",
       " 5569.0,\n",
       " 5569.0,\n",
       " 5569.0,\n",
       " 5569.0,\n",
       " 5569.0,\n",
       " 5569.0,\n",
       " 5569.0,\n",
       " 2784.5,\n",
       " 2784.5,\n",
       " 5569.0,\n",
       " 5569.0,\n",
       " 5569.0,\n",
       " 5569.0,\n",
       " 5569.0,\n",
       " 5569.0,\n",
       " 5569.0,\n",
       " 5569.0,\n",
       " 2784.5,\n",
       " 2784.5,\n",
       " 5569.0,\n",
       " 5569.0,\n",
       " 2784.5,\n",
       " 2784.5,\n",
       " 5569.0,\n",
       " 5569.0,\n",
       " 5569.0,\n",
       " 242.1304347826087,\n",
       " 242.1304347826087,\n",
       " 242.1304347826087,\n",
       " 242.1304347826087,\n",
       " 242.1304347826087,\n",
       " 242.1304347826087,\n",
       " 242.1304347826087,\n",
       " 242.1304347826087,\n",
       " 242.1304347826087,\n",
       " 242.1304347826087,\n",
       " 242.1304347826087,\n",
       " 242.1304347826087,\n",
       " 242.1304347826087,\n",
       " 242.1304347826087,\n",
       " 242.1304347826087,\n",
       " 242.1304347826087,\n",
       " 242.1304347826087,\n",
       " 242.1304347826087,\n",
       " 242.1304347826087,\n",
       " 242.1304347826087,\n",
       " 242.1304347826087,\n",
       " 242.1304347826087,\n",
       " 242.1304347826087,\n",
       " 142.7948717948718,\n",
       " 142.7948717948718,\n",
       " 142.7948717948718,\n",
       " 142.7948717948718,\n",
       " 142.7948717948718,\n",
       " 142.7948717948718,\n",
       " 142.7948717948718,\n",
       " 142.7948717948718,\n",
       " 142.7948717948718,\n",
       " 142.7948717948718,\n",
       " 142.7948717948718,\n",
       " 142.7948717948718,\n",
       " 142.7948717948718,\n",
       " 142.7948717948718,\n",
       " 142.7948717948718,\n",
       " 142.7948717948718,\n",
       " 142.7948717948718,\n",
       " 142.7948717948718,\n",
       " 142.7948717948718,\n",
       " 142.7948717948718,\n",
       " 142.7948717948718,\n",
       " 142.7948717948718,\n",
       " 142.7948717948718,\n",
       " 142.7948717948718,\n",
       " 142.7948717948718,\n",
       " 142.7948717948718,\n",
       " 142.7948717948718,\n",
       " 142.7948717948718,\n",
       " 142.7948717948718,\n",
       " 142.7948717948718,\n",
       " 142.7948717948718,\n",
       " 142.7948717948718,\n",
       " 142.7948717948718,\n",
       " 142.7948717948718,\n",
       " 142.7948717948718,\n",
       " 142.7948717948718,\n",
       " 142.7948717948718,\n",
       " 142.7948717948718,\n",
       " 142.7948717948718,\n",
       " 154.69444444444446,\n",
       " 154.69444444444446,\n",
       " 154.69444444444446,\n",
       " 154.69444444444446,\n",
       " 154.69444444444446,\n",
       " 154.69444444444446,\n",
       " 154.69444444444446,\n",
       " 154.69444444444446,\n",
       " 154.69444444444446,\n",
       " 154.69444444444446,\n",
       " 154.69444444444446,\n",
       " 154.69444444444446,\n",
       " 154.69444444444446,\n",
       " 154.69444444444446,\n",
       " 154.69444444444446,\n",
       " 154.69444444444446,\n",
       " 154.69444444444446,\n",
       " 154.69444444444446,\n",
       " 154.69444444444446,\n",
       " 154.69444444444446,\n",
       " 154.69444444444446,\n",
       " 154.69444444444446,\n",
       " 154.69444444444446,\n",
       " 154.69444444444446,\n",
       " 154.69444444444446,\n",
       " 154.69444444444446,\n",
       " 154.69444444444446,\n",
       " 154.69444444444446,\n",
       " 154.69444444444446,\n",
       " 154.69444444444446,\n",
       " 154.69444444444446,\n",
       " 154.69444444444446,\n",
       " 154.69444444444446,\n",
       " 154.69444444444446,\n",
       " 154.69444444444446,\n",
       " 154.69444444444446,\n",
       " 179.6451612903226,\n",
       " 179.6451612903226,\n",
       " 179.6451612903226,\n",
       " 179.6451612903226,\n",
       " 179.6451612903226,\n",
       " 179.6451612903226,\n",
       " 179.6451612903226,\n",
       " 179.6451612903226,\n",
       " 179.6451612903226,\n",
       " 179.6451612903226,\n",
       " 179.6451612903226,\n",
       " 179.6451612903226,\n",
       " 179.6451612903226,\n",
       " 179.6451612903226,\n",
       " 179.6451612903226,\n",
       " 179.6451612903226,\n",
       " 179.6451612903226,\n",
       " 179.6451612903226,\n",
       " 179.6451612903226,\n",
       " 179.6451612903226,\n",
       " 179.6451612903226,\n",
       " 179.6451612903226,\n",
       " 179.6451612903226,\n",
       " 179.6451612903226,\n",
       " 179.6451612903226,\n",
       " 179.6451612903226,\n",
       " 179.6451612903226,\n",
       " 179.6451612903226,\n",
       " 179.6451612903226,\n",
       " 179.6451612903226,\n",
       " 179.6451612903226,\n",
       " 214.19230769230768,\n",
       " 214.19230769230768,\n",
       " 214.19230769230768,\n",
       " 214.19230769230768,\n",
       " 214.19230769230768,\n",
       " 214.19230769230768,\n",
       " 214.19230769230768,\n",
       " 214.19230769230768,\n",
       " 214.19230769230768,\n",
       " 214.19230769230768,\n",
       " 214.19230769230768,\n",
       " 214.19230769230768,\n",
       " 214.19230769230768,\n",
       " 214.19230769230768,\n",
       " 214.19230769230768,\n",
       " 214.19230769230768,\n",
       " 214.19230769230768,\n",
       " 214.19230769230768,\n",
       " 214.19230769230768,\n",
       " 214.19230769230768,\n",
       " 214.19230769230768,\n",
       " 214.19230769230768,\n",
       " 214.19230769230768,\n",
       " 214.19230769230768,\n",
       " 214.19230769230768,\n",
       " 214.19230769230768,\n",
       " 150.51351351351352,\n",
       " 150.51351351351352,\n",
       " 150.51351351351352,\n",
       " 150.51351351351352,\n",
       " 150.51351351351352,\n",
       " 150.51351351351352,\n",
       " 150.51351351351352,\n",
       " 150.51351351351352,\n",
       " 150.51351351351352,\n",
       " 150.51351351351352,\n",
       " 150.51351351351352,\n",
       " 150.51351351351352,\n",
       " 150.51351351351352,\n",
       " 150.51351351351352,\n",
       " 150.51351351351352,\n",
       " 150.51351351351352,\n",
       " 150.51351351351352,\n",
       " 150.51351351351352,\n",
       " 150.51351351351352,\n",
       " 150.51351351351352,\n",
       " 150.51351351351352,\n",
       " 150.51351351351352,\n",
       " 150.51351351351352,\n",
       " 150.51351351351352,\n",
       " 150.51351351351352,\n",
       " 150.51351351351352,\n",
       " 150.51351351351352,\n",
       " 150.51351351351352,\n",
       " 150.51351351351352,\n",
       " 150.51351351351352,\n",
       " 150.51351351351352,\n",
       " 150.51351351351352,\n",
       " 150.51351351351352,\n",
       " 150.51351351351352,\n",
       " 150.51351351351352,\n",
       " 150.51351351351352,\n",
       " 150.51351351351352,\n",
       " 214.19230769230768,\n",
       " 214.19230769230768,\n",
       " 214.19230769230768,\n",
       " 214.19230769230768,\n",
       " 214.19230769230768,\n",
       " 214.19230769230768,\n",
       " 214.19230769230768,\n",
       " 214.19230769230768,\n",
       " 214.19230769230768,\n",
       " 214.19230769230768,\n",
       " 214.19230769230768,\n",
       " 214.19230769230768,\n",
       " 214.19230769230768,\n",
       " 214.19230769230768,\n",
       " 214.19230769230768,\n",
       " 214.19230769230768,\n",
       " 214.19230769230768,\n",
       " 214.19230769230768,\n",
       " 214.19230769230768,\n",
       " 214.19230769230768,\n",
       " 214.19230769230768,\n",
       " 214.19230769230768,\n",
       " 214.19230769230768,\n",
       " 214.19230769230768,\n",
       " 214.19230769230768,\n",
       " 214.19230769230768,\n",
       " 159.11428571428573,\n",
       " 159.11428571428573,\n",
       " 159.11428571428573,\n",
       " 159.11428571428573,\n",
       " 159.11428571428573,\n",
       " 159.11428571428573,\n",
       " 159.11428571428573,\n",
       " 159.11428571428573,\n",
       " 159.11428571428573,\n",
       " 159.11428571428573,\n",
       " 159.11428571428573,\n",
       " 159.11428571428573,\n",
       " 159.11428571428573,\n",
       " 159.11428571428573,\n",
       " 159.11428571428573,\n",
       " 159.11428571428573,\n",
       " 159.11428571428573,\n",
       " 159.11428571428573,\n",
       " 159.11428571428573,\n",
       " 159.11428571428573,\n",
       " 159.11428571428573,\n",
       " 159.11428571428573,\n",
       " 159.11428571428573,\n",
       " 159.11428571428573,\n",
       " 159.11428571428573,\n",
       " 159.11428571428573,\n",
       " 159.11428571428573,\n",
       " 159.11428571428573,\n",
       " 159.11428571428573,\n",
       " 159.11428571428573,\n",
       " 159.11428571428573,\n",
       " 159.11428571428573,\n",
       " 159.11428571428573,\n",
       " 159.11428571428573,\n",
       " 159.11428571428573,\n",
       " 185.63333333333333,\n",
       " 185.63333333333333,\n",
       " 185.63333333333333,\n",
       " 185.63333333333333,\n",
       " 185.63333333333333,\n",
       " 185.63333333333333,\n",
       " 185.63333333333333,\n",
       " 185.63333333333333,\n",
       " 185.63333333333333,\n",
       " 185.63333333333333,\n",
       " 185.63333333333333,\n",
       " 185.63333333333333,\n",
       " 185.63333333333333,\n",
       " 185.63333333333333,\n",
       " 185.63333333333333,\n",
       " 185.63333333333333,\n",
       " 185.63333333333333,\n",
       " 185.63333333333333,\n",
       " 185.63333333333333,\n",
       " 185.63333333333333,\n",
       " 185.63333333333333,\n",
       " 185.63333333333333,\n",
       " 185.63333333333333,\n",
       " 185.63333333333333,\n",
       " 185.63333333333333,\n",
       " 185.63333333333333,\n",
       " 185.63333333333333,\n",
       " 185.63333333333333,\n",
       " 185.63333333333333,\n",
       " 185.63333333333333,\n",
       " 214.19230769230768,\n",
       " 214.19230769230768,\n",
       " 214.19230769230768,\n",
       " 214.19230769230768,\n",
       " 214.19230769230768,\n",
       " 214.19230769230768,\n",
       " 214.19230769230768,\n",
       " 214.19230769230768,\n",
       " 214.19230769230768,\n",
       " 214.19230769230768,\n",
       " 214.19230769230768,\n",
       " 214.19230769230768,\n",
       " 214.19230769230768,\n",
       " 214.19230769230768,\n",
       " 214.19230769230768,\n",
       " 214.19230769230768,\n",
       " 214.19230769230768,\n",
       " 214.19230769230768,\n",
       " 214.19230769230768,\n",
       " 214.19230769230768,\n",
       " 214.19230769230768,\n",
       " 214.19230769230768,\n",
       " 214.19230769230768,\n",
       " 214.19230769230768,\n",
       " 214.19230769230768,\n",
       " 214.19230769230768,\n",
       " 179.6451612903226,\n",
       " 179.6451612903226,\n",
       " 179.6451612903226,\n",
       " 179.6451612903226,\n",
       " 179.6451612903226,\n",
       " 179.6451612903226,\n",
       " 179.6451612903226,\n",
       " 179.6451612903226,\n",
       " 179.6451612903226,\n",
       " 179.6451612903226,\n",
       " 179.6451612903226,\n",
       " 179.6451612903226,\n",
       " 179.6451612903226,\n",
       " 179.6451612903226,\n",
       " 179.6451612903226,\n",
       " 179.6451612903226,\n",
       " 179.6451612903226,\n",
       " 179.6451612903226,\n",
       " 179.6451612903226,\n",
       " 179.6451612903226,\n",
       " 179.6451612903226,\n",
       " 179.6451612903226,\n",
       " 179.6451612903226,\n",
       " 179.6451612903226,\n",
       " 179.6451612903226,\n",
       " 179.6451612903226,\n",
       " 179.6451612903226,\n",
       " 179.6451612903226,\n",
       " 179.6451612903226,\n",
       " 179.6451612903226,\n",
       " 179.6451612903226,\n",
       " 192.0344827586207,\n",
       " 192.0344827586207,\n",
       " 192.0344827586207,\n",
       " 192.0344827586207,\n",
       " 192.0344827586207,\n",
       " 192.0344827586207,\n",
       " 192.0344827586207,\n",
       " 192.0344827586207,\n",
       " 192.0344827586207,\n",
       " 192.0344827586207,\n",
       " 192.0344827586207,\n",
       " 192.0344827586207,\n",
       " 192.0344827586207,\n",
       " 192.0344827586207,\n",
       " 192.0344827586207,\n",
       " 192.0344827586207,\n",
       " 192.0344827586207,\n",
       " 192.0344827586207,\n",
       " 192.0344827586207,\n",
       " 192.0344827586207,\n",
       " 192.0344827586207,\n",
       " 192.0344827586207,\n",
       " 192.0344827586207,\n",
       " 192.0344827586207,\n",
       " 192.0344827586207,\n",
       " 192.0344827586207,\n",
       " 192.0344827586207,\n",
       " 192.0344827586207,\n",
       " 192.0344827586207,\n",
       " 159.11428571428573,\n",
       " 159.11428571428573,\n",
       " 159.11428571428573,\n",
       " 159.11428571428573,\n",
       " 159.11428571428573,\n",
       " 159.11428571428573,\n",
       " 159.11428571428573,\n",
       " 159.11428571428573,\n",
       " 159.11428571428573,\n",
       " 159.11428571428573,\n",
       " 159.11428571428573,\n",
       " 159.11428571428573,\n",
       " 159.11428571428573,\n",
       " 159.11428571428573,\n",
       " 159.11428571428573,\n",
       " 159.11428571428573,\n",
       " 159.11428571428573,\n",
       " 159.11428571428573,\n",
       " 159.11428571428573,\n",
       " 159.11428571428573,\n",
       " 159.11428571428573,\n",
       " 159.11428571428573,\n",
       " 159.11428571428573,\n",
       " 159.11428571428573,\n",
       " 159.11428571428573,\n",
       " 159.11428571428573,\n",
       " 159.11428571428573,\n",
       " 159.11428571428573,\n",
       " 159.11428571428573,\n",
       " 159.11428571428573,\n",
       " 159.11428571428573,\n",
       " 159.11428571428573,\n",
       " 159.11428571428573,\n",
       " 159.11428571428573,\n",
       " 159.11428571428573,\n",
       " 146.55263157894737,\n",
       " 146.55263157894737,\n",
       " 146.55263157894737,\n",
       " 146.55263157894737,\n",
       " 146.55263157894737,\n",
       " 146.55263157894737,\n",
       " 146.55263157894737,\n",
       " 146.55263157894737,\n",
       " 146.55263157894737,\n",
       " 146.55263157894737,\n",
       " 146.55263157894737,\n",
       " 146.55263157894737,\n",
       " 146.55263157894737,\n",
       " 146.55263157894737,\n",
       " 146.55263157894737,\n",
       " 146.55263157894737,\n",
       " 146.55263157894737,\n",
       " 146.55263157894737,\n",
       " 146.55263157894737,\n",
       " 146.55263157894737,\n",
       " 146.55263157894737,\n",
       " 146.55263157894737,\n",
       " 146.55263157894737,\n",
       " 146.55263157894737,\n",
       " 146.55263157894737,\n",
       " 146.55263157894737,\n",
       " 146.55263157894737,\n",
       " 146.55263157894737,\n",
       " 146.55263157894737,\n",
       " 146.55263157894737,\n",
       " 146.55263157894737,\n",
       " 146.55263157894737,\n",
       " 146.55263157894737,\n",
       " 146.55263157894737,\n",
       " 146.55263157894737,\n",
       " 146.55263157894737,\n",
       " 146.55263157894737,\n",
       " 146.55263157894737,\n",
       " 206.25925925925927,\n",
       " 206.25925925925927,\n",
       " 206.25925925925927,\n",
       " 206.25925925925927,\n",
       " 206.25925925925927,\n",
       " 206.25925925925927,\n",
       " 206.25925925925927,\n",
       " 206.25925925925927,\n",
       " 206.25925925925927,\n",
       " 206.25925925925927,\n",
       " 206.25925925925927,\n",
       " 206.25925925925927,\n",
       " 206.25925925925927,\n",
       " 206.25925925925927,\n",
       " 206.25925925925927,\n",
       " 206.25925925925927,\n",
       " 206.25925925925927,\n",
       " 206.25925925925927,\n",
       " 206.25925925925927,\n",
       " 206.25925925925927,\n",
       " 206.25925925925927,\n",
       " 206.25925925925927,\n",
       " 206.25925925925927,\n",
       " 206.25925925925927,\n",
       " 206.25925925925927,\n",
       " 206.25925925925927,\n",
       " 206.25925925925927,\n",
       " 179.6451612903226,\n",
       " 179.6451612903226,\n",
       " 179.6451612903226,\n",
       " 179.6451612903226,\n",
       " 179.6451612903226,\n",
       " 179.6451612903226,\n",
       " 179.6451612903226,\n",
       " 179.6451612903226,\n",
       " 179.6451612903226,\n",
       " 179.6451612903226,\n",
       " 179.6451612903226,\n",
       " 179.6451612903226,\n",
       " 179.6451612903226,\n",
       " 179.6451612903226,\n",
       " 179.6451612903226,\n",
       " 179.6451612903226,\n",
       " 179.6451612903226,\n",
       " 179.6451612903226,\n",
       " 179.6451612903226,\n",
       " 179.6451612903226,\n",
       " 179.6451612903226,\n",
       " 179.6451612903226,\n",
       " 179.6451612903226,\n",
       " 179.6451612903226,\n",
       " 179.6451612903226,\n",
       " 179.6451612903226,\n",
       " 179.6451612903226,\n",
       " 179.6451612903226,\n",
       " 179.6451612903226,\n",
       " 179.6451612903226,\n",
       " 179.6451612903226,\n",
       " 132.5952380952381,\n",
       " 132.5952380952381,\n",
       " 132.5952380952381,\n",
       " 132.5952380952381,\n",
       " 132.5952380952381,\n",
       " 132.5952380952381,\n",
       " 132.5952380952381,\n",
       " 132.5952380952381,\n",
       " 132.5952380952381,\n",
       " 132.5952380952381,\n",
       " 132.5952380952381,\n",
       " 132.5952380952381,\n",
       " 132.5952380952381,\n",
       " 132.5952380952381,\n",
       " 132.5952380952381,\n",
       " 132.5952380952381,\n",
       " 132.5952380952381,\n",
       " 132.5952380952381,\n",
       " 132.5952380952381,\n",
       " 132.5952380952381,\n",
       " 132.5952380952381,\n",
       " 132.5952380952381,\n",
       " 132.5952380952381,\n",
       " 132.5952380952381,\n",
       " 132.5952380952381,\n",
       " 132.5952380952381,\n",
       " 132.5952380952381,\n",
       " 132.5952380952381,\n",
       " 132.5952380952381,\n",
       " 132.5952380952381,\n",
       " 132.5952380952381,\n",
       " 132.5952380952381,\n",
       " 132.5952380952381,\n",
       " 132.5952380952381,\n",
       " 132.5952380952381,\n",
       " 132.5952380952381,\n",
       " 132.5952380952381,\n",
       " 132.5952380952381,\n",
       " 132.5952380952381,\n",
       " 132.5952380952381,\n",
       " 132.5952380952381,\n",
       " 132.5952380952381,\n",
       " 150.51351351351352,\n",
       " 150.51351351351352,\n",
       " 150.51351351351352,\n",
       " 150.51351351351352,\n",
       " 150.51351351351352,\n",
       " 150.51351351351352,\n",
       " 150.51351351351352,\n",
       " 150.51351351351352,\n",
       " 150.51351351351352,\n",
       " 150.51351351351352,\n",
       " 150.51351351351352,\n",
       " 150.51351351351352,\n",
       " 150.51351351351352,\n",
       " 150.51351351351352,\n",
       " 150.51351351351352,\n",
       " 150.51351351351352,\n",
       " 150.51351351351352,\n",
       " 150.51351351351352,\n",
       " 150.51351351351352,\n",
       " 150.51351351351352,\n",
       " 150.51351351351352,\n",
       " 150.51351351351352,\n",
       " 150.51351351351352,\n",
       " 150.51351351351352,\n",
       " 150.51351351351352,\n",
       " 150.51351351351352,\n",
       " 150.51351351351352,\n",
       " 150.51351351351352,\n",
       " 150.51351351351352,\n",
       " 150.51351351351352,\n",
       " 150.51351351351352,\n",
       " 150.51351351351352,\n",
       " 150.51351351351352,\n",
       " 150.51351351351352,\n",
       " 150.51351351351352,\n",
       " 150.51351351351352,\n",
       " 150.51351351351352,\n",
       " 142.7948717948718,\n",
       " 142.7948717948718,\n",
       " 142.7948717948718,\n",
       " 142.7948717948718,\n",
       " 142.7948717948718,\n",
       " 142.7948717948718,\n",
       " 142.7948717948718,\n",
       " 142.7948717948718,\n",
       " 142.7948717948718,\n",
       " 142.7948717948718,\n",
       " 142.7948717948718,\n",
       " 142.7948717948718,\n",
       " 142.7948717948718,\n",
       " 142.7948717948718,\n",
       " 142.7948717948718,\n",
       " 142.7948717948718,\n",
       " 142.7948717948718,\n",
       " 142.7948717948718,\n",
       " 142.7948717948718,\n",
       " 142.7948717948718,\n",
       " 142.7948717948718,\n",
       " 142.7948717948718,\n",
       " 142.7948717948718,\n",
       " 142.7948717948718,\n",
       " 142.7948717948718,\n",
       " 142.7948717948718,\n",
       " 142.7948717948718,\n",
       " 142.7948717948718,\n",
       " 142.7948717948718,\n",
       " 142.7948717948718,\n",
       " 142.7948717948718,\n",
       " 142.7948717948718,\n",
       " 142.7948717948718,\n",
       " 142.7948717948718,\n",
       " 142.7948717948718,\n",
       " 142.7948717948718,\n",
       " 142.7948717948718,\n",
       " 142.7948717948718,\n",
       " 142.7948717948718,\n",
       " 150.51351351351352,\n",
       " 150.51351351351352,\n",
       " 150.51351351351352,\n",
       " 150.51351351351352,\n",
       " 150.51351351351352,\n",
       " 150.51351351351352,\n",
       " 150.51351351351352,\n",
       " 150.51351351351352,\n",
       " 150.51351351351352,\n",
       " 150.51351351351352,\n",
       " 150.51351351351352,\n",
       " 150.51351351351352,\n",
       " 150.51351351351352,\n",
       " 150.51351351351352,\n",
       " 150.51351351351352,\n",
       " 150.51351351351352,\n",
       " 150.51351351351352,\n",
       " 150.51351351351352,\n",
       " 150.51351351351352,\n",
       " 150.51351351351352,\n",
       " 150.51351351351352,\n",
       " 150.51351351351352,\n",
       " 150.51351351351352,\n",
       " 150.51351351351352,\n",
       " 150.51351351351352,\n",
       " 150.51351351351352,\n",
       " 150.51351351351352,\n",
       " 150.51351351351352,\n",
       " 150.51351351351352,\n",
       " 150.51351351351352,\n",
       " 150.51351351351352,\n",
       " 150.51351351351352,\n",
       " 150.51351351351352,\n",
       " 150.51351351351352,\n",
       " 150.51351351351352,\n",
       " 150.51351351351352,\n",
       " 150.51351351351352,\n",
       " 146.55263157894737,\n",
       " 146.55263157894737,\n",
       " 146.55263157894737,\n",
       " 146.55263157894737,\n",
       " 146.55263157894737,\n",
       " 146.55263157894737,\n",
       " 146.55263157894737,\n",
       " 146.55263157894737,\n",
       " 146.55263157894737,\n",
       " 146.55263157894737,\n",
       " 146.55263157894737,\n",
       " 146.55263157894737,\n",
       " 146.55263157894737,\n",
       " 146.55263157894737,\n",
       " 146.55263157894737,\n",
       " 146.55263157894737,\n",
       " 146.55263157894737,\n",
       " 146.55263157894737,\n",
       " 146.55263157894737,\n",
       " 146.55263157894737,\n",
       " 146.55263157894737,\n",
       " 146.55263157894737,\n",
       " 146.55263157894737,\n",
       " 146.55263157894737,\n",
       " 146.55263157894737,\n",
       " 146.55263157894737,\n",
       " 146.55263157894737,\n",
       " 146.55263157894737,\n",
       " 146.55263157894737,\n",
       " 146.55263157894737,\n",
       " 146.55263157894737,\n",
       " 146.55263157894737,\n",
       " 146.55263157894737,\n",
       " 146.55263157894737,\n",
       " 146.55263157894737,\n",
       " 146.55263157894737,\n",
       " 146.55263157894737,\n",
       " 146.55263157894737,\n",
       " 132.5952380952381,\n",
       " 132.5952380952381,\n",
       " 132.5952380952381,\n",
       " 132.5952380952381,\n",
       " 132.5952380952381,\n",
       " 132.5952380952381,\n",
       " 132.5952380952381,\n",
       " 132.5952380952381,\n",
       " 132.5952380952381,\n",
       " 132.5952380952381,\n",
       " 132.5952380952381,\n",
       " 132.5952380952381,\n",
       " 132.5952380952381,\n",
       " 132.5952380952381,\n",
       " 132.5952380952381,\n",
       " 132.5952380952381,\n",
       " 132.5952380952381,\n",
       " 132.5952380952381,\n",
       " 132.5952380952381,\n",
       " 132.5952380952381,\n",
       " 132.5952380952381,\n",
       " 132.5952380952381,\n",
       " 132.5952380952381,\n",
       " 132.5952380952381,\n",
       " 132.5952380952381,\n",
       " 132.5952380952381,\n",
       " 132.5952380952381,\n",
       " 132.5952380952381,\n",
       " 132.5952380952381,\n",
       " 132.5952380952381,\n",
       " 132.5952380952381,\n",
       " 132.5952380952381,\n",
       " 132.5952380952381,\n",
       " 132.5952380952381,\n",
       " 132.5952380952381,\n",
       " 132.5952380952381,\n",
       " 132.5952380952381,\n",
       " 132.5952380952381,\n",
       " 132.5952380952381,\n",
       " 132.5952380952381,\n",
       " 132.5952380952381,\n",
       " 132.5952380952381,\n",
       " 146.55263157894737,\n",
       " 146.55263157894737,\n",
       " 146.55263157894737,\n",
       " 146.55263157894737,\n",
       " 146.55263157894737,\n",
       " 146.55263157894737,\n",
       " 146.55263157894737,\n",
       " 146.55263157894737,\n",
       " 146.55263157894737,\n",
       " 146.55263157894737,\n",
       " 146.55263157894737,\n",
       " 146.55263157894737,\n",
       " 146.55263157894737,\n",
       " 146.55263157894737,\n",
       " 146.55263157894737,\n",
       " 146.55263157894737,\n",
       " 146.55263157894737,\n",
       " 146.55263157894737,\n",
       " 146.55263157894737,\n",
       " 146.55263157894737,\n",
       " 146.55263157894737,\n",
       " 146.55263157894737,\n",
       " 146.55263157894737,\n",
       " 146.55263157894737,\n",
       " 146.55263157894737,\n",
       " 146.55263157894737,\n",
       " 146.55263157894737,\n",
       " 146.55263157894737,\n",
       " 146.55263157894737,\n",
       " 146.55263157894737,\n",
       " 146.55263157894737,\n",
       " 146.55263157894737,\n",
       " 146.55263157894737,\n",
       " 146.55263157894737,\n",
       " 146.55263157894737,\n",
       " 146.55263157894737,\n",
       " 146.55263157894737,\n",
       " 146.55263157894737,\n",
       " 192.0344827586207,\n",
       " 192.0344827586207,\n",
       " 192.0344827586207,\n",
       " 192.0344827586207,\n",
       " 192.0344827586207,\n",
       " 192.0344827586207,\n",
       " 192.0344827586207,\n",
       " 192.0344827586207,\n",
       " 192.0344827586207,\n",
       " 192.0344827586207,\n",
       " 192.0344827586207,\n",
       " 192.0344827586207,\n",
       " 192.0344827586207,\n",
       " 192.0344827586207,\n",
       " 192.0344827586207,\n",
       " 192.0344827586207,\n",
       " 192.0344827586207,\n",
       " 192.0344827586207,\n",
       " 192.0344827586207,\n",
       " 192.0344827586207,\n",
       " 192.0344827586207,\n",
       " 192.0344827586207,\n",
       " 192.0344827586207,\n",
       " 192.0344827586207,\n",
       " 192.0344827586207,\n",
       " 192.0344827586207,\n",
       " 192.0344827586207,\n",
       " 192.0344827586207,\n",
       " 192.0344827586207,\n",
       " 123.75555555555556,\n",
       " 123.75555555555556,\n",
       " 123.75555555555556,\n",
       " 123.75555555555556,\n",
       " 123.75555555555556,\n",
       " 123.75555555555556,\n",
       " 123.75555555555556,\n",
       " 123.75555555555556,\n",
       " 123.75555555555556,\n",
       " 123.75555555555556,\n",
       " 123.75555555555556,\n",
       " 123.75555555555556,\n",
       " 123.75555555555556,\n",
       " 123.75555555555556,\n",
       " 123.75555555555556,\n",
       " 123.75555555555556,\n",
       " 123.75555555555556,\n",
       " 123.75555555555556,\n",
       " 123.75555555555556,\n",
       " 123.75555555555556,\n",
       " 123.75555555555556,\n",
       " 123.75555555555556,\n",
       " 123.75555555555556,\n",
       " 123.75555555555556,\n",
       " 123.75555555555556,\n",
       " 123.75555555555556,\n",
       " 123.75555555555556,\n",
       " 123.75555555555556,\n",
       " 123.75555555555556,\n",
       " 123.75555555555556,\n",
       " 123.75555555555556,\n",
       " 123.75555555555556,\n",
       " 123.75555555555556,\n",
       " 123.75555555555556,\n",
       " 123.75555555555556,\n",
       " 123.75555555555556,\n",
       " 123.75555555555556,\n",
       " 123.75555555555556,\n",
       " 123.75555555555556,\n",
       " 123.75555555555556,\n",
       " 123.75555555555556,\n",
       " 123.75555555555556,\n",
       " 123.75555555555556,\n",
       " 123.75555555555556,\n",
       " 123.75555555555556,\n",
       " 150.51351351351352,\n",
       " 150.51351351351352,\n",
       " 150.51351351351352,\n",
       " 150.51351351351352,\n",
       " 150.51351351351352,\n",
       " 150.51351351351352,\n",
       " 150.51351351351352,\n",
       " 150.51351351351352,\n",
       " 150.51351351351352,\n",
       " 150.51351351351352,\n",
       " 150.51351351351352,\n",
       " 150.51351351351352,\n",
       " 150.51351351351352,\n",
       " 150.51351351351352,\n",
       " 150.51351351351352,\n",
       " 150.51351351351352,\n",
       " 150.51351351351352,\n",
       " 150.51351351351352,\n",
       " 150.51351351351352,\n",
       " 150.51351351351352,\n",
       " 150.51351351351352,\n",
       " 150.51351351351352,\n",
       " 150.51351351351352,\n",
       " 150.51351351351352,\n",
       " 150.51351351351352,\n",
       " 150.51351351351352,\n",
       " 150.51351351351352,\n",
       " 150.51351351351352,\n",
       " 150.51351351351352,\n",
       " 150.51351351351352,\n",
       " 150.51351351351352,\n",
       " 150.51351351351352,\n",
       " 150.51351351351352,\n",
       " 150.51351351351352,\n",
       " 150.51351351351352,\n",
       " 150.51351351351352,\n",
       " 150.51351351351352,\n",
       " 142.7948717948718,\n",
       " 142.7948717948718,\n",
       " 142.7948717948718,\n",
       " 142.7948717948718,\n",
       " 142.7948717948718,\n",
       " 142.7948717948718,\n",
       " 142.7948717948718,\n",
       " 142.7948717948718,\n",
       " 142.7948717948718,\n",
       " 142.7948717948718,\n",
       " 142.7948717948718,\n",
       " 142.7948717948718,\n",
       " 142.7948717948718,\n",
       " 142.7948717948718,\n",
       " 142.7948717948718,\n",
       " 142.7948717948718,\n",
       " 142.7948717948718,\n",
       " 142.7948717948718,\n",
       " 142.7948717948718,\n",
       " 142.7948717948718,\n",
       " 142.7948717948718,\n",
       " 142.7948717948718,\n",
       " 142.7948717948718,\n",
       " 142.7948717948718,\n",
       " 142.7948717948718,\n",
       " 142.7948717948718,\n",
       " 142.7948717948718,\n",
       " 142.7948717948718,\n",
       " 142.7948717948718,\n",
       " 142.7948717948718,\n",
       " 142.7948717948718,\n",
       " 142.7948717948718,\n",
       " 142.7948717948718,\n",
       " 142.7948717948718,\n",
       " 142.7948717948718,\n",
       " 142.7948717948718,\n",
       " 142.7948717948718,\n",
       " 142.7948717948718,\n",
       " 142.7948717948718,\n",
       " 107.09615384615384,\n",
       " 107.09615384615384,\n",
       " 107.09615384615384,\n",
       " 107.09615384615384,\n",
       " 107.09615384615384,\n",
       " 107.09615384615384,\n",
       " 107.09615384615384,\n",
       " 107.09615384615384,\n",
       " 107.09615384615384,\n",
       " 107.09615384615384,\n",
       " 107.09615384615384,\n",
       " 107.09615384615384,\n",
       " 107.09615384615384,\n",
       " 107.09615384615384,\n",
       " 107.09615384615384,\n",
       " 107.09615384615384,\n",
       " 107.09615384615384,\n",
       " 107.09615384615384,\n",
       " 107.09615384615384,\n",
       " 107.09615384615384,\n",
       " 107.09615384615384,\n",
       " 107.09615384615384,\n",
       " 107.09615384615384,\n",
       " 107.09615384615384,\n",
       " 107.09615384615384,\n",
       " 107.09615384615384,\n",
       " 107.09615384615384,\n",
       " 107.09615384615384,\n",
       " 107.09615384615384,\n",
       " 107.09615384615384,\n",
       " 107.09615384615384,\n",
       " 107.09615384615384,\n",
       " 107.09615384615384,\n",
       " 107.09615384615384,\n",
       " 107.09615384615384,\n",
       " 107.09615384615384,\n",
       " 107.09615384615384,\n",
       " 107.09615384615384,\n",
       " 107.09615384615384,\n",
       " 107.09615384615384,\n",
       " 107.09615384615384,\n",
       " 107.09615384615384,\n",
       " 107.09615384615384,\n",
       " 107.09615384615384,\n",
       " 107.09615384615384,\n",
       " 107.09615384615384,\n",
       " ...]"
      ]
     },
     "execution_count": 350,
     "metadata": {},
     "output_type": "execute_result"
    }
   ],
   "source": [
    "test_sampler._g_weights[0]"
   ]
  }
 ],
 "metadata": {
  "kernelspec": {
   "display_name": "Python 3",
   "language": "python",
   "name": "python3"
  },
  "language_info": {
   "codemirror_mode": {
    "name": "ipython",
    "version": 3
   },
   "file_extension": ".py",
   "mimetype": "text/x-python",
   "name": "python",
   "nbconvert_exporter": "python",
   "pygments_lexer": "ipython3",
   "version": "3.7.5"
  }
 },
 "nbformat": 4,
 "nbformat_minor": 4
}
