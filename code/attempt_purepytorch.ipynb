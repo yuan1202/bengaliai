{
 "cells": [
  {
   "cell_type": "code",
   "execution_count": 1,
   "metadata": {},
   "outputs": [],
   "source": [
    "import numpy as np\n",
    "import pandas as pd\n",
    "import bloscpack as bp\n",
    "from sklearn.model_selection import StratifiedKFold\n",
    "from iterstrat.ml_stratifiers import MultilabelStratifiedKFold\n",
    "\n",
    "from sklearn.metrics import recall_score\n",
    "\n",
    "import imgaug as ia\n",
    "import imgaug.augmenters as iaa\n",
    "\n",
    "from torch.utils.data.dataloader import DataLoader\n",
    "from torch.nn.utils import clip_grad_value_\n",
    "\n",
    "from optim import Over9000\n",
    "\n",
    "from data import Bengaliai_DS, Balanced_Sampler\n",
    "from model import *\n",
    "from model_utils import *\n",
    "from mixup_utils import *\n",
    "import utils\n",
    "\n",
    "import cv2\n",
    "cv2.setNumThreads(1)"
   ]
  },
  {
   "cell_type": "markdown",
   "metadata": {},
   "source": [
    "---"
   ]
  },
  {
   "cell_type": "code",
   "execution_count": 2,
   "metadata": {},
   "outputs": [],
   "source": [
    "SEED = 42\n",
    "\n",
    "def seed_everything(seed):\n",
    "    random.seed(seed)\n",
    "    os.environ['PYTHONHASHSEED'] = str(seed)\n",
    "    np.random.seed(seed)\n",
    "    torch.manual_seed(seed)\n",
    "    torch.cuda.manual_seed(seed)\n",
    "    torch.backends.cudnn.deterministic = True\n",
    "    torch.backends.cudnn.benchmark = True\n",
    "\n",
    "seed_everything(SEED)"
   ]
  },
  {
   "cell_type": "markdown",
   "metadata": {},
   "source": [
    "---\n",
    "### data"
   ]
  },
  {
   "cell_type": "markdown",
   "metadata": {},
   "source": [
    "#### stratification"
   ]
  },
  {
   "cell_type": "code",
   "execution_count": 3,
   "metadata": {},
   "outputs": [],
   "source": [
    "pdf = pd.read_csv('../input/train.csv')\n",
    "\n",
    "unique_grapheme = pdf['grapheme'].unique()\n",
    "grapheme_code = dict([(g, c) for g, c in zip(unique_grapheme, np.arange(unique_grapheme.shape[0]))])\n",
    "pdf['grapheme_code'] = [grapheme_code[g] for g in pdf['grapheme']]\n",
    "\n",
    "# skf = MultilabelStratifiedKFold(n_splits=4, shuffle=True, random_state=42)\n",
    "# for fold, (trn_ndx, vld_ndx) in enumerate(skf.split(pdf['image_id'].values.reshape(-1, 1), pdf.loc[:, ['grapheme_root', 'vowel_diacritic', 'consonant_diacritic']].values.reshape(-1, 3))):\n",
    "#     if fold == 0:\n",
    "#         break\n",
    "\n",
    "skf = StratifiedKFold(n_splits=8, shuffle=True, random_state=42)\n",
    "for trn_ndx, vld_ndx in skf.split(pdf['grapheme_code'], pdf['grapheme_code']):\n",
    "    break\n",
    "    \n",
    "trn_pdf = pdf.iloc[trn_ndx, :]\n",
    "trn_pdf.reset_index(inplace=True, drop=True)\n",
    "\n",
    "vld_pdf = pdf.iloc[vld_ndx, :]\n",
    "vld_pdf.reset_index(inplace=True, drop=True)"
   ]
  },
  {
   "cell_type": "markdown",
   "metadata": {},
   "source": [
    "#### augmentation"
   ]
  },
  {
   "cell_type": "code",
   "execution_count": 4,
   "metadata": {},
   "outputs": [],
   "source": [
    "augs = iaa.SomeOf(\n",
    "    (0, 2),\n",
    "    [\n",
    "        iaa.SomeOf(\n",
    "            (1, 2),\n",
    "            [\n",
    "                iaa.OneOf(\n",
    "                    [\n",
    "                        iaa.Affine(scale={\"x\": (0.8, 1.), \"y\": (0.8, 1.)}, rotate=(-15, 15), shear=(-15, 15)),\n",
    "                        iaa.PerspectiveTransform(scale=.08, keep_size=True),\n",
    "                    ]\n",
    "                ),\n",
    "                iaa.PiecewiseAffine(scale=(0.02, 0.03)),\n",
    "            ],\n",
    "            random_order=True\n",
    "        ),\n",
    "        iaa.OneOf(\n",
    "            [\n",
    "                iaa.DirectedEdgeDetect(alpha=(.6, .8), direction=(0.0, 1.0)),\n",
    "                iaa.Emboss(alpha=(.5, 1.), strength=(.1, 4)),\n",
    "            ]\n",
    "        ),\n",
    "    ],\n",
    "    random_order=True\n",
    ")"
   ]
  },
  {
   "cell_type": "markdown",
   "metadata": {},
   "source": [
    "#### dataset, dataloader with custom sampler"
   ]
  },
  {
   "cell_type": "code",
   "execution_count": 5,
   "metadata": {},
   "outputs": [],
   "source": [
    "# sampler = Balanced_Sampler(trn_pdf, count_column='image_id', primary_group='grapheme_root', secondary_group=['vowel_diacritic', 'consonant_diacritic'], size=trn_imgs.shape[0])\n",
    "\n",
    "training_set = Bengaliai_DS(pdf=trn_pdf, transform=augs, split_label=True)\n",
    "validation_set = Bengaliai_DS(pdf=vld_pdf, split_label=True)\n",
    "\n",
    "batch_size = 128\n",
    "\n",
    "training_loader = DataLoader(training_set, batch_size=batch_size, num_workers=6, shuffle=True) # sampler=sampler  shuffle=True\n",
    "validation_loader = DataLoader(validation_set, batch_size=batch_size, num_workers=6, shuffle=False)"
   ]
  },
  {
   "cell_type": "markdown",
   "metadata": {},
   "source": [
    "---\n",
    "### model"
   ]
  },
  {
   "cell_type": "code",
   "execution_count": 6,
   "metadata": {},
   "outputs": [],
   "source": [
    "DEVICE = 'cuda:0' # 'cuda:0' 'cpu' \n",
    "N_GRAPHEME = 168\n",
    "N_VOWEL = 11\n",
    "N_CONSONANT = 7\n",
    "N_TOTAL = N_GRAPHEME + N_VOWEL + N_CONSONANT\n",
    "\n",
    "N_EPOCHS = 32\n",
    "\n",
    "checkpoint_name = 'seresnext50_purepytorch_cutmix_aug_epoch{:d}.pth'"
   ]
  },
  {
   "cell_type": "code",
   "execution_count": 7,
   "metadata": {},
   "outputs": [],
   "source": [
    "predictor = PretrainedCNN(out_dim=N_TOTAL)\n",
    "classifier = BengaliClassifier(predictor)\n",
    "classifier = classifier.to(DEVICE)\n",
    "\n",
    "optimizer = Over9000(classifier.parameters())"
   ]
  },
  {
   "cell_type": "code",
   "execution_count": 8,
   "metadata": {},
   "outputs": [],
   "source": [
    "logger = utils.csv_logger(['training_loss', 'validation_loss', 'GRAPHEME_Recall', 'VOWEL_Recall', 'CONSONANT_Recall', 'Final_Recall'])"
   ]
  },
  {
   "cell_type": "code",
   "execution_count": 9,
   "metadata": {},
   "outputs": [
    {
     "name": "stdout",
     "output_type": "stream",
     "text": [
      "4/1373 batches: validation_loss: 1.9750"
     ]
    },
    {
     "name": "stderr",
     "output_type": "stream",
     "text": [
      "/home/yuan/miniconda3/envs/ML/lib/python3.7/site-packages/sklearn/metrics/_classification.py:1268: UndefinedMetricWarning: Recall is ill-defined and being set to 0.0 in labels with no true samples. Use `zero_division` parameter to control this behavior.\n",
      "  _warn_prf(average, modifier, msg_start, len(result))\n"
     ]
    },
    {
     "name": "stdout",
     "output_type": "stream",
     "text": [
      "1373/1373 batches: validation_loss: 2.370\n",
      "\n",
      "1/32 Epochs: training_loss: 2.987; validation_loss: 2.117; GRAPHEME_Recall: 0.816; VOWEL_Recall: 0.859; CONSONANT_Recall: 0.859; Final_Recall: 0.837\n",
      "Saving new best weight.\n",
      "15/1373 batches: training_loss: 1.252"
     ]
    },
    {
     "name": "stderr",
     "output_type": "stream",
     "text": [
      "Traceback (most recent call last):\n",
      "  File \"/home/yuan/miniconda3/envs/ML/lib/python3.7/multiprocessing/queues.py\", line 242, in _feed\n",
      "    send_bytes(obj)\n",
      "Traceback (most recent call last):\n",
      "  File \"/home/yuan/miniconda3/envs/ML/lib/python3.7/multiprocessing/queues.py\", line 242, in _feed\n",
      "    send_bytes(obj)\n",
      "  File \"/home/yuan/miniconda3/envs/ML/lib/python3.7/multiprocessing/connection.py\", line 200, in send_bytes\n",
      "    self._send_bytes(m[offset:offset + size])\n",
      "  File \"/home/yuan/miniconda3/envs/ML/lib/python3.7/multiprocessing/connection.py\", line 404, in _send_bytes\n",
      "    self._send(header + buf)\n",
      "  File \"/home/yuan/miniconda3/envs/ML/lib/python3.7/multiprocessing/connection.py\", line 368, in _send\n",
      "    n = write(self._handle, buf)\n",
      "  File \"/home/yuan/miniconda3/envs/ML/lib/python3.7/multiprocessing/connection.py\", line 200, in send_bytes\n",
      "    self._send_bytes(m[offset:offset + size])\n",
      "  File \"/home/yuan/miniconda3/envs/ML/lib/python3.7/multiprocessing/connection.py\", line 404, in _send_bytes\n",
      "    self._send(header + buf)\n",
      "  File \"/home/yuan/miniconda3/envs/ML/lib/python3.7/multiprocessing/connection.py\", line 368, in _send\n",
      "    n = write(self._handle, buf)\n",
      "BrokenPipeError: [Errno 32] Broken pipe\n",
      "Traceback (most recent call last):\n",
      "  File \"/home/yuan/miniconda3/envs/ML/lib/python3.7/multiprocessing/queues.py\", line 242, in _feed\n",
      "    send_bytes(obj)\n",
      "  File \"/home/yuan/miniconda3/envs/ML/lib/python3.7/multiprocessing/connection.py\", line 200, in send_bytes\n",
      "    self._send_bytes(m[offset:offset + size])\n",
      "Traceback (most recent call last):\n",
      "  File \"/home/yuan/miniconda3/envs/ML/lib/python3.7/multiprocessing/queues.py\", line 242, in _feed\n",
      "    send_bytes(obj)\n",
      "  File \"/home/yuan/miniconda3/envs/ML/lib/python3.7/multiprocessing/connection.py\", line 200, in send_bytes\n",
      "    self._send_bytes(m[offset:offset + size])\n",
      "  File \"/home/yuan/miniconda3/envs/ML/lib/python3.7/multiprocessing/connection.py\", line 404, in _send_bytes\n",
      "    self._send(header + buf)\n",
      "  File \"/home/yuan/miniconda3/envs/ML/lib/python3.7/multiprocessing/connection.py\", line 368, in _send\n",
      "    n = write(self._handle, buf)\n",
      "BrokenPipeError: [Errno 32] Broken pipe\n",
      "  File \"/home/yuan/miniconda3/envs/ML/lib/python3.7/multiprocessing/connection.py\", line 404, in _send_bytes\n",
      "    self._send(header + buf)\n",
      "Traceback (most recent call last):\n",
      "  File \"/home/yuan/miniconda3/envs/ML/lib/python3.7/multiprocessing/queues.py\", line 242, in _feed\n",
      "    send_bytes(obj)\n",
      "  File \"/home/yuan/miniconda3/envs/ML/lib/python3.7/multiprocessing/connection.py\", line 200, in send_bytes\n",
      "    self._send_bytes(m[offset:offset + size])\n",
      "  File \"/home/yuan/miniconda3/envs/ML/lib/python3.7/multiprocessing/connection.py\", line 404, in _send_bytes\n",
      "    self._send(header + buf)\n",
      "  File \"/home/yuan/miniconda3/envs/ML/lib/python3.7/multiprocessing/connection.py\", line 368, in _send\n",
      "    n = write(self._handle, buf)\n",
      "BrokenPipeError: [Errno 32] Broken pipe\n",
      "BrokenPipeError: [Errno 32] Broken pipe\n",
      "  File \"/home/yuan/miniconda3/envs/ML/lib/python3.7/multiprocessing/connection.py\", line 368, in _send\n",
      "    n = write(self._handle, buf)\n",
      "BrokenPipeError: [Errno 32] Broken pipe\n"
     ]
    },
    {
     "ename": "KeyboardInterrupt",
     "evalue": "",
     "output_type": "error",
     "traceback": [
      "\u001b[0;31m---------------------------------------------------------------------------\u001b[0m",
      "\u001b[0;31mKeyboardInterrupt\u001b[0m                         Traceback (most recent call last)",
      "\u001b[0;32m<ipython-input-9-6c61a70bec70>\u001b[0m in \u001b[0;36m<module>\u001b[0;34m\u001b[0m\n\u001b[1;32m     33\u001b[0m         \u001b[0mtotal_loss\u001b[0m\u001b[0;34m.\u001b[0m\u001b[0mbackward\u001b[0m\u001b[0;34m(\u001b[0m\u001b[0;34m)\u001b[0m\u001b[0;34m\u001b[0m\u001b[0;34m\u001b[0m\u001b[0m\n\u001b[1;32m     34\u001b[0m         \u001b[0mclip_grad_value_\u001b[0m\u001b[0;34m(\u001b[0m\u001b[0mclassifier\u001b[0m\u001b[0;34m.\u001b[0m\u001b[0mparameters\u001b[0m\u001b[0;34m(\u001b[0m\u001b[0;34m)\u001b[0m\u001b[0;34m,\u001b[0m \u001b[0;36m1.0\u001b[0m\u001b[0;34m)\u001b[0m\u001b[0;34m\u001b[0m\u001b[0;34m\u001b[0m\u001b[0m\n\u001b[0;32m---> 35\u001b[0;31m         \u001b[0moptimizer\u001b[0m\u001b[0;34m.\u001b[0m\u001b[0mstep\u001b[0m\u001b[0;34m(\u001b[0m\u001b[0;34m)\u001b[0m\u001b[0;34m\u001b[0m\u001b[0;34m\u001b[0m\u001b[0m\n\u001b[0m\u001b[1;32m     36\u001b[0m \u001b[0;34m\u001b[0m\u001b[0m\n\u001b[1;32m     37\u001b[0m         \u001b[0;31m# record\u001b[0m\u001b[0;34m\u001b[0m\u001b[0;34m\u001b[0m\u001b[0;34m\u001b[0m\u001b[0m\n",
      "\u001b[0;32m/workspace/kaggle/bengaliai/code/optim/lookahead.py\u001b[0m in \u001b[0;36mstep\u001b[0;34m(self, closure)\u001b[0m\n\u001b[1;32m     46\u001b[0m         \u001b[0;31m# print(self.k)\u001b[0m\u001b[0;34m\u001b[0m\u001b[0;34m\u001b[0m\u001b[0;34m\u001b[0m\u001b[0m\n\u001b[1;32m     47\u001b[0m         \u001b[0;31m#assert id(self.param_groups) == id(self.base_optimizer.param_groups)\u001b[0m\u001b[0;34m\u001b[0m\u001b[0;34m\u001b[0m\u001b[0;34m\u001b[0m\u001b[0m\n\u001b[0;32m---> 48\u001b[0;31m         \u001b[0mloss\u001b[0m \u001b[0;34m=\u001b[0m \u001b[0mself\u001b[0m\u001b[0;34m.\u001b[0m\u001b[0mbase_optimizer\u001b[0m\u001b[0;34m.\u001b[0m\u001b[0mstep\u001b[0m\u001b[0;34m(\u001b[0m\u001b[0mclosure\u001b[0m\u001b[0;34m)\u001b[0m\u001b[0;34m\u001b[0m\u001b[0;34m\u001b[0m\u001b[0m\n\u001b[0m\u001b[1;32m     49\u001b[0m         \u001b[0;32mfor\u001b[0m \u001b[0mgroup\u001b[0m \u001b[0;32min\u001b[0m \u001b[0mself\u001b[0m\u001b[0;34m.\u001b[0m\u001b[0mparam_groups\u001b[0m\u001b[0;34m:\u001b[0m\u001b[0;34m\u001b[0m\u001b[0;34m\u001b[0m\u001b[0m\n\u001b[1;32m     50\u001b[0m             \u001b[0mgroup\u001b[0m\u001b[0;34m[\u001b[0m\u001b[0;34m'lookahead_step'\u001b[0m\u001b[0;34m]\u001b[0m \u001b[0;34m+=\u001b[0m \u001b[0;36m1\u001b[0m\u001b[0;34m\u001b[0m\u001b[0;34m\u001b[0m\u001b[0m\n",
      "\u001b[0;32m/workspace/kaggle/bengaliai/code/optim/ralamb.py\u001b[0m in \u001b[0;36mstep\u001b[0;34m(self, closure)\u001b[0m\n\u001b[1;32m     82\u001b[0m                 \u001b[0mradam_norm\u001b[0m \u001b[0;34m=\u001b[0m \u001b[0mradam_step\u001b[0m\u001b[0;34m.\u001b[0m\u001b[0mpow\u001b[0m\u001b[0;34m(\u001b[0m\u001b[0;36m2\u001b[0m\u001b[0;34m)\u001b[0m\u001b[0;34m.\u001b[0m\u001b[0msum\u001b[0m\u001b[0;34m(\u001b[0m\u001b[0;34m)\u001b[0m\u001b[0;34m.\u001b[0m\u001b[0msqrt\u001b[0m\u001b[0;34m(\u001b[0m\u001b[0;34m)\u001b[0m\u001b[0;34m\u001b[0m\u001b[0;34m\u001b[0m\u001b[0m\n\u001b[1;32m     83\u001b[0m                 \u001b[0mweight_norm\u001b[0m \u001b[0;34m=\u001b[0m \u001b[0mp\u001b[0m\u001b[0;34m.\u001b[0m\u001b[0mdata\u001b[0m\u001b[0;34m.\u001b[0m\u001b[0mpow\u001b[0m\u001b[0;34m(\u001b[0m\u001b[0;36m2\u001b[0m\u001b[0;34m)\u001b[0m\u001b[0;34m.\u001b[0m\u001b[0msum\u001b[0m\u001b[0;34m(\u001b[0m\u001b[0;34m)\u001b[0m\u001b[0;34m.\u001b[0m\u001b[0msqrt\u001b[0m\u001b[0;34m(\u001b[0m\u001b[0;34m)\u001b[0m\u001b[0;34m.\u001b[0m\u001b[0mclamp\u001b[0m\u001b[0;34m(\u001b[0m\u001b[0;36m0\u001b[0m\u001b[0;34m,\u001b[0m \u001b[0;36m10\u001b[0m\u001b[0;34m)\u001b[0m\u001b[0;34m\u001b[0m\u001b[0;34m\u001b[0m\u001b[0m\n\u001b[0;32m---> 84\u001b[0;31m                 \u001b[0;32mif\u001b[0m \u001b[0mweight_norm\u001b[0m \u001b[0;34m==\u001b[0m \u001b[0;36m0\u001b[0m \u001b[0;32mor\u001b[0m \u001b[0mradam_norm\u001b[0m \u001b[0;34m==\u001b[0m \u001b[0;36m0\u001b[0m\u001b[0;34m:\u001b[0m\u001b[0;34m\u001b[0m\u001b[0;34m\u001b[0m\u001b[0m\n\u001b[0m\u001b[1;32m     85\u001b[0m                     \u001b[0mtrust_ratio\u001b[0m \u001b[0;34m=\u001b[0m \u001b[0;36m1\u001b[0m\u001b[0;34m\u001b[0m\u001b[0;34m\u001b[0m\u001b[0m\n\u001b[1;32m     86\u001b[0m                 \u001b[0;32melse\u001b[0m\u001b[0;34m:\u001b[0m\u001b[0;34m\u001b[0m\u001b[0;34m\u001b[0m\u001b[0m\n",
      "\u001b[0;31mKeyboardInterrupt\u001b[0m: "
     ]
    }
   ],
   "source": [
    "for i in range(N_EPOCHS):\n",
    "    logger.new_epoch()\n",
    "    # train\n",
    "    classifier.train()\n",
    "    \n",
    "    epoch_trn_loss = []\n",
    "    epoch_vld_loss = []\n",
    "    epoch_vld_metrics = []\n",
    "    \n",
    "    for j, (trn_imgs_batch, trn_lbls_batch) in enumerate(training_loader):\n",
    "        \n",
    "        optimizer.zero_grad()\n",
    "        \n",
    "        # move to device\n",
    "        trn_imgs_batch_device = trn_imgs_batch.to(DEVICE)\n",
    "        trn_lbls_batch_device = [l.to(DEVICE) for l in trn_lbls_batch]\n",
    "        \n",
    "        # one hot encoding label then perform mixup\n",
    "        trn_lbls_onehot = [to_onehot(l, c) for l, c in zip(trn_lbls_batch_device, (N_GRAPHEME, N_VOWEL, N_CONSONANT))]\n",
    "        with torch.no_grad():\n",
    "            #trn_imgs_batch_mixup, trn_lbls_onehot_mixup = mixup(trn_imgs_batch_device, trn_lbls_onehot)\n",
    "            trn_imgs_batch_mixup, trn_lbls_onehot_mixup = cutmix(trn_imgs_batch_device, *trn_lbls_onehot, alpha=.4)\n",
    "        \n",
    "        # forward pass\n",
    "        logits = classifier(trn_imgs_batch_mixup)\n",
    "        # probabilities = logit_to_probability(logits)\n",
    "        \n",
    "        # loss and gradient and optmize\n",
    "        #loss = criterion(logits, trn_lbls_onehot_mixup)\n",
    "        #total_loss = .7 * loss[0] + .1 * loss[1] + .2 * loss[2]\n",
    "        #total_loss = loss[0] + loss[1] + loss[2]\n",
    "        total_loss = cutmix_criterion(*logits, trn_lbls_onehot_mixup)\n",
    "        total_loss.backward()\n",
    "        clip_grad_value_(classifier.parameters(), 1.0)\n",
    "        optimizer.step()\n",
    "        \n",
    "        # record\n",
    "        epoch_trn_loss.append(total_loss.item())\n",
    "        \n",
    "        utils.display_progress(len(training_loader), j+1, {'training_loss': epoch_trn_loss[-1]})\n",
    "    \n",
    "    # validation\n",
    "    classifier.eval()\n",
    "    \n",
    "    with torch.no_grad():\n",
    "        for k, (vld_imgs_batch, vld_lbls_batch) in enumerate(validation_loader):\n",
    "            \n",
    "            # move to device\n",
    "            vld_imgs_batch_device = vld_imgs_batch.to(DEVICE)\n",
    "            vld_lbls_batch_device = [l.to(DEVICE) for l in vld_lbls_batch]\n",
    "            \n",
    "            # one hot encoding label then perform mixup\n",
    "            #vld_lbls_onehot = [to_onehot(l, c) for l, c in zip(vld_lbls_batch_device, (N_GRAPHEME, N_VOWEL, N_CONSONANT))]\n",
    "            #vld_imgs_batch_mixup, vld_lbls_onehot_mixup = mixup(vld_imgs_batch_device, vld_lbls_onehot)\n",
    "            \n",
    "            # forward pass\n",
    "            #logits = classifier(vld_imgs_batch_mixup)\n",
    "            logits = classifier(vld_imgs_batch_device)\n",
    "            probabilities = logit_to_probability(logits)\n",
    "            batch_vld_results = [p.argmax(axis=1) for p in probabilities]\n",
    "            batch_vld_metric = [recall_score(l.detach().cpu().numpy(), p.detach().cpu().numpy(), average='macro') for l, p in zip(vld_lbls_batch, batch_vld_results)]\n",
    "            epoch_vld_metrics.append(batch_vld_metric)\n",
    "            \n",
    "            # loss\n",
    "            #loss = criterion(logits, vld_lbls_onehot_mixup)\n",
    "            loss = [F.cross_entropy(l0, l1) for l0, l1 in zip(logits, vld_lbls_batch_device)]\n",
    "            #total_loss = .7 * loss[0] + .1 * loss[1] + .2 * loss[2]\n",
    "            total_loss = loss[0] + loss[1] + loss[2]\n",
    "            \n",
    "            # record\n",
    "            epoch_vld_loss.append(total_loss.item())\n",
    "            \n",
    "            utils.display_progress(len(validation_loader), k+1, {'validation_loss': epoch_vld_loss[-1]})\n",
    "    #break\n",
    "    Recalls = np.array(epoch_vld_metrics)\n",
    "    entry = {\n",
    "        'training_loss': np.mean(epoch_trn_loss),\n",
    "        'validation_loss': np.mean(epoch_vld_loss),\n",
    "        'GRAPHEME_Recall': Recalls[:, 0].mean(),\n",
    "        'VOWEL_Recall': Recalls[:, 1].mean(),\n",
    "        'CONSONANT_Recall': Recalls[:, 2].mean(),\n",
    "        'Final_Recall': np.average([Recalls[:, 0].mean(), Recalls[:, 1].mean(), Recalls[:, 2].mean()], weights=[2, 1, 1]),\n",
    "    }\n",
    "    utils.display_progress(N_EPOCHS, i+1, entry, postfix='Epochs', persist=True)\n",
    "    # ----------------------------------\n",
    "    # save model\n",
    "    if entry['validation_loss'] < np.nan_to_num(logger.log['validation_loss'].min(), nan=100.):\n",
    "        print('Saving new best weight.')\n",
    "        torch.save(\n",
    "            {\n",
    "                'epoch': i,\n",
    "                'model': classifier.state_dict(),\n",
    "                'optimizer': optimizer.state_dict(),\n",
    "            }, \n",
    "            os.path.join('./outputs/', checkpoint_name.format(i)),\n",
    "        )\n",
    "    \n",
    "    # ----------------------------------\n",
    "    # log\n",
    "    logger.enter(entry)\n"
   ]
  }
 ],
 "metadata": {
  "kernelspec": {
   "display_name": "Python 3",
   "language": "python",
   "name": "python3"
  },
  "language_info": {
   "codemirror_mode": {
    "name": "ipython",
    "version": 3
   },
   "file_extension": ".py",
   "mimetype": "text/x-python",
   "name": "python",
   "nbconvert_exporter": "python",
   "pygments_lexer": "ipython3",
   "version": "3.7.5"
  }
 },
 "nbformat": 4,
 "nbformat_minor": 4
}
