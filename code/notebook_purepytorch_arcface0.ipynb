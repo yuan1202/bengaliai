{
 "cells": [
  {
   "cell_type": "code",
   "execution_count": 1,
   "metadata": {},
   "outputs": [],
   "source": [
    "import os, random\n",
    "import numpy as np\n",
    "import pandas as pd\n",
    "import bloscpack as bp\n",
    "from sklearn.model_selection import StratifiedKFold\n",
    "from iterstrat.ml_stratifiers import MultilabelStratifiedKFold\n",
    "\n",
    "from sklearn.metrics import recall_score\n",
    "\n",
    "import imgaug as ia\n",
    "import imgaug.augmenters as iaa\n",
    "\n",
    "import torch\n",
    "from torch.utils.data.dataloader import DataLoader\n",
    "from torch.nn.utils import clip_grad_value_\n",
    "import torch.nn.functional as F\n",
    "from torch.optim.lr_scheduler import CosineAnnealingLR\n",
    "\n",
    "from optim import Over9000\n",
    "\n",
    "from data import Bengaliai_DS\n",
    "from models_mg import Simple50GeM\n",
    "from mixup_pytorch_utils import mixup, mixup_loss\n",
    "from loss import CenterLoss, AngularPenaltySMLoss\n",
    "import utils\n",
    "\n",
    "import cv2\n",
    "cv2.setNumThreads(1)"
   ]
  },
  {
   "cell_type": "markdown",
   "metadata": {},
   "source": [
    "---"
   ]
  },
  {
   "cell_type": "code",
   "execution_count": 2,
   "metadata": {},
   "outputs": [],
   "source": [
    "SEED = 19841202\n",
    "\n",
    "def seed_everything(seed):\n",
    "    random.seed(seed)\n",
    "    os.environ['PYTHONHASHSEED'] = str(seed)\n",
    "    np.random.seed(seed)\n",
    "    torch.manual_seed(seed)\n",
    "    torch.cuda.manual_seed(seed)\n",
    "    torch.backends.cudnn.deterministic = True\n",
    "    torch.backends.cudnn.benchmark = True\n",
    "\n",
    "seed_everything(SEED)"
   ]
  },
  {
   "cell_type": "markdown",
   "metadata": {},
   "source": [
    "---\n",
    "### data"
   ]
  },
  {
   "cell_type": "markdown",
   "metadata": {},
   "source": [
    "#### augmentation"
   ]
  },
  {
   "cell_type": "code",
   "execution_count": 3,
   "metadata": {},
   "outputs": [],
   "source": [
    "augs = iaa.SomeOf(\n",
    "    (0, 3),\n",
    "    [\n",
    "        iaa.PiecewiseAffine(scale=(.02, .04)),\n",
    "        iaa.DirectedEdgeDetect(alpha=(.6, .8), direction=(0.0, 1.0)),\n",
    "        iaa.CoarseDropout(p=(.1, .2), size_percent=(0.05, 0.1)),\n",
    "    ],\n",
    "    random_order=True\n",
    ")"
   ]
  },
  {
   "cell_type": "markdown",
   "metadata": {},
   "source": [
    "#### stratification"
   ]
  },
  {
   "cell_type": "code",
   "execution_count": 4,
   "metadata": {},
   "outputs": [],
   "source": [
    "pdf = pd.read_csv('../input/train.csv')\n",
    "pdf['combo'] = pdf.apply(lambda row: '_'.join([str(row['grapheme_root']), str(row['vowel_diacritic']), str(row['consonant_diacritic'])]), axis=1)\n",
    "unique_grapheme = pdf['combo'].unique() # 1292\n",
    "grapheme_code = dict([(g, c) for g, c in zip(unique_grapheme, np.arange(unique_grapheme.shape[0]))])\n",
    "pdf['grapheme_code'] = [grapheme_code[g] for g in pdf['combo']]\n",
    "\n",
    "skf = StratifiedKFold(n_splits=7, shuffle=True, random_state=19841202)\n",
    "for trn_ndx, vld_ndx in skf.split(pdf['grapheme_code'], pdf['grapheme_code']):\n",
    "    break\n",
    "    \n",
    "trn_pdf = pdf.iloc[trn_ndx, :]\n",
    "trn_pdf.reset_index(inplace=True, drop=True)\n",
    "imgs = bp.unpack_ndarray_from_file('../features/train_images_size128_pad3.bloscpack')\n",
    "lbls = pdf.loc[:, ['grapheme_root', 'vowel_diacritic', 'consonant_diacritic', 'grapheme_code']].values\n",
    "\n",
    "trn_imgs = imgs[trn_ndx]\n",
    "trn_lbls = lbls[trn_ndx]\n",
    "vld_imgs = imgs[vld_ndx]\n",
    "vld_lbls = lbls[vld_ndx]"
   ]
  },
  {
   "cell_type": "code",
   "execution_count": 5,
   "metadata": {},
   "outputs": [],
   "source": [
    "training_set = Bengaliai_DS(trn_imgs, trn_lbls, transform=augs)\n",
    "validation_set = Bengaliai_DS(vld_imgs, vld_lbls)\n",
    "\n",
    "batch_size = 64\n",
    "\n",
    "training_loader = DataLoader(training_set, batch_size=batch_size, num_workers=6, shuffle=True)\n",
    "validation_loader = DataLoader(validation_set, batch_size=batch_size, num_workers=6, shuffle=False)"
   ]
  },
  {
   "cell_type": "markdown",
   "metadata": {},
   "source": [
    "---\n",
    "### model"
   ]
  },
  {
   "cell_type": "code",
   "execution_count": 6,
   "metadata": {},
   "outputs": [],
   "source": [
    "N_EPOCHS = 160\n",
    "\n",
    "feat_loss_weight = .1\n",
    "\n",
    "reduction = 'mean'\n",
    "\n",
    "checkpoint_name = 'pytorch_model_test_epoch{:d}.pth'"
   ]
  },
  {
   "cell_type": "code",
   "execution_count": 8,
   "metadata": {},
   "outputs": [],
   "source": [
    "classifier = Simple50GeM().cuda()\n",
    "feat_loser = AngularPenaltySMLoss(in_features=256, out_features=1292).cuda()\n",
    "\n",
    "# optimizer = Over9000(classifier.parameters(), lr=.01)\n",
    "optimizer = Over9000(\n",
    "    [\n",
    "        {'params': classifier.parameters()}, \n",
    "        {'params': feat_loser.parameters(), 'lr': .01}\n",
    "    ],\n",
    "    lr=.01,\n",
    ")\n",
    "\n",
    "lr_scheduler = CosineAnnealingLR(optimizer, T_max=N_EPOCHS, eta_min=0.0001, last_epoch=-1)"
   ]
  },
  {
   "cell_type": "code",
   "execution_count": 9,
   "metadata": {},
   "outputs": [],
   "source": [
    "logger = utils.csv_logger(['training_loss', 'validation_loss', 'GRAPHEME_Recall', 'VOWEL_Recall', 'CONSONANT_Recall', 'Final_Recall'])"
   ]
  },
  {
   "cell_type": "code",
   "execution_count": 10,
   "metadata": {},
   "outputs": [
    {
     "name": "stdout",
     "output_type": "stream",
     "text": [
      "5/449 batches: validation_loss: 0.97160"
     ]
    },
    {
     "name": "stderr",
     "output_type": "stream",
     "text": [
      "/home/yuan/miniconda3/envs/ML/lib/python3.7/site-packages/sklearn/metrics/_classification.py:1268: UndefinedMetricWarning: Recall is ill-defined and being set to 0.0 in labels with no true samples. Use `zero_division` parameter to control this behavior.\n",
      "  _warn_prf(average, modifier, msg_start, len(result))\n"
     ]
    },
    {
     "name": "stdout",
     "output_type": "stream",
     "text": [
      "449/449 batches: validation_loss: 0.712\n",
      "\n",
      "1/160 Epochs: training_loss: 2.919; validation_loss: 0.988; GRAPHEME_Recall: 0.852; VOWEL_Recall: 0.963; CONSONANT_Recall: 0.960; Final_Recall: 0.907\n",
      "Saving new best weight.\n",
      "449/449 batches: validation_loss: 0.138\n",
      "\n",
      "2/160 Epochs: training_loss: 1.063; validation_loss: 0.709; GRAPHEME_Recall: 0.891; VOWEL_Recall: 0.960; CONSONANT_Recall: 0.967; Final_Recall: 0.927\n",
      "Saving new best weight.\n",
      "449/449 batches: validation_loss: 0.086\n",
      "\n",
      "3/160 Epochs: training_loss: 0.816; validation_loss: 0.582; GRAPHEME_Recall: 0.905; VOWEL_Recall: 0.979; CONSONANT_Recall: 0.976; Final_Recall: 0.941\n",
      "Saving new best weight.\n",
      "1046/2690 batches: training_loss: 0.244"
     ]
    },
    {
     "ename": "KeyboardInterrupt",
     "evalue": "",
     "output_type": "error",
     "traceback": [
      "\u001b[0;31m---------------------------------------------------------------------------\u001b[0m",
      "\u001b[0;31mKeyboardInterrupt\u001b[0m                         Traceback (most recent call last)",
      "\u001b[0;32m<ipython-input-10-db56c76095e8>\u001b[0m in \u001b[0;36m<module>\u001b[0;34m\u001b[0m\n\u001b[1;32m     38\u001b[0m         \u001b[0moptimizer\u001b[0m\u001b[0;34m.\u001b[0m\u001b[0mzero_grad\u001b[0m\u001b[0;34m(\u001b[0m\u001b[0;34m)\u001b[0m\u001b[0;34m\u001b[0m\u001b[0;34m\u001b[0m\u001b[0m\n\u001b[1;32m     39\u001b[0m \u001b[0;34m\u001b[0m\u001b[0m\n\u001b[0;32m---> 40\u001b[0;31m         \u001b[0mtotal_loss\u001b[0m\u001b[0;34m.\u001b[0m\u001b[0mbackward\u001b[0m\u001b[0;34m(\u001b[0m\u001b[0;34m)\u001b[0m\u001b[0;34m\u001b[0m\u001b[0;34m\u001b[0m\u001b[0m\n\u001b[0m\u001b[1;32m     41\u001b[0m         \u001b[0mclip_grad_value_\u001b[0m\u001b[0;34m(\u001b[0m\u001b[0mclassifier\u001b[0m\u001b[0;34m.\u001b[0m\u001b[0mparameters\u001b[0m\u001b[0;34m(\u001b[0m\u001b[0;34m)\u001b[0m\u001b[0;34m,\u001b[0m \u001b[0;36m1.0\u001b[0m\u001b[0;34m)\u001b[0m\u001b[0;34m\u001b[0m\u001b[0;34m\u001b[0m\u001b[0m\n\u001b[1;32m     42\u001b[0m         \u001b[0mclip_grad_value_\u001b[0m\u001b[0;34m(\u001b[0m\u001b[0mfeat_loser\u001b[0m\u001b[0;34m.\u001b[0m\u001b[0mparameters\u001b[0m\u001b[0;34m(\u001b[0m\u001b[0;34m)\u001b[0m\u001b[0;34m,\u001b[0m \u001b[0;36m1.0\u001b[0m\u001b[0;34m)\u001b[0m\u001b[0;34m\u001b[0m\u001b[0;34m\u001b[0m\u001b[0m\n",
      "\u001b[0;32m~/miniconda3/envs/ML/lib/python3.7/site-packages/torch/tensor.py\u001b[0m in \u001b[0;36mbackward\u001b[0;34m(self, gradient, retain_graph, create_graph)\u001b[0m\n\u001b[1;32m    193\u001b[0m                 \u001b[0mproducts\u001b[0m\u001b[0;34m.\u001b[0m \u001b[0mDefaults\u001b[0m \u001b[0mto\u001b[0m\u001b[0;31m \u001b[0m\u001b[0;31m`\u001b[0m\u001b[0;31m`\u001b[0m\u001b[0;32mFalse\u001b[0m\u001b[0;31m`\u001b[0m\u001b[0;31m`\u001b[0m\u001b[0;34m.\u001b[0m\u001b[0;34m\u001b[0m\u001b[0;34m\u001b[0m\u001b[0m\n\u001b[1;32m    194\u001b[0m         \"\"\"\n\u001b[0;32m--> 195\u001b[0;31m         \u001b[0mtorch\u001b[0m\u001b[0;34m.\u001b[0m\u001b[0mautograd\u001b[0m\u001b[0;34m.\u001b[0m\u001b[0mbackward\u001b[0m\u001b[0;34m(\u001b[0m\u001b[0mself\u001b[0m\u001b[0;34m,\u001b[0m \u001b[0mgradient\u001b[0m\u001b[0;34m,\u001b[0m \u001b[0mretain_graph\u001b[0m\u001b[0;34m,\u001b[0m \u001b[0mcreate_graph\u001b[0m\u001b[0;34m)\u001b[0m\u001b[0;34m\u001b[0m\u001b[0;34m\u001b[0m\u001b[0m\n\u001b[0m\u001b[1;32m    196\u001b[0m \u001b[0;34m\u001b[0m\u001b[0m\n\u001b[1;32m    197\u001b[0m     \u001b[0;32mdef\u001b[0m \u001b[0mregister_hook\u001b[0m\u001b[0;34m(\u001b[0m\u001b[0mself\u001b[0m\u001b[0;34m,\u001b[0m \u001b[0mhook\u001b[0m\u001b[0;34m)\u001b[0m\u001b[0;34m:\u001b[0m\u001b[0;34m\u001b[0m\u001b[0;34m\u001b[0m\u001b[0m\n",
      "\u001b[0;32m~/miniconda3/envs/ML/lib/python3.7/site-packages/torch/autograd/__init__.py\u001b[0m in \u001b[0;36mbackward\u001b[0;34m(tensors, grad_tensors, retain_graph, create_graph, grad_variables)\u001b[0m\n\u001b[1;32m     97\u001b[0m     Variable._execution_engine.run_backward(\n\u001b[1;32m     98\u001b[0m         \u001b[0mtensors\u001b[0m\u001b[0;34m,\u001b[0m \u001b[0mgrad_tensors\u001b[0m\u001b[0;34m,\u001b[0m \u001b[0mretain_graph\u001b[0m\u001b[0;34m,\u001b[0m \u001b[0mcreate_graph\u001b[0m\u001b[0;34m,\u001b[0m\u001b[0;34m\u001b[0m\u001b[0;34m\u001b[0m\u001b[0m\n\u001b[0;32m---> 99\u001b[0;31m         allow_unreachable=True)  # allow_unreachable flag\n\u001b[0m\u001b[1;32m    100\u001b[0m \u001b[0;34m\u001b[0m\u001b[0m\n\u001b[1;32m    101\u001b[0m \u001b[0;34m\u001b[0m\u001b[0m\n",
      "\u001b[0;31mKeyboardInterrupt\u001b[0m: "
     ]
    }
   ],
   "source": [
    "for i in range(N_EPOCHS):\n",
    "    logger.new_epoch()\n",
    "    # train\n",
    "    classifier.train()\n",
    "    feat_loser.train()\n",
    "    \n",
    "    epoch_trn_loss = []\n",
    "    epoch_vld_loss = []\n",
    "    epoch_vld_recall_g, epoch_vld_recall_v, epoch_vld_recall_c, epoch_vld_recall_all = [], [], [], []\n",
    "    \n",
    "    for j, (trn_imgs_batch, trn_lbls_batch) in enumerate(training_loader):\n",
    "        # move to device\n",
    "        trn_imgs_batch_device = trn_imgs_batch.cuda()\n",
    "        trn_lbls_batch_device = trn_lbls_batch.cuda()\n",
    "        \n",
    "        # mixup\n",
    "        #trn_imgs_batch_device_mixup, trn_lbls_batch_device_shfl, gamma = mixup(trn_imgs_batch_device, trn_lbls_batch_device, .8)\n",
    "        \n",
    "        # forward pass\n",
    "        #logits_g, logits_v, logits_c = classifier(trn_imgs_batch_device)\n",
    "        logits_g, logits_v, logits_c, feats = classifier(trn_imgs_batch_device)\n",
    "        #logits_g, logits_v, logits_c, feats = classifier(trn_imgs_batch_device_mixup)\n",
    "        \n",
    "        #loss_g = mixup_loss(logits_g, trn_lbls_batch_device[:, 0], trn_lbls_batch_device_shfl[:, 0], gamma).mean()\n",
    "        #loss_v = mixup_loss(logits_v, trn_lbls_batch_device[:, 1], trn_lbls_batch_device_shfl[:, 1], gamma).mean()\n",
    "        #loss_c = mixup_loss(logits_c, trn_lbls_batch_device[:, 2], trn_lbls_batch_device_shfl[:, 2], gamma).mean()\n",
    "        #loss_feat = (gamma*feat_loser(feats, trn_lbls_batch_device[:, 3]) + (1-gamma)*feat_loser(feats, trn_lbls_batch_device_shfl[:, 3])).mean()\n",
    "        \n",
    "        loss_g = F.cross_entropy(logits_g, trn_lbls_batch_device[:, 0], reduction=reduction)\n",
    "        loss_v = F.cross_entropy(logits_v, trn_lbls_batch_device[:, 1], reduction=reduction)\n",
    "        loss_c = F.cross_entropy(logits_c, trn_lbls_batch_device[:, 2], reduction=reduction)\n",
    "        loss_feat = feat_loser(feats, trn_lbls_batch_device[:, 3]).mean()\n",
    "        \n",
    "        #break\n",
    "        \n",
    "        total_loss = .5*loss_g + .25*loss_v + .25*loss_c + feat_loss_weight*loss_feat\n",
    "        \n",
    "        optimizer.zero_grad()\n",
    "        \n",
    "        total_loss.backward()\n",
    "        clip_grad_value_(classifier.parameters(), 1.0)\n",
    "        clip_grad_value_(feat_loser.parameters(), 1.0)\n",
    "        \n",
    "        optimizer.step()\n",
    "        # by doing so, weight_cent would not impact on the learning of centers\n",
    "        #for param in center_loser.parameters():\n",
    "        #    param.grad.data *= (1. / center_loss_weight)\n",
    "        \n",
    "        #optimizer_featurelsr.step()\n",
    "        \n",
    "        # record\n",
    "        epoch_trn_loss.append(total_loss.item())\n",
    "        \n",
    "        utils.display_progress(len(training_loader), j+1, {'training_loss': epoch_trn_loss[-1]})\n",
    "    \n",
    "    #break\n",
    "    # validation\n",
    "    classifier.eval()\n",
    "    #feat_loser.eval()\n",
    "    \n",
    "    with torch.no_grad():\n",
    "        for k, (vld_imgs_batch, vld_lbls_batch) in enumerate(validation_loader):\n",
    "            \n",
    "            # move to device\n",
    "            vld_imgs_batch_device = vld_imgs_batch.cuda()\n",
    "            vld_lbls_batch_device = vld_lbls_batch.cuda()\n",
    "            vld_lbls_batch_numpy = vld_lbls_batch.detach().cpu().numpy()\n",
    "            \n",
    "            # forward pass\n",
    "            #logits_g, logits_v, logits_c = classifier(vld_imgs_batch_device)\n",
    "            logits_g, logits_v, logits_c, feats = classifier(vld_imgs_batch_device)\n",
    "            \n",
    "            # loss\n",
    "            loss_g = F.cross_entropy(logits_g, vld_lbls_batch_device[:, 0], reduction=reduction)\n",
    "            loss_v = F.cross_entropy(logits_v, vld_lbls_batch_device[:, 1], reduction=reduction)\n",
    "            loss_c = F.cross_entropy(logits_c, vld_lbls_batch_device[:, 2], reduction=reduction)\n",
    "            loss_feat = feat_loser(feats, vld_lbls_batch_device[:, 3]).mean()\n",
    "            \n",
    "            total_loss = .5*loss_g + .25*loss_v + .25*loss_c + feat_loss_weight*loss_feat\n",
    "            # record\n",
    "            epoch_vld_loss.append(total_loss.item())\n",
    "            \n",
    "            # metrics\n",
    "            pred_g, pred_v, pred_c = logits_g.argmax(axis=1).detach().cpu().numpy(), logits_v.argmax(axis=1).detach().cpu().numpy(), logits_c.argmax(axis=1).detach().cpu().numpy()\n",
    "            epoch_vld_recall_g.append(recall_score(pred_g, vld_lbls_batch_numpy[:, 0], average='macro'))\n",
    "            epoch_vld_recall_v.append(recall_score(pred_v, vld_lbls_batch_numpy[:, 1], average='macro'))\n",
    "            epoch_vld_recall_c.append(recall_score(pred_c, vld_lbls_batch_numpy[:, 2], average='macro'))\n",
    "            \n",
    "            # display progress\n",
    "            utils.display_progress(len(validation_loader), k+1, {'validation_loss': epoch_vld_loss[-1]})\n",
    "    #break\n",
    "    epoch_vld_recall_g, epoch_vld_recall_v, epoch_vld_recall_c = np.mean(epoch_vld_recall_g), np.mean(epoch_vld_recall_v), np.mean(epoch_vld_recall_c)\n",
    "    \n",
    "    entry = {\n",
    "        'training_loss': np.mean(epoch_trn_loss),\n",
    "        'validation_loss': np.mean(epoch_vld_loss),\n",
    "        'GRAPHEME_Recall': epoch_vld_recall_g,\n",
    "        'VOWEL_Recall': epoch_vld_recall_v,\n",
    "        'CONSONANT_Recall': epoch_vld_recall_c,\n",
    "        'Final_Recall': np.average([epoch_vld_recall_g, epoch_vld_recall_v, epoch_vld_recall_c], weights=[2, 1, 1]),\n",
    "        'Time': datetime.now().strftime(\"%d%b%Y-%HH%MM%SS\")\n",
    "    }\n",
    "    \n",
    "    utils.display_progress(N_EPOCHS, i+1, entry, postfix='Epochs', persist=True)\n",
    "    \n",
    "    # ----------------------------------\n",
    "    # save model\n",
    "    if entry['validation_loss'] < np.nan_to_num(logger.log['validation_loss'].min(), nan=100.):\n",
    "        print('Saving new best weight.')\n",
    "        torch.save(\n",
    "            {\n",
    "                'epoch': i,\n",
    "                'model': classifier.state_dict(),\n",
    "                'optimizer': optimizer.state_dict(),\n",
    "            }, \n",
    "            os.path.join('./', checkpoint_name.format(i)),\n",
    "        )\n",
    "    \n",
    "    # ----------------------------------\n",
    "    # log\n",
    "    logger.enter(entry)\n",
    "    lr_scheduler.step()"
   ]
  }
 ],
 "metadata": {
  "kernelspec": {
   "display_name": "Python 3",
   "language": "python",
   "name": "python3"
  },
  "language_info": {
   "codemirror_mode": {
    "name": "ipython",
    "version": 3
   },
   "file_extension": ".py",
   "mimetype": "text/x-python",
   "name": "python",
   "nbconvert_exporter": "python",
   "pygments_lexer": "ipython3",
   "version": "3.7.5"
  }
 },
 "nbformat": 4,
 "nbformat_minor": 4
}
