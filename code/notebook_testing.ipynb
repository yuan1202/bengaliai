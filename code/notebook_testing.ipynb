{
 "cells": [
  {
   "cell_type": "code",
   "execution_count": 1,
   "metadata": {},
   "outputs": [],
   "source": [
    "import os\n",
    "from collections import OrderedDict\n",
    "import numpy as np\n",
    "import pandas as pd\n",
    "from scipy import ndimage\n",
    "import random\n",
    "import bloscpack as bp\n",
    "\n",
    "import matplotlib.pyplot as plt\n",
    "import cv2\n",
    "import imgaug as ia\n",
    "import imgaug.augmenters as iaa\n",
    "\n",
    "import torch\n",
    "from torch import nn\n",
    "from torch.utils.data.dataloader import DataLoader\n",
    "from torchvision import transforms as pttf\n",
    "\n",
    "import fastai\n",
    "from fastai.vision import *\n",
    "\n",
    "# from optim import Over9000\n",
    "\n",
    "from data import Bengaliai_DS\n",
    "# from senet_mod import seresxt50\n",
    "# from models_mg import mdl_ResDenHybrid\n",
    "# from senet_mod import SENetMod\n",
    "\n",
    "# from model_utils import *\n",
    "\n",
    "# from senet_mod import se_resnext50_32x4d\n",
    "\n",
    "# from torchvision.models import densenet169"
   ]
  },
  {
   "cell_type": "code",
   "execution_count": 11,
   "metadata": {},
   "outputs": [],
   "source": [
    "from models_mg import mdl_res34_localpool"
   ]
  },
  {
   "cell_type": "code",
   "execution_count": 12,
   "metadata": {},
   "outputs": [],
   "source": [
    "a = mdl_res34_localpool()"
   ]
  },
  {
   "cell_type": "code",
   "execution_count": 14,
   "metadata": {},
   "outputs": [
    {
     "data": {
      "text/plain": [
       "<All keys matched successfully>"
      ]
     },
     "execution_count": 14,
     "metadata": {},
     "output_type": "execute_result"
    }
   ],
   "source": [
    "a.load_state_dict(torch.load('mdl_res34localpool_168168_lessaugs_mucm_fixed_adam_onecycle_fld3of5.pth'))"
   ]
  },
  {
   "cell_type": "code",
   "execution_count": 2,
   "metadata": {},
   "outputs": [],
   "source": [
    "from torchvision.models import densenet121, resnet34"
   ]
  },
  {
   "cell_type": "code",
   "execution_count": 2,
   "metadata": {},
   "outputs": [],
   "source": [
    "# a = resnet34()\n",
    "# b = densenet121()\n",
    "a = mdl_ResDenHybrid()"
   ]
  },
  {
   "cell_type": "raw",
   "metadata": {},
   "source": [
    "c = nn.Sequential(*list(b.features.children())[7:9])"
   ]
  },
  {
   "cell_type": "code",
   "execution_count": 4,
   "metadata": {},
   "outputs": [],
   "source": [
    "# b = torch.nn.Sequential(*list(list(a.children())[0].children())[5:-1])\n",
    "# b = torch.nn.Sequential(*list(a.children())[:-2])\n",
    "c = torch.nn.Sequential(*list(a.children())[:8])"
   ]
  },
  {
   "cell_type": "code",
   "execution_count": 3,
   "metadata": {},
   "outputs": [],
   "source": [
    "arr_in = torch.from_numpy(np.random.rand(10, 1, 128, 128)).float()"
   ]
  },
  {
   "cell_type": "code",
   "execution_count": 4,
   "metadata": {},
   "outputs": [
    {
     "data": {
      "text/plain": [
       "torch.Size([10, 168])"
      ]
     },
     "execution_count": 4,
     "metadata": {},
     "output_type": "execute_result"
    }
   ],
   "source": [
    "a(arr_in)[0].shape"
   ]
  },
  {
   "cell_type": "code",
   "execution_count": 8,
   "metadata": {},
   "outputs": [
    {
     "data": {
      "text/plain": [
       "torch.Size([10, 7])"
      ]
     },
     "execution_count": 8,
     "metadata": {},
     "output_type": "execute_result"
    }
   ],
   "source": [
    "b[2].shape"
   ]
  },
  {
   "cell_type": "code",
   "execution_count": 2,
   "metadata": {},
   "outputs": [],
   "source": [
    "trn_imgs = bp.unpack_ndarray_from_file('../features/train_images_raw_64112.bloscpack')\n",
    "# see preprocess notebook, it's shown that the train.csv data sequence is the same and can just load like this.\n",
    "trn_lbls = pd.read_csv('../input/train.csv').iloc[:, 1:4].values"
   ]
  },
  {
   "cell_type": "raw",
   "metadata": {},
   "source": [
    "amax = np.max(trn_imgs, axis=(1, 2))"
   ]
  },
  {
   "cell_type": "raw",
   "metadata": {},
   "source": [
    "np.argmin(amax)\n",
    "# 107778"
   ]
  },
  {
   "cell_type": "raw",
   "metadata": {},
   "source": [
    "plt.imshow(trn_imgs[np.argmin(amax)]>50)"
   ]
  },
  {
   "cell_type": "code",
   "execution_count": 3,
   "metadata": {},
   "outputs": [],
   "source": [
    "ndcs = iter(np.arange(trn_imgs.shape[0]))"
   ]
  },
  {
   "cell_type": "code",
   "execution_count": 10,
   "metadata": {},
   "outputs": [
    {
     "name": "stdout",
     "output_type": "stream",
     "text": [
      "6\n"
     ]
    },
    {
     "data": {
      "text/plain": [
       "<matplotlib.image.AxesImage at 0x7fa722e0ab10>"
      ]
     },
     "execution_count": 10,
     "metadata": {},
     "output_type": "execute_result"
    },
    {
     "data": {
      "image/png": "[encoded data removed]",
      "text/plain": [
       "<Figure size 432x288 with 1 Axes>"
      ]
     },
     "metadata": {
      "needs_background": "light"
     },
     "output_type": "display_data"
    }
   ],
   "source": [
    "ndx = next(ndcs)\n",
    "print(ndx)\n",
    "img = trn_imgs[ndx]\n",
    "plt.imshow(img)"
   ]
  },
  {
   "cell_type": "code",
   "execution_count": 6,
   "metadata": {},
   "outputs": [],
   "source": [
    "rows = np.any(img>50, axis=1)\n",
    "cols = np.any(img>5, axis=0)\n",
    "rmin, rmax = np.where(rows)[0][[0, -1]]\n",
    "cmin, cmax = np.where(cols)[0][[0, -1]]"
   ]
  },
  {
   "cell_type": "code",
   "execution_count": 10,
   "metadata": {},
   "outputs": [
    {
     "data": {
      "text/plain": [
       "167"
      ]
     },
     "execution_count": 10,
     "metadata": {},
     "output_type": "execute_result"
    }
   ],
   "source": [
    "cmax"
   ]
  },
  {
   "cell_type": "raw",
   "metadata": {},
   "source": [
    "augs = iaa.SomeOf(\n",
    "    (0, 2),\n",
    "    [\n",
    "        iaa.OneOf(\n",
    "            [\n",
    "                iaa.Affine(scale={\"x\": (0.85, 1.15), \"y\": (0.85, 1.15)}, rotate=(-20, 20), shear=(-20, 20)),\n",
    "                iaa.PerspectiveTransform(scale=.08, keep_size=True),\n",
    "            ]\n",
    "        ),\n",
    "        iaa.PiecewiseAffine(scale=0.03),\n",
    "    ],\n",
    "    random_order=True\n",
    ")tsfm = pttf.Compose(\n",
    "    [\n",
    "        pttf.ToPILImage(),\n",
    "        pttf.RandomChoice(\n",
    "            [\n",
    "                pttf.RandomAffine(degrees=15, scale=(.9, 1.1), shear=15, resample=3),\n",
    "                pttf.RandomPerspective(distortion_scale=0.5, p=1.),\n",
    "            ],\n",
    "        ),\n",
    "        pttf.ToTensor(),\n",
    "        pttf.RandomErasing(p=0.5, scale=(.05, .1), ratio=(0.3, 3.3), value=0, inplace=False),\n",
    "    ]\n",
    ")"
   ]
  },
  {
   "cell_type": "code",
   "execution_count": 61,
   "metadata": {},
   "outputs": [],
   "source": [
    "# augs = iaa.SomeOf(\n",
    "#     (1, 2),\n",
    "#     [\n",
    "#         iaa.OneOf(\n",
    "#             [\n",
    "#                 iaa.Affine(scale={\"x\": (0.85, 1.15), \"y\": (0.85, 1.15)}, rotate=(-20, 20), shear=(-20, 20)),\n",
    "#                 iaa.PerspectiveTransform(scale=.08, keep_size=True),\n",
    "#             ]\n",
    "#         ),\n",
    "#         iaa.PiecewiseAffine(scale=0.03),\n",
    "#     ],\n",
    "#     random_order=True\n",
    "# )\n",
    "# augs = iaa.Cutout(nb_iterations=1, position='uniform', size=0.8, squared=False, fill_mode='constant', cval=128)\n",
    "\n",
    "# augs= iaa.SomeOf(\n",
    "#     (0, 2),\n",
    "#     [\n",
    "#         iaa.Affine(scale={\"x\": (0.85, 1.15), \"y\": (0.85, 1.15)}, rotate=(-20, 20), shear=(-20, 20)), # , translate_percent={\"x\": (-.15, .15), \"y\": (-.15, .15)}\n",
    "#         iaa.PerspectiveTransform(scale=.1, keep_size=True),\n",
    "#     ],\n",
    "#     random_order=True\n",
    "# )\n",
    "\n",
    "# augs = iaa.OneOf(\n",
    "#     [\n",
    "#         iaa.Affine(\n",
    "#             scale={\"x\": (0.9, 1.1), \"y\": (0.9, 1.1)},\n",
    "#             rotate=(-10, 10),\n",
    "#             shear={'x': (-10, 10), 'y': (-10, 10)},\n",
    "#         ),\n",
    "#         iaa.PerspectiveTransform(scale=.08, keep_size=True),\n",
    "#     ]\n",
    "# )\n",
    "\n",
    "# augs = iaa.SomeOf(\n",
    "#     (0, 2),\n",
    "#     [\n",
    "#         iaa.OneOf(\n",
    "#             [\n",
    "#                 iaa.Affine(\n",
    "#                     scale={\"x\": (0.8, 1.), \"y\": (0.8, 1.)},\n",
    "#                     rotate=(-15, 15),\n",
    "#                     shear={'x': (-15, 15), 'y': (-15, 15)},\n",
    "#                 ),\n",
    "#                 iaa.PerspectiveTransform(scale=.08, keep_size=True),\n",
    "#             ]\n",
    "#         ),\n",
    "#         iaa.OneOf(\n",
    "#             [\n",
    "#                 iaa.BlendAlphaVerticalLinearGradient(iaa.TotalDropout(1.0), min_value=0.1, max_value=0.9), \n",
    "#                 iaa.BlendAlphaHorizontalLinearGradient(iaa.TotalDropout(1.0), min_value=0.1, max_value=0.9),\n",
    "#                 iaa.DirectedEdgeDetect(alpha=(.01, .99), direction=(0.0, 1.0)),\n",
    "#             ]\n",
    "#         ),\n",
    "#     ],\n",
    "#     random_order=True,\n",
    "# )\n",
    "\n",
    "augs = iaa.SomeOf(\n",
    "    (0, 2),\n",
    "    [\n",
    "        iaa.OneOf(\n",
    "            [\n",
    "                iaa.Affine(rotate=(-15, 15), shear={'x': (-10, 10), 'y': (-10, 10)}),\n",
    "                iaa.PerspectiveTransform(scale=.08, keep_size=True),\n",
    "            ]\n",
    "        ),\n",
    "        iaa.DirectedEdgeDetect(alpha=.1, direction=(0.0, 1.0)),\n",
    "    ],\n",
    "    random_order=True\n",
    ")\n",
    "\n",
    "\n",
    "# augs = iaa.PerspectiveTransform(scale=.08, keep_size=True)\n",
    "# augs = None"
   ]
  },
  {
   "cell_type": "code",
   "execution_count": 62,
   "metadata": {},
   "outputs": [],
   "source": [
    "test_ds = Bengaliai_DS(trn_imgs, trn_lbls, transform=augs)"
   ]
  },
  {
   "cell_type": "code",
   "execution_count": 5,
   "metadata": {},
   "outputs": [],
   "source": [
    "ndx_iter = iter(range(0, 50000))"
   ]
  },
  {
   "cell_type": "code",
   "execution_count": 81,
   "metadata": {},
   "outputs": [
    {
     "data": {
      "text/plain": [
       "<matplotlib.image.AxesImage at 0x7f3a51f97590>"
      ]
     },
     "execution_count": 81,
     "metadata": {},
     "output_type": "execute_result"
    },
    {
     "data": {
      "image/png": "[encoded data removed]",
      "text/plain": [
       "<Figure size 432x288 with 1 Axes>"
      ]
     },
     "metadata": {
      "needs_background": "light"
     },
     "output_type": "display_data"
    }
   ],
   "source": [
    "ndx = next(ndx_iter)\n",
    "tst_img, tst_lbl = test_ds[ndx]\n",
    "# tst_img = augs(image=tst_img.astype('uint8')[0])\n",
    "# tst_img = cv2.erode(tst_img, np.ones((2, 2), np.uint8), iterations=1)\n",
    "plt.imshow(tst_img[0])"
   ]
  },
  {
   "cell_type": "code",
   "execution_count": 5,
   "metadata": {},
   "outputs": [],
   "source": [
    "test_loader = DataLoader(test_ds, batch_size=64, num_workers=4, shuffle=True)"
   ]
  },
  {
   "cell_type": "code",
   "execution_count": 7,
   "metadata": {},
   "outputs": [],
   "source": [
    "for a_raw, b in test_loader:\n",
    "    break"
   ]
  },
  {
   "cell_type": "code",
   "execution_count": 9,
   "metadata": {},
   "outputs": [],
   "source": [
    "a = a_raw[:]"
   ]
  },
  {
   "cell_type": "code",
   "execution_count": 11,
   "metadata": {},
   "outputs": [],
   "source": [
    "from mixup_fastai_utils import random_half_FlantIndices"
   ]
  },
  {
   "cell_type": "code",
   "execution_count": 12,
   "metadata": {},
   "outputs": [],
   "source": [
    "ndcs, _ = random_half_FlantIndices(a.shape)"
   ]
  },
  {
   "cell_type": "code",
   "execution_count": 13,
   "metadata": {},
   "outputs": [],
   "source": [
    "ndcs = torch.from_numpy(ndcs)"
   ]
  },
  {
   "cell_type": "code",
   "execution_count": 14,
   "metadata": {},
   "outputs": [],
   "source": [
    "shuffle = torch.randperm(a.size(0)).to(a.device)\n",
    "a1 = a[shuffle]"
   ]
  },
  {
   "cell_type": "code",
   "execution_count": 15,
   "metadata": {},
   "outputs": [],
   "source": [
    "a.view(-1)[ndcs] = a1.view(-1)[ndcs]"
   ]
  },
  {
   "cell_type": "code",
   "execution_count": 16,
   "metadata": {},
   "outputs": [],
   "source": [
    "a_np = a.cpu().numpy()"
   ]
  },
  {
   "cell_type": "code",
   "execution_count": 17,
   "metadata": {},
   "outputs": [
    {
     "data": {
      "text/plain": [
       "(64, 1, 96, 96)"
      ]
     },
     "execution_count": 17,
     "metadata": {},
     "output_type": "execute_result"
    }
   ],
   "source": [
    "a_np.shape"
   ]
  },
  {
   "cell_type": "code",
   "execution_count": 127,
   "metadata": {},
   "outputs": [
    {
     "data": {
      "text/plain": [
       "<matplotlib.image.AxesImage at 0x7f28291a7a50>"
      ]
     },
     "execution_count": 127,
     "metadata": {},
     "output_type": "execute_result"
    },
    {
     "data": {
      "image/png": "[encoded data removed]",
      "text/plain": [
       "<Figure size 432x288 with 1 Axes>"
      ]
     },
     "metadata": {
      "needs_background": "light"
     },
     "output_type": "display_data"
    }
   ],
   "source": [
    "plt.imshow(a_np[random.randint(0, 63), 0])"
   ]
  },
  {
   "cell_type": "code",
   "execution_count": 138,
   "metadata": {},
   "outputs": [],
   "source": [
    "def grid_mask(image):\n",
    "    assert len(image.shape) == 2\n",
    "    h, w = img.shape\n",
    "\n",
    "    mask = np.zeros((h*2, w*2))\n",
    "\n",
    "    density_h = random.randint(h//8, h//4)\n",
    "    density_w = random.randint(w//8, w//4)\n",
    "    factor_h = random.randint(2, 3)\n",
    "    factor_w = random.randint(2, 3)\n",
    "\n",
    "    mask[::density_h, ::density_w] = 1\n",
    "\n",
    "    mask = cv2.dilate(mask, np.ones((density_h//factor_h, density_w//factor_w), np.uint8), iterations=1)\n",
    "\n",
    "    mask = np.round(ndimage.rotate(mask, random.randint(-10, 10), reshape=False))\n",
    "    \n",
    "    mask = mask[h//2:h+h//2, w//2:w+w//2]\n",
    "                    \n",
    "    return mask"
   ]
  },
  {
   "cell_type": "code",
   "execution_count": 1164,
   "metadata": {},
   "outputs": [
    {
     "name": "stdout",
     "output_type": "stream",
     "text": [
      "2.68 ms ± 13.3 µs per loop (mean ± std. dev. of 7 runs, 100 loops each)\n"
     ]
    }
   ],
   "source": [
    "%%timeit\n",
    "msk = grid_mask(img)"
   ]
  },
  {
   "cell_type": "code",
   "execution_count": 63,
   "metadata": {},
   "outputs": [
    {
     "data": {
      "text/plain": [
       "tensor(1.)"
      ]
     },
     "execution_count": 63,
     "metadata": {},
     "output_type": "execute_result"
    }
   ],
   "source": [
    "tsfm(img).max()"
   ]
  },
  {
   "cell_type": "code",
   "execution_count": 120,
   "metadata": {},
   "outputs": [
    {
     "data": {
      "text/plain": [
       "<matplotlib.image.AxesImage at 0x7ef9efc6f290>"
      ]
     },
     "execution_count": 120,
     "metadata": {},
     "output_type": "execute_result"
    },
    {
     "data": {
      "image/png": "[encoded data removed]",
      "text/plain": [
       "<Figure size 1008x504 with 2 Axes>"
      ]
     },
     "metadata": {
      "needs_background": "light"
     },
     "output_type": "display_data"
    }
   ],
   "source": [
    "img = trn_imgs[ndx]\n",
    "# img[:3, :] = 0\n",
    "# img[-3:, :] = 0\n",
    "# img[:, :3] = 0\n",
    "# img[:, -3:] = 0\n",
    "# k = np.ones((2, 2), np.uint8)\n",
    "# if random.randint(0, 1):\n",
    "#     img = cv2.dilate(img, k, iterations=1)\n",
    "# else:\n",
    "#     img = cv2.erode(img, k, iterations=1)\n",
    "img_aug = augs(image=img)\n",
    "# img_aug = tsfm(img).numpy().squeeze()\n",
    "# msk = grid_mask(img)\n",
    "# img_aug[msk == 1] = 0\n",
    "_, ax = plt.subplots(1, 2, figsize=(14, 7))\n",
    "ax[0].imshow(img)\n",
    "ax[1].imshow(img_aug)\n",
    "# ax[2].imshow(msk)"
   ]
  },
  {
   "cell_type": "code",
   "execution_count": 291,
   "metadata": {},
   "outputs": [],
   "source": [
    "kernel = np.ones((random.randint(2, 3), random.randint(2, 3)), np.uint8)"
   ]
  },
  {
   "cell_type": "code",
   "execution_count": 302,
   "metadata": {},
   "outputs": [],
   "source": [
    "if random.randint(0, 1):\n",
    "    print(1)"
   ]
  },
  {
   "cell_type": "code",
   "execution_count": 292,
   "metadata": {},
   "outputs": [
    {
     "data": {
      "text/plain": [
       "<matplotlib.image.AxesImage at 0x7ff0e6b639d0>"
      ]
     },
     "execution_count": 292,
     "metadata": {},
     "output_type": "execute_result"
    },
    {
     "data": {
      "image/png": "[encoded data removed]",
      "text/plain": [
       "<Figure size 1008x504 with 2 Axes>"
      ]
     },
     "metadata": {
      "needs_background": "light"
     },
     "output_type": "display_data"
    }
   ],
   "source": [
    "img = trn_imgs[ndx]\n",
    "# img_aug = cv2.erode(img, kernel, iterations=1)\n",
    "img_aug = cv2.dilate(img, kernel, iterations=1)\n",
    "# img_cln = cv2.adaptiveThreshold(img, 255, cv2.ADAPTIVE_THRESH_MEAN_C, cv2.THRESH_BINARY, 11, 2)\n",
    "# img_aug = augs(image=img)\n",
    "_, ax = plt.subplots(1, 2, figsize=(14, 7))\n",
    "ax[0].imshow(img)\n",
    "ax[1].imshow(img_aug)"
   ]
  },
  {
   "cell_type": "code",
   "execution_count": 2,
   "metadata": {},
   "outputs": [],
   "source": [
    "predictor = PretrainedCNN(out_dim=168+11+7)\n",
    "base_model = BengaliClassifier(predictor)"
   ]
  },
  {
   "cell_type": "code",
   "execution_count": 3,
   "metadata": {},
   "outputs": [],
   "source": [
    "a = list(predictor.children())"
   ]
  },
  {
   "cell_type": "code",
   "execution_count": null,
   "metadata": {},
   "outputs": [],
   "source": [
    "a[1].features"
   ]
  },
  {
   "cell_type": "code",
   "execution_count": 57,
   "metadata": {},
   "outputs": [
    {
     "data": {
      "text/plain": [
       "Sequential(\n",
       "  (0): LinearBlock(\n",
       "    (linear): Linear(in_features=2048, out_features=512, bias=True)\n",
       "    (bn): BatchNorm1d(512, eps=1e-05, momentum=0.1, affine=True, track_running_stats=True)\n",
       "  )\n",
       "  (1): LinearBlock(\n",
       "    (linear): Linear(in_features=512, out_features=186, bias=True)\n",
       "    (bn): BatchNorm1d(186, eps=1e-05, momentum=0.1, affine=True, track_running_stats=True)\n",
       "  )\n",
       ")"
      ]
     },
     "execution_count": 57,
     "metadata": {},
     "output_type": "execute_result"
    }
   ],
   "source": [
    "a[2]"
   ]
  },
  {
   "cell_type": "code",
   "execution_count": 44,
   "metadata": {},
   "outputs": [],
   "source": [
    "b = list(a[1].children())"
   ]
  },
  {
   "cell_type": "code",
   "execution_count": 59,
   "metadata": {},
   "outputs": [],
   "source": [
    "tst_mdl = torch.nn.Sequential(*b[:-2])"
   ]
  },
  {
   "cell_type": "code",
   "execution_count": 69,
   "metadata": {},
   "outputs": [],
   "source": [
    "tst_mdl_cls = torch.nn.Sequential(*([torch.nn.functional.] + b[-2:]))"
   ]
  },
  {
   "cell_type": "code",
   "execution_count": 75,
   "metadata": {},
   "outputs": [],
   "source": [
    "tst_mdl_all = torch.nn.Sequential(*b)"
   ]
  },
  {
   "cell_type": "code",
   "execution_count": 66,
   "metadata": {},
   "outputs": [],
   "source": [
    "c = np.random.rand(10, 3, 168, 168)"
   ]
  },
  {
   "cell_type": "code",
   "execution_count": 67,
   "metadata": {},
   "outputs": [],
   "source": [
    "d = tst_mdl(torch.from_numpy(c).float())"
   ]
  },
  {
   "cell_type": "code",
   "execution_count": 68,
   "metadata": {},
   "outputs": [
    {
     "data": {
      "text/plain": [
       "torch.Size([10, 2048, 6, 6])"
      ]
     },
     "execution_count": 68,
     "metadata": {},
     "output_type": "execute_result"
    }
   ],
   "source": [
    "d.shape"
   ]
  },
  {
   "cell_type": "code",
   "execution_count": 80,
   "metadata": {},
   "outputs": [
    {
     "data": {
      "text/plain": [
       "torch.Size([10, 3, 162, 162])"
      ]
     },
     "execution_count": 80,
     "metadata": {},
     "output_type": "execute_result"
    }
   ],
   "source": [
    "e = b[-2](torch.from_numpy(c).float())\n",
    "e.shape"
   ]
  },
  {
   "cell_type": "code",
   "execution_count": 94,
   "metadata": {},
   "outputs": [],
   "source": [
    "f = predictor.base_model.features(torch.from_numpy(c).float())"
   ]
  },
  {
   "cell_type": "code",
   "execution_count": 95,
   "metadata": {},
   "outputs": [
    {
     "data": {
      "text/plain": [
       "torch.Size([10, 2048, 6, 6])"
      ]
     },
     "execution_count": 95,
     "metadata": {},
     "output_type": "execute_result"
    }
   ],
   "source": [
    "f.shape"
   ]
  },
  {
   "cell_type": "markdown",
   "metadata": {},
   "source": [
    "---"
   ]
  },
  {
   "cell_type": "code",
   "execution_count": 67,
   "metadata": {},
   "outputs": [],
   "source": [
    "def rand_bboxes_FlantIndices(size, lam):\n",
    "    H = size[2]\n",
    "    W = size[3]\n",
    "    \n",
    "    index_addition = np.arange(size[0]) * H * W\n",
    "    \n",
    "    cut_ratios = np.sqrt(1. - lam)\n",
    "    cut_ws = np.round(W * cut_ratios).astype(int)\n",
    "    cut_hs = np.round(H * cut_ratios).astype(int)\n",
    "\n",
    "    # uniform\n",
    "    cx = np.random.randint(W, size=cut_ratios.shape[0])\n",
    "    cy = np.random.randint(H, size=cut_ratios.shape[0])\n",
    "\n",
    "    bbx0s = np.clip(cx - cut_ws // 2, 0, W)\n",
    "    bby0s = np.clip(cy - cut_hs // 2, 0, H)\n",
    "    bbx1s = np.clip(cx + cut_ws // 2, 0, W)\n",
    "    bby1s = np.clip(cy + cut_hs // 2, 0, H)\n",
    "    \n",
    "    multi_indices = [np.meshgrid(np.arange(x0, x1), np.arange(y0, y1)) for x0, x1, y0, y1 in zip(bbx0s, bbx1s, bby0s, bby1s)]\n",
    "    multi_indices_rvl = [np.ravel_multi_index(lst[::-1], (H, W)).flatten() for lst in multi_indices]\n",
    "    \n",
    "    boxes_in_flattened_indices = np.concatenate([index_r + addition for index_r, addition in zip(multi_indices_rvl, index_addition)])\n",
    "    new_lambda = 1 - ((bbx1s - bbx0s) * (bby1s - bby0s) / (H * W))\n",
    "    \n",
    "    return boxes_in_flattened_indices, new_lambda"
   ]
  },
  {
   "cell_type": "code",
   "execution_count": 99,
   "metadata": {},
   "outputs": [],
   "source": [
    "a = torch.from_numpy(np.zeros((64, 1, 128, 128)))\n",
    "b = torch.from_numpy(np.ones((64, 1, 128, 128)))"
   ]
  },
  {
   "cell_type": "code",
   "execution_count": null,
   "metadata": {},
   "outputs": [],
   "source": [
    "lambd = np.random.beta(self.alpha, self.alpha, last_target.size(0))"
   ]
  },
  {
   "cell_type": "code",
   "execution_count": 70,
   "metadata": {},
   "outputs": [],
   "source": [
    "shuffle = torch.randperm(a.size(0)).to(a.device)\n",
    "a_wip = a[shuffle]"
   ]
  },
  {
   "cell_type": "code",
   "execution_count": 71,
   "metadata": {},
   "outputs": [],
   "source": [
    "flattened_indices, lambd = rand_bboxes_FlantIndices(a.size(), lambd)"
   ]
  },
  {
   "cell_type": "code",
   "execution_count": 89,
   "metadata": {},
   "outputs": [
    {
     "data": {
      "text/plain": [
       "array([  10256,   10257,   10258,   10259, ..., 1045116, 1045117, 1045118, 1045119])"
      ]
     },
     "execution_count": 89,
     "metadata": {},
     "output_type": "execute_result"
    }
   ],
   "source": [
    "flattened_indices"
   ]
  },
  {
   "cell_type": "code",
   "execution_count": 103,
   "metadata": {},
   "outputs": [],
   "source": [
    "a_newview = a.view(-1)"
   ]
  },
  {
   "cell_type": "code",
   "execution_count": 104,
   "metadata": {},
   "outputs": [],
   "source": [
    "a_newview[torch.from_numpy(flattened_indices)] = b.view(-1)[torch.from_numpy(flattened_indices)]"
   ]
  },
  {
   "cell_type": "code",
   "execution_count": 95,
   "metadata": {},
   "outputs": [
    {
     "data": {
      "text/plain": [
       "tensor([0., 1.], dtype=torch.float64)"
      ]
     },
     "execution_count": 95,
     "metadata": {},
     "output_type": "execute_result"
    }
   ],
   "source": [
    "a_newview[10255:10257]"
   ]
  },
  {
   "cell_type": "code",
   "execution_count": 105,
   "metadata": {},
   "outputs": [],
   "source": [
    "c = a[0, 0].detach().numpy()"
   ]
  },
  {
   "cell_type": "code",
   "execution_count": 106,
   "metadata": {},
   "outputs": [
    {
     "data": {
      "text/plain": [
       "1.0"
      ]
     },
     "execution_count": 106,
     "metadata": {},
     "output_type": "execute_result"
    }
   ],
   "source": [
    "c.max()"
   ]
  },
  {
   "cell_type": "code",
   "execution_count": 107,
   "metadata": {},
   "outputs": [
    {
     "data": {
      "text/plain": [
       "<matplotlib.image.AxesImage at 0x7f6b40473a10>"
      ]
     },
     "execution_count": 107,
     "metadata": {},
     "output_type": "execute_result"
    },
    {
     "data": {
      "image/png": "[encoded data removed]",
      "text/plain": [
       "<Figure size 432x288 with 1 Axes>"
      ]
     },
     "metadata": {
      "needs_background": "light"
     },
     "output_type": "display_data"
    }
   ],
   "source": [
    "plt.imshow(c)"
   ]
  },
  {
   "cell_type": "code",
   "execution_count": 1,
   "metadata": {},
   "outputs": [],
   "source": [
    "W = H = 10"
   ]
  },
  {
   "cell_type": "code",
   "execution_count": 16,
   "metadata": {},
   "outputs": [],
   "source": [
    "index_addition = np.arange(15) * H * W"
   ]
  },
  {
   "cell_type": "code",
   "execution_count": 63,
   "metadata": {},
   "outputs": [
    {
     "data": {
      "text/plain": [
       "array([0.454367, 0.998082, 0.730278, 0.048381, 0.017645, 0.135105, 0.039587, 0.919232, 0.043179, 0.935284, 0.539664,\n",
       "       0.97293 , 0.306828, 0.022268, 0.013022])"
      ]
     },
     "execution_count": 63,
     "metadata": {},
     "output_type": "execute_result"
    }
   ],
   "source": [
    "lambd = np.random.beta(.4, .4, 15)\n",
    "lambd"
   ]
  },
  {
   "cell_type": "code",
   "execution_count": 5,
   "metadata": {},
   "outputs": [
    {
     "data": {
      "text/plain": [
       "array([0.556331, 0.78666 , 0.44614 , 0.621908, 0.298942, 0.966279, 0.890548, 0.006874, 0.996638, 0.964848, 0.898965,\n",
       "       0.017129, 0.968496, 0.596709, 0.346339])"
      ]
     },
     "execution_count": 5,
     "metadata": {},
     "output_type": "execute_result"
    }
   ],
   "source": [
    "cut_rat = np.sqrt(1. - lambd)\n",
    "cut_rat"
   ]
  },
  {
   "cell_type": "code",
   "execution_count": 8,
   "metadata": {},
   "outputs": [
    {
     "data": {
      "text/plain": [
       "array([ 6,  8,  4,  6,  3, 10,  9,  0, 10, 10,  9,  0, 10,  6,  3])"
      ]
     },
     "execution_count": 8,
     "metadata": {},
     "output_type": "execute_result"
    }
   ],
   "source": [
    "cut_w = np.round(W * cut_rat).astype(int)\n",
    "cut_h = np.round(H * cut_rat).astype(int)\n",
    "cut_w"
   ]
  },
  {
   "cell_type": "code",
   "execution_count": 9,
   "metadata": {},
   "outputs": [
    {
     "data": {
      "text/plain": [
       "array([8, 6, 7, 8, 5, 4, 6, 4, 0, 7, 0, 5, 5, 1, 6])"
      ]
     },
     "execution_count": 9,
     "metadata": {},
     "output_type": "execute_result"
    }
   ],
   "source": [
    "cx = np.random.randint(W, size=cut_rat.shape[0])\n",
    "cy = np.random.randint(H, size=cut_rat.shape[0])\n",
    "cx"
   ]
  },
  {
   "cell_type": "code",
   "execution_count": null,
   "metadata": {},
   "outputs": [],
   "source": [
    "bbx1 = np.clip(cx - cut_w // 2, 0, W)\n",
    "bby1 = np.clip(cy - cut_h // 2, 0, H)\n",
    "bbx2 = np.clip(cx + cut_w // 2, 0, W)\n",
    "bby2 = np.clip(cy + cut_h // 2, 0, H)"
   ]
  },
  {
   "cell_type": "code",
   "execution_count": 64,
   "metadata": {},
   "outputs": [],
   "source": [
    "lambd0 = 1 - ((bbx2 - bbx1) * (bby2 - bby1) / (H * W))"
   ]
  },
  {
   "cell_type": "code",
   "execution_count": 66,
   "metadata": {},
   "outputs": [
    {
     "data": {
      "text/plain": [
       "15"
      ]
     },
     "execution_count": 66,
     "metadata": {},
     "output_type": "execute_result"
    }
   ],
   "source": [
    "len(lambd0)"
   ]
  },
  {
   "cell_type": "code",
   "execution_count": 36,
   "metadata": {},
   "outputs": [
    {
     "name": "stdout",
     "output_type": "stream",
     "text": [
      "0 : \t 3 \t 9 \t 5 \t 10\n",
      "1 : \t 0 \t 4 \t 2 \t 10\n",
      "2 : \t 0 \t 4 \t 5 \t 9\n",
      "3 : \t 2 \t 8 \t 5 \t 10\n",
      "4 : \t 0 \t 2 \t 4 \t 6\n",
      "5 : \t 0 \t 9 \t 0 \t 9\n",
      "6 : \t 0 \t 8 \t 2 \t 10\n",
      "7 : \t 7 \t 7 \t 4 \t 4\n",
      "8 : \t 3 \t 10 \t 0 \t 5\n",
      "9 : \t 0 \t 6 \t 2 \t 10\n",
      "10 : \t 5 \t 10 \t 0 \t 4\n",
      "11 : \t 4 \t 4 \t 5 \t 5\n",
      "12 : \t 1 \t 10 \t 0 \t 10\n",
      "13 : \t 3 \t 9 \t 0 \t 4\n",
      "14 : \t 5 \t 7 \t 5 \t 7\n"
     ]
    }
   ],
   "source": [
    "for i, (y1, y2, x1, x2) in enumerate(zip(bby1, bby2, bbx1, bbx2)):\n",
    "    print(i, ':', '\\t', y1, '\\t', y2, '\\t', x1, '\\t', x2)"
   ]
  },
  {
   "cell_type": "code",
   "execution_count": 11,
   "metadata": {},
   "outputs": [],
   "source": [
    "multi_indices = [np.meshgrid(np.arange(x1, x2), np.arange(y1, y2)) for x1, x2, y1, y2 in zip(bbx1, bbx2, bby1, bby2)]"
   ]
  },
  {
   "cell_type": "code",
   "execution_count": 13,
   "metadata": {},
   "outputs": [
    {
     "data": {
      "text/plain": [
       "[array([[5, 6, 7, 8, 9],\n",
       "        [5, 6, 7, 8, 9],\n",
       "        [5, 6, 7, 8, 9],\n",
       "        [5, 6, 7, 8, 9],\n",
       "        [5, 6, 7, 8, 9],\n",
       "        [5, 6, 7, 8, 9]]), array([[3, 3, 3, 3, 3],\n",
       "        [4, 4, 4, 4, 4],\n",
       "        [5, 5, 5, 5, 5],\n",
       "        [6, 6, 6, 6, 6],\n",
       "        [7, 7, 7, 7, 7],\n",
       "        [8, 8, 8, 8, 8]])]"
      ]
     },
     "execution_count": 13,
     "metadata": {},
     "output_type": "execute_result"
    }
   ],
   "source": [
    "multi_indices[0]"
   ]
  },
  {
   "cell_type": "code",
   "execution_count": 14,
   "metadata": {},
   "outputs": [
    {
     "data": {
      "text/plain": [
       "array([35, 36, 37, 38, 39, 45, 46, 47, 48, 49, 55, 56, 57, 58, 59, 65, 66, 67, 68, 69, 75, 76, 77, 78, 79, 85, 86, 87,\n",
       "       88, 89])"
      ]
     },
     "execution_count": 14,
     "metadata": {},
     "output_type": "execute_result"
    }
   ],
   "source": [
    "np.ravel_multi_index(multi_indices[0][::-1], (H, W)).flatten()"
   ]
  },
  {
   "cell_type": "code",
   "execution_count": 15,
   "metadata": {},
   "outputs": [],
   "source": [
    "multi_indices_r = [np.ravel_multi_index(lst[::-1], (H, W)).flatten() for lst in multi_indices]"
   ]
  },
  {
   "cell_type": "code",
   "execution_count": 17,
   "metadata": {},
   "outputs": [],
   "source": [
    "flattened_indices = np.concatenate([indices_r + addition for indices_r, addition in zip(multi_indices_r, index_addition)])"
   ]
  },
  {
   "cell_type": "code",
   "execution_count": 18,
   "metadata": {},
   "outputs": [
    {
     "data": {
      "text/plain": [
       "array([  35,   36,   37,   38, ..., 1455, 1456, 1465, 1466])"
      ]
     },
     "execution_count": 18,
     "metadata": {},
     "output_type": "execute_result"
    }
   ],
   "source": [
    "flattened_indices"
   ]
  },
  {
   "cell_type": "code",
   "execution_count": 22,
   "metadata": {},
   "outputs": [],
   "source": [
    "aaa = np.zeros((15, 1, 10, 10))\n",
    "bbb = aaa.flatten()\n",
    "bbb[flattened_indices] = 1\n",
    "ccc = bbb.reshape(*aaa.shape)"
   ]
  },
  {
   "cell_type": "code",
   "execution_count": 35,
   "metadata": {},
   "outputs": [
    {
     "data": {
      "text/plain": [
       "<matplotlib.image.AxesImage at 0x7f6b42e94690>"
      ]
     },
     "execution_count": 35,
     "metadata": {},
     "output_type": "execute_result"
    },
    {
     "data": {
      "image/png": "[encoded data removed]",
      "text/plain": [
       "<Figure size 432x288 with 1 Axes>"
      ]
     },
     "metadata": {
      "needs_background": "light"
     },
     "output_type": "display_data"
    }
   ],
   "source": [
    "plt.imshow(ccc[2, 0])"
   ]
  },
  {
   "cell_type": "markdown",
   "metadata": {},
   "source": [
    "---"
   ]
  },
  {
   "cell_type": "code",
   "execution_count": 6,
   "metadata": {},
   "outputs": [],
   "source": [
    "SEED = 20190819\n",
    "\n",
    "def seed_everything(seed):\n",
    "    random.seed(seed)\n",
    "    os.environ['PYTHONHASHSEED'] = str(seed)\n",
    "    np.random.seed(seed)\n",
    "    torch.manual_seed(seed)\n",
    "    torch.cuda.manual_seed(seed)\n",
    "    torch.backends.cudnn.deterministic = True\n",
    "    torch.backends.cudnn.benchmark = True\n",
    "\n",
    "seed_everything(SEED)"
   ]
  },
  {
   "cell_type": "markdown",
   "metadata": {},
   "source": [
    "---\n",
    "### data"
   ]
  },
  {
   "cell_type": "raw",
   "metadata": {},
   "source": [
    "?DataBunch"
   ]
  },
  {
   "cell_type": "code",
   "execution_count": 2,
   "metadata": {},
   "outputs": [],
   "source": [
    "trn_imgs = bp.unpack_ndarray_from_file('../features/train_images_size128_pad0.bloscpack')\n",
    "# see preprocess notebook, it's shown that the train.csv data sequence is the same and can just load like this.\n",
    "trn_lbls = pd.read_csv('../input/train.csv').iloc[:, 1:4].values"
   ]
  },
  {
   "cell_type": "code",
   "execution_count": null,
   "metadata": {},
   "outputs": [],
   "source": []
  },
  {
   "cell_type": "code",
   "execution_count": 423,
   "metadata": {},
   "outputs": [],
   "source": [
    "augs = iaa.SomeOf(\n",
    "    (0, 3),\n",
    "    [\n",
    "        iaa.OneOf(\n",
    "            [\n",
    "                iaa.Affine(scale={\"x\": (0.8, 1.1), \"y\": (0.8, 1.1)}, rotate=(-15, 15), shear=(-15, 15)),\n",
    "                iaa.PiecewiseAffine(scale=(0.02, 0.03)),\n",
    "                iaa.PerspectiveTransform(scale=.09, keep_size=True),\n",
    "            ]\n",
    "        ),\n",
    "        iaa.GaussianBlur(sigma=(0.5, 1.)),\n",
    "#         iaa.OneOf(\n",
    "#             [\n",
    "#                 iaa.GaussianBlur(sigma=(0.5, 1.)),\n",
    "#                 iaa.MotionBlur(k=(7, 13), angle=[-45, 45]),\n",
    "#                 iaa.MedianBlur(k=(3, 5)),\n",
    "#             ]\n",
    "#         ),\n",
    "        iaa.OneOf(\n",
    "            [\n",
    "                iaa.DirectedEdgeDetect(alpha=(.6, .8), direction=(0.0, 1.0)),\n",
    "                iaa.Emboss(alpha=(.5, 1.), strength=(.1, 4)),\n",
    "            ]\n",
    "        ),\n",
    "#         iaa.CoarseDropout((0.05, 0.15), size_percent=(0.15, 0.35)),\n",
    "#         iaa.Fog(),\n",
    "    ],\n",
    "    random_order=True\n",
    ")"
   ]
  },
  {
   "cell_type": "code",
   "execution_count": 24,
   "metadata": {},
   "outputs": [],
   "source": [
    "import cv2"
   ]
  },
  {
   "cell_type": "code",
   "execution_count": 420,
   "metadata": {},
   "outputs": [
    {
     "data": {
      "text/plain": [
       "<matplotlib.image.AxesImage at 0x7f3c6ef0fed0>"
      ]
     },
     "execution_count": 420,
     "metadata": {},
     "output_type": "execute_result"
    },
    {
     "data": {
      "image/png": "[encoded data removed]",
      "text/plain": [
       "<Figure size 864x432 with 2 Axes>"
      ]
     },
     "metadata": {
      "needs_background": "light"
     },
     "output_type": "display_data"
    }
   ],
   "source": [
    "# kernel = np.ones((3, 3), np.uint8)\n",
    "# def augs(image): return cv2.erode(image, kernel, iterations=1)\n",
    "augs = iaa.Superpixels(p_replace=0.1, n_segments=(64, 256))\n",
    "img_arr = training_set[2048][0][0][0]\n",
    "# img_arr = np.stack([img_arr, img_arr, img_arr], -1)\n",
    "# img_arr = img_arr[np.newaxis, :]\n",
    "fig, ax = plt.subplots(1, 2, figsize=(12, 6))\n",
    "aug_img = augs(image=img_arr.astype('uint8'))\n",
    "ax[0].imshow(img_arr.astype('uint8'))\n",
    "ax[1].imshow(aug_img)"
   ]
  },
  {
   "cell_type": "code",
   "execution_count": 3,
   "metadata": {},
   "outputs": [],
   "source": [
    "training_set = Bengaliai_DS(trn_imgs[:160000, np.newaxis], trn_lbls[:160000], transform=None, scale=False, norm=False)\n",
    "# validation_set = DS_TRN(trn_imgs[160000:, np.newaxis], trn_lbls[160000:])\n",
    "\n",
    "# training_loader = DataLoader(training_set, batch_size=64, shuffle=True, num_workers=4)\n",
    "# validation_loader = DataLoader(validation_set, batch_size=64, shuffle=False, num_workers=4)\n",
    "\n",
    "# dat_bunch = DataBunch(train_dl=training_loader, valid_dl=validation_loader)"
   ]
  },
  {
   "cell_type": "raw",
   "metadata": {},
   "source": [
    "a = dat_bunch.one_batch()\n",
    "plt.imshow(a[0][0][0])"
   ]
  },
  {
   "cell_type": "raw",
   "metadata": {},
   "source": [
    "sz = 128\n",
    "bs = 128\n",
    "nfolds = 4 #keep the same split as the initial dataset\n",
    "fold = 0\n",
    "\n",
    "\n",
    "TRAIN = '../features/grapheme-imgs-128x128/'\n",
    "LABELS = '../input/train.csv'"
   ]
  },
  {
   "cell_type": "raw",
   "metadata": {},
   "source": [
    "df = pd.read_csv(LABELS)\n",
    "nunique = list(df.nunique())[1:-1]\n",
    "\n",
    "stats = ([0.0692], [0.2051])\n",
    "data = (ImageList.from_df(df, path='.', folder=TRAIN, suffix='.png', \n",
    "        cols='image_id', convert_mode='L')\n",
    "        .split_by_idx(range(fold*len(df)//nfolds,(fold+1)*len(df)//nfolds))\n",
    "        .label_from_df(cols=['grapheme_root','vowel_diacritic','consonant_diacritic'])\n",
    "        .transform(get_transforms(do_flip=False,max_warp=0.1), size=sz, padding_mode='zeros')\n",
    "        .databunch(bs=bs)).normalize(stats)\n",
    "\n",
    "data.show_batch()"
   ]
  },
  {
   "cell_type": "markdown",
   "metadata": {},
   "source": [
    "---\n",
    "### model"
   ]
  },
  {
   "cell_type": "code",
   "execution_count": 9,
   "metadata": {},
   "outputs": [],
   "source": [
    "device = 'cuda:0'\n",
    "n_grapheme = 168\n",
    "n_vowel = 11\n",
    "n_consonant = 7\n",
    "n_total = n_grapheme + n_vowel + n_consonant"
   ]
  },
  {
   "cell_type": "code",
   "execution_count": 10,
   "metadata": {},
   "outputs": [],
   "source": [
    "predictor = PretrainedCNN(out_dim=n_total)\n",
    "classifier = BengaliClassifier(predictor)#.to(device)"
   ]
  },
  {
   "cell_type": "raw",
   "metadata": {},
   "source": [
    "a = np.random.rand(10, 1, 128, 128).astype('float32')\n",
    "b = classifier(torch.from_numpy(a).to(device))"
   ]
  },
  {
   "cell_type": "raw",
   "metadata": {},
   "source": [
    "classifier = Dnet_1ch()"
   ]
  },
  {
   "cell_type": "code",
   "execution_count": 11,
   "metadata": {},
   "outputs": [],
   "source": [
    "learn = Learner(\n",
    "    dat_bunch,\n",
    "    classifier,\n",
    "    loss_func=Loss_combine(),\n",
    "    opt_func=Over9000,\n",
    "    metrics=[Metric_grapheme(), Metric_vowel(), Metric_consonant(),Metric_tot()]\n",
    ")\n",
    "\n",
    "logger = CSVLogger(learn, 'Seresnext_DensenetStarterSetup_Myaugs')\n",
    "\n",
    "learn.clip_grad = 1.0\n",
    "learn.split([classifier.predictor.lin_layers])\n",
    "# learn.split([classifier.head1])\n",
    "learn.unfreeze()"
   ]
  },
  {
   "cell_type": "raw",
   "metadata": {},
   "source": [
    "learn.summary()"
   ]
  },
  {
   "cell_type": "raw",
   "metadata": {},
   "source": [
    "learn.fit_one_cycle(\n",
    "    32,\n",
    "    max_lr=slice(0.2e-2,1e-2),\n",
    "    wd=[1e-3, 0.1e-1],\n",
    "    pct_start=0.0,\n",
    "    div_factor=100,\n",
    "    callbacks=[logger, SaveModelCallback(learn,monitor='metric_tot', mode='max', name='Seresnext_DensenetStarterSetup_Myaugs'), MixUpCallback(learn)]\n",
    ")"
   ]
  }
 ],
 "metadata": {
  "kernelspec": {
   "display_name": "Python 3",
   "language": "python",
   "name": "python3"
  },
  "language_info": {
   "codemirror_mode": {
    "name": "ipython",
    "version": 3
   },
   "file_extension": ".py",
   "mimetype": "text/x-python",
   "name": "python",
   "nbconvert_exporter": "python",
   "pygments_lexer": "ipython3",
   "version": "3.7.6"
  }
 },
 "nbformat": 4,
 "nbformat_minor": 4
}
